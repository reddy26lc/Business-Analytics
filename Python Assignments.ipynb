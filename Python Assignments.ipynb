{
 "cells": [
  {
   "cell_type": "markdown",
   "metadata": {},
   "source": [
    "#### Assignment 1\n",
    "\n",
    "##### 1.\tWrite a Python program to find those numbers which are divisible by 7 and multiple of 5, between 1500 and 2700 (both included)."
   ]
  },
  {
   "cell_type": "code",
   "execution_count": 2,
   "metadata": {},
   "outputs": [
    {
     "name": "stdout",
     "output_type": "stream",
     "text": [
      "1505,1540,1575,1610,1645,1680,1715,1750,1785,1820,1855,1890,1925,1960,1995,2030,2065,2100,2135,2170,2205,2240,2275,2310,2345,2380,2415,2450,2485,2520,2555,2590,2625,2660,2695\n"
     ]
    }
   ],
   "source": [
    "numbers = []\n",
    "for num in range(1500,2700):\n",
    "    if num % 7 == 0 and num % 5 ==0:\n",
    "        numbers.append(str(num))\n",
    "\n",
    "print(\",\".join(numbers))\n",
    "    \n",
    "    \n",
    "    "
   ]
  },
  {
   "cell_type": "markdown",
   "metadata": {},
   "source": [
    "##### 2.\tPython program to add two numbers."
   ]
  },
  {
   "cell_type": "code",
   "execution_count": 7,
   "metadata": {},
   "outputs": [
    {
     "name": "stdout",
     "output_type": "stream",
     "text": [
      "75\n",
      "-12\n"
     ]
    }
   ],
   "source": [
    "def numbers(n1,n2):\n",
    "    sum = n1 + n2\n",
    "    return (sum)\n",
    "    \n",
    "print(numbers(30,45))\n",
    "print(numbers(78,-90))"
   ]
  },
  {
   "cell_type": "markdown",
   "metadata": {},
   "source": [
    "##### 3.\tMaximum of two numbers in Python."
   ]
  },
  {
   "cell_type": "code",
   "execution_count": 8,
   "metadata": {},
   "outputs": [
    {
     "name": "stdout",
     "output_type": "stream",
     "text": [
      "97\n",
      "-54\n"
     ]
    }
   ],
   "source": [
    "def nums(num1, num2):\n",
    "    if num1 > num2:\n",
    "        return num1\n",
    "    else:\n",
    "        return num2\n",
    "    \n",
    "print(nums(88,97))\n",
    "print(nums(-67,-54))"
   ]
  },
  {
   "cell_type": "markdown",
   "metadata": {},
   "source": [
    "##### 4.\tPython Program for factorial of a number."
   ]
  },
  {
   "cell_type": "code",
   "execution_count": 11,
   "metadata": {},
   "outputs": [
    {
     "name": "stdout",
     "output_type": "stream",
     "text": [
      "Enter a number: 10\n",
      "3628800\n"
     ]
    }
   ],
   "source": [
    "number = int(input(\"Enter a number: \"))\n",
    "def factorial(number):\n",
    "    if number == 0:\n",
    "        return 1\n",
    "    else:\n",
    "        return number * factorial(number - 1)\n",
    "\n",
    "print(factorial(number))\n",
    "   "
   ]
  },
  {
   "cell_type": "markdown",
   "metadata": {},
   "source": [
    "##### 5.\tPython Program for simple interest"
   ]
  },
  {
   "cell_type": "code",
   "execution_count": 16,
   "metadata": {},
   "outputs": [
    {
     "name": "stdout",
     "output_type": "stream",
     "text": [
      "The Simple Interest is: 100.0\n"
     ]
    }
   ],
   "source": [
    "def SI(p,t,r):\n",
    "    return (p*t*r/100)\n",
    "\n",
    "print(\"The Simple Interest is:\", SI(100,1,100))"
   ]
  },
  {
   "cell_type": "markdown",
   "metadata": {},
   "source": [
    "##### 6.\tPython Program for compound interest"
   ]
  },
  {
   "cell_type": "code",
   "execution_count": 28,
   "metadata": {},
   "outputs": [
    {
     "name": "stdout",
     "output_type": "stream",
     "text": [
      "The Compound Interest is: 10.46\n"
     ]
    }
   ],
   "source": [
    "def Comp_Int(principle, rate, time):\n",
    "    Amt = principle * (pow((1 + rate / 100), time))\n",
    "    CI = Amt - principle\n",
    "    return CI \n",
    "\n",
    "print(\"The Compound Interest is:\", round(Comp_Int(100,1,10),2))"
   ]
  },
  {
   "cell_type": "markdown",
   "metadata": {},
   "source": [
    "##### 7.\tPython Program to check Armstrong Number\n",
    "A number is said to be Armstrong’s number if the sum of that number each digit which is raised to the power of total digits present in that number is equal to the number itself."
   ]
  },
  {
   "cell_type": "code",
   "execution_count": 41,
   "metadata": {},
   "outputs": [
    {
     "name": "stdout",
     "output_type": "stream",
     "text": [
      "Enter any number: 123\n",
      "123 is not an Armstrong number\n"
     ]
    }
   ],
   "source": [
    "any_number = input(\"Enter any number: \")\n",
    "digits = len(any_number)\n",
    "#sums = 0\n",
    "for i in any_number:\n",
    "    sums += int(i)**digits\n",
    "if any_number == int(sums):\n",
    "   print(any_number + \" is an Armstrong number\")\n",
    "else:\n",
    "   print(any_number + \" is not an Armstrong number\")\n",
    "        \n"
   ]
  },
  {
   "cell_type": "markdown",
   "metadata": {},
   "source": [
    "##### 8.\tPython Program for Program to find area of a circle"
   ]
  },
  {
   "cell_type": "code",
   "execution_count": 44,
   "metadata": {},
   "outputs": [
    {
     "name": "stdout",
     "output_type": "stream",
     "text": [
      "Area of the circle is  50.27\n"
     ]
    }
   ],
   "source": [
    "from math import pi\n",
    "def area(radius):\n",
    "    area = pi * radius**2\n",
    "    return area\n",
    "print(\"Area of the circle is \", round(area(4),2))"
   ]
  },
  {
   "cell_type": "markdown",
   "metadata": {},
   "source": [
    "##### 9.\tPython program to print all Prime numbers in an Interval"
   ]
  },
  {
   "cell_type": "code",
   "execution_count": 46,
   "metadata": {},
   "outputs": [
    {
     "name": "stdout",
     "output_type": "stream",
     "text": [
      "Enter a starting number: 12\n",
      "Enter an ending number: 34\n",
      "13\n",
      "17\n",
      "19\n",
      "23\n",
      "29\n",
      "31\n"
     ]
    }
   ],
   "source": [
    "start = int(input(\"Enter a starting number: \"))\n",
    "end = int(input(\"Enter an ending number: \"))\n",
    "\n",
    "for i in range(start, end+1):\n",
    "      if i>1:\n",
    "        for j in range(2,i):\n",
    "            if(i % j==0):\n",
    "                break\n",
    "        else:\n",
    "             print(i)\n",
    "                \n",
    "         "
   ]
  },
  {
   "cell_type": "markdown",
   "metadata": {},
   "source": [
    "##### 10. Python program to check whether a number is Prime or not"
   ]
  },
  {
   "cell_type": "code",
   "execution_count": 52,
   "metadata": {},
   "outputs": [
    {
     "name": "stdout",
     "output_type": "stream",
     "text": [
      "10 is a primer number\n"
     ]
    }
   ],
   "source": [
    "def prime_num(n):\n",
    "    if n> 1:\n",
    "        for i in range(2,int(n)):\n",
    "            if (n % i) ==0:\n",
    "                print(n, \"is a primer number\")\n",
    "                break\n",
    "        else:\n",
    "            print(n, \"is not a prime number\")\n",
    "\n",
    "prime_num(10)"
   ]
  },
  {
   "cell_type": "code",
   "execution_count": null,
   "metadata": {},
   "outputs": [],
   "source": []
  }
 ],
 "metadata": {
  "kernelspec": {
   "display_name": "Python 3",
   "language": "python",
   "name": "python3"
  },
  "language_info": {
   "codemirror_mode": {
    "name": "ipython",
    "version": 3
   },
   "file_extension": ".py",
   "mimetype": "text/x-python",
   "name": "python",
   "nbconvert_exporter": "python",
   "pygments_lexer": "ipython3",
   "version": "3.7.3"
  }
 },
 "nbformat": 4,
 "nbformat_minor": 2
}
