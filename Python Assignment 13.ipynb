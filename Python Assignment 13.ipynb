{
 "cells": [
  {
   "cell_type": "markdown",
   "metadata": {},
   "source": [
    "##### 1.\tPython – Join Tuples if similar initial element"
   ]
  },
  {
   "cell_type": "code",
   "execution_count": 1,
   "metadata": {},
   "outputs": [
    {
     "name": "stdout",
     "output_type": "stream",
     "text": [
      "The original list is : [(5, 6), (5, 7), (6, 8), (6, 10), (7, 13)]\n",
      "The extracted elements : [(5, 6, 7), (6, 8, 10), (7, 13)]\n"
     ]
    }
   ],
   "source": [
    "test_list = [(5, 6), (5, 7), (6, 8), (6, 10), (7, 13)]\n",
    "  \n",
    "# printing original list\n",
    "print(\"The original list is : \" + str(test_list))\n",
    "  \n",
    "# Join Tuples if similar initial element\n",
    "# Using loop\n",
    "res = []\n",
    "for sub in test_list:                                           \n",
    "    if res and res[-1][0] == sub[0]:              \n",
    "        res[-1].extend(sub[1:])                        \n",
    "    else:\n",
    "        res.append([ele for ele in sub])     \n",
    "res = list(map(tuple, res))\n",
    "  \n",
    "# printing result \n",
    "print(\"The extracted elements : \" + str(res)) "
   ]
  },
  {
   "cell_type": "markdown",
   "metadata": {},
   "source": [
    "##### 2.\tPython – Extract digits from Tuple list"
   ]
  },
  {
   "cell_type": "code",
   "execution_count": 2,
   "metadata": {},
   "outputs": [
    {
     "name": "stdout",
     "output_type": "stream",
     "text": [
      "The original list is : [(15, 3), (3, 9), (1, 10), (99, 2)]\n",
      "The extrated digits : {'3', '1', '0', '5', '9', '2'}\n"
     ]
    }
   ],
   "source": [
    "from itertools import chain\n",
    "  \n",
    "# initializing list\n",
    "test_list = [(15, 3), (3, 9), (1, 10), (99, 2)]\n",
    "  \n",
    "# printing original list\n",
    "print(\"The original list is : \" + str(test_list))\n",
    "  \n",
    "# Extract digits from Tuple list\n",
    "# Using map() + chain.from_iterable() + set() + loop\n",
    "temp = map(lambda ele: str(ele), chain.from_iterable(test_list))\n",
    "res = set()\n",
    "for sub in temp:\n",
    "    for ele in sub:\n",
    "        res.add(ele)\n",
    "  \n",
    "# printing result \n",
    "print(\"The extrated digits : \" + str(res)) "
   ]
  },
  {
   "cell_type": "markdown",
   "metadata": {},
   "source": [
    "##### 3.\tPython – All pair combinations of 2 tuples"
   ]
  },
  {
   "cell_type": "code",
   "execution_count": 3,
   "metadata": {},
   "outputs": [
    {
     "name": "stdout",
     "output_type": "stream",
     "text": [
      "The original tuple 1 : (4, 5)\n",
      "The original tuple 2 : (7, 8)\n",
      "The filtered tuple : [(4, 7), (4, 8), (5, 7), (5, 8), (7, 4), (7, 5), (8, 4), (8, 5)]\n"
     ]
    }
   ],
   "source": [
    "test_tuple1 = (4, 5)\n",
    "test_tuple2 = (7, 8)\n",
    "  \n",
    "# printing original tuples\n",
    "print(\"The original tuple 1 : \" + str(test_tuple1))\n",
    "print(\"The original tuple 2 : \" + str(test_tuple2))\n",
    "  \n",
    "# All pair combinations of 2 tuples\n",
    "# Using list comprehension\n",
    "res =  [(a, b) for a in test_tuple1 for b in test_tuple2]\n",
    "res = res +  [(a, b) for a in test_tuple2 for b in test_tuple1]\n",
    "  \n",
    "# printing result \n",
    "print(\"The filtered tuple : \" + str(res))"
   ]
  },
  {
   "cell_type": "markdown",
   "metadata": {},
   "source": [
    "##### 4.\tPython – Remove Tuples of Length K"
   ]
  },
  {
   "cell_type": "code",
   "execution_count": 4,
   "metadata": {},
   "outputs": [
    {
     "name": "stdout",
     "output_type": "stream",
     "text": [
      "The list is : \n",
      "[(32, 51), (22, 13), (94, 65, 77), (70,), (80, 61, 13, 17)]\n",
      "The value of K is \n",
      "1\n",
      "The filtered list is : \n",
      "[(32, 51), (22, 13), (94, 65, 77), (80, 61, 13, 17)]\n"
     ]
    }
   ],
   "source": [
    "my_list = [(32, 51), (22,13 ), (94, 65, 77), (70, ), (80, 61, 13, 17)]\n",
    "\n",
    "print(\"The list is : \" )\n",
    "print(my_list)\n",
    "\n",
    "K = 1\n",
    "print(\"The value of K is \")\n",
    "print(K)\n",
    "my_result = [ele for ele in my_list if len(ele) != K]\n",
    "\n",
    "print(\"The filtered list is : \")\n",
    "print(my_result)"
   ]
  },
  {
   "cell_type": "markdown",
   "metadata": {},
   "source": [
    "##### 5.\tSort a list of tuples by second Item"
   ]
  },
  {
   "cell_type": "code",
   "execution_count": 6,
   "metadata": {},
   "outputs": [
    {
     "name": "stdout",
     "output_type": "stream",
     "text": [
      "[('Python assignment section', 5), ('is', 10), ('a', 15), ('ineuron', 20), ('for', 24), ('Python', 28)]\n"
     ]
    }
   ],
   "source": [
    "def Sort_Tuple(tup): \n",
    "      \n",
    "    # getting length of list of tuples\n",
    "    lst = len(tup) \n",
    "    for i in range(0, lst): \n",
    "          \n",
    "        for j in range(0, lst-i-1): \n",
    "            if (tup[j][1] > tup[j + 1][1]): \n",
    "                temp = tup[j] \n",
    "                tup[j]= tup[j + 1] \n",
    "                tup[j + 1]= temp \n",
    "    return tup \n",
    "  \n",
    "# Driver Code \n",
    "tup =[('for', 24), ('is', 10), ('Python', 28), \n",
    "      ('Python assignment section', 5), ('ineuron', 20), ('a', 15)] \n",
    "        \n",
    "print(Sort_Tuple(tup))"
   ]
  },
  {
   "cell_type": "markdown",
   "metadata": {},
   "source": [
    "###### 6.\tPython program to Order Tuples using external List"
   ]
  },
  {
   "cell_type": "code",
   "execution_count": 11,
   "metadata": {},
   "outputs": [
    {
     "name": "stdout",
     "output_type": "stream",
     "text": [
      "The original list is : [('Gfg', 3), ('best', 9), ('CS', 10), ('Geeks', 2)]\n",
      "The ordered tuple list : [('Geeks', 2), ('best', 9), ('CS', 10), ('Gfg', 3)]\n"
     ]
    }
   ],
   "source": [
    "test_list = [('Gfg', 3), ('best', 9), ('CS', 10), ('Geeks', 2)]\n",
    "  \n",
    "# printing original list\n",
    "print(\"The original list is : \" + str(test_list))\n",
    "  \n",
    "# initializing order list \n",
    "ord_list = ['Geeks', 'best', 'CS', 'Gfg']\n",
    "  \n",
    "# Order Tuples by List\n",
    "# Using setdefault() + sorted() + lambda\n",
    "temp = dict()\n",
    "for key, ele in enumerate(ord_list):\n",
    "    temp.setdefault(ele, []).append(key)       \n",
    "res = sorted(test_list, key = lambda ele: temp[ele[0]].pop())  \n",
    "  \n",
    "# printing result \n",
    "print(\"The ordered tuple list : \" + str(res)) "
   ]
  },
  {
   "cell_type": "markdown",
   "metadata": {},
   "source": [
    "##### 7.\tPython – Flatten tuple of List to tuple"
   ]
  },
  {
   "cell_type": "code",
   "execution_count": 12,
   "metadata": {},
   "outputs": [
    {
     "name": "stdout",
     "output_type": "stream",
     "text": [
      "The original tuple : ([5, 6], [6, 7, 8, 9], [3])\n",
      "The flattened tuple : (5, 6, 6, 7, 8, 9, 3)\n"
     ]
    }
   ],
   "source": [
    "# initializing tuple\n",
    "test_tuple = ([5, 6], [6, 7, 8, 9], [3])\n",
    "  \n",
    "# printing original tuple\n",
    "print(\"The original tuple : \" + str(test_tuple))\n",
    "  \n",
    "# Flatten tuple of List to tuple\n",
    "# Using sum() + tuple()\n",
    "res = tuple(sum(test_tuple, []))\n",
    "  \n",
    "# printing result \n",
    "print(\"The flattened tuple : \" + str(res))"
   ]
  },
  {
   "cell_type": "markdown",
   "metadata": {},
   "source": [
    "##### 8.\tPython – Convert Nested Tuple to Custom Key Dictionary"
   ]
  },
  {
   "cell_type": "code",
   "execution_count": 14,
   "metadata": {},
   "outputs": [
    {
     "name": "stdout",
     "output_type": "stream",
     "text": [
      "The original tuple : ((4, 'Gfg', 10), (3, 'is', 8), (6, 'Best', 10))\n",
      "The converted dictionary : [{'key': 4, 'value': 'Gfg', 'id': 10}, {'key': 3, 'value': 'is', 'id': 8}, {'key': 6, 'value': 'Best', 'id': 10}]\n"
     ]
    }
   ],
   "source": [
    "test_tuple = ((4, 'Gfg', 10), (3, 'is', 8), (6, 'Best', 10))\n",
    "  \n",
    "# printing original tuple\n",
    "print(\"The original tuple : \" + str(test_tuple))\n",
    "  \n",
    "# Convert Nested Tuple to Custom Key Dictionary\n",
    "# Using list comprehension + dictionary comprehension\n",
    "res = [{'key': sub[0], 'value': sub[1], 'id': sub[2]} \n",
    "                               for sub in test_tuple]\n",
    "  \n",
    "# printing result \n",
    "print(\"The converted dictionary : \" + str(res))"
   ]
  },
  {
   "cell_type": "markdown",
   "metadata": {},
   "source": [
    "##### 9.\tPython Program for Binary Search (Recursive and Iterative)"
   ]
  },
  {
   "cell_type": "code",
   "execution_count": 22,
   "metadata": {},
   "outputs": [
    {
     "name": "stdout",
     "output_type": "stream",
     "text": [
      "234\n",
      "456\n",
      "53\n",
      "-1\n"
     ]
    }
   ],
   "source": [
    "## ITERATIVE BINARY SEARCH\n",
    "# considered edge cases: 1. input value doesn't exist in the array, 2. empty array,\n",
    "in_value = int(input())\n",
    "_ = input()\n",
    "in_array = [int(i) for i in input().split()]\n",
    "def binary_search(value, array):\n",
    "    low, high = 0, len(array)-1\n",
    "    while low <= high:\n",
    "        mid = low + (high - low) // 2\n",
    "        mid_value = array[mid]\n",
    "        if mid_value == value:\n",
    "            return mid\n",
    "        elif mid_value < value:\n",
    "            low = mid + 1\n",
    "        else:\n",
    "            high = mid - 1\n",
    "    return -1\n",
    "print(binary_search(in_value, in_array))"
   ]
  },
  {
   "cell_type": "code",
   "execution_count": 23,
   "metadata": {},
   "outputs": [
    {
     "name": "stdout",
     "output_type": "stream",
     "text": [
      "781\n",
      "323\n",
      "13\n",
      "-1\n"
     ]
    }
   ],
   "source": [
    "## RECURSIVE BINARY SEARCH\n",
    "# considered edge cases: 1. input value doesn't exist in the array, 2. empty array,\n",
    "in_value = int(input())\n",
    "_ = input()\n",
    "in_array = [int(i) for i in input().split()]\n",
    "def binary_search(value, array):\n",
    "    if len(array) < 1:\n",
    "        return -1\n",
    "    return binary_search_helper(value, array, 0, len(array)-1)\n",
    "\n",
    "def binary_search_helper(value, array, low, high):\n",
    "    if low > high:\n",
    "        return -1\n",
    "    \n",
    "    mid = low + (high - low) // 2\n",
    "    mid_value = array[mid]\n",
    "    if mid_value == value:\n",
    "        return mid\n",
    "    elif mid_value < value:\n",
    "        return binary_search_helper(value, array, mid + 1, high)\n",
    "    else:\n",
    "        return binary_search_helper(value, array, low, mid - 1)\n",
    "    \n",
    "print(binary_search(in_value, in_array))"
   ]
  },
  {
   "cell_type": "markdown",
   "metadata": {},
   "source": [
    "##### 10.\tPython Program for Linear Search"
   ]
  },
  {
   "cell_type": "code",
   "execution_count": 24,
   "metadata": {},
   "outputs": [],
   "source": [
    "def search(arr, x):\n",
    "  \n",
    "    for i in range(len(arr)):\n",
    "  \n",
    "        if arr[i] == x:\n",
    "            return i\n",
    "  \n",
    "    return -1"
   ]
  },
  {
   "cell_type": "markdown",
   "metadata": {},
   "source": [
    "##### 11.\tPython Program for Insertion Sort\n"
   ]
  },
  {
   "cell_type": "code",
   "execution_count": 25,
   "metadata": {},
   "outputs": [
    {
     "name": "stdout",
     "output_type": "stream",
     "text": [
      "Sorted array is:\n",
      "5\n",
      "6\n",
      "11\n",
      "12\n",
      "13\n"
     ]
    }
   ],
   "source": [
    "def insertionSort(arr):\n",
    "  \n",
    "    # Traverse through 1 to len(arr)\n",
    "    for i in range(1, len(arr)):\n",
    "  \n",
    "        key = arr[i]\n",
    "  \n",
    "        # Move elements of arr[0..i-1], that are\n",
    "        # greater than key, to one position ahead\n",
    "        # of their current position\n",
    "        j = i-1\n",
    "        while j >=0 and key < arr[j] :\n",
    "                arr[j+1] = arr[j]\n",
    "                j -= 1\n",
    "        arr[j+1] = key\n",
    "  \n",
    "  \n",
    "# Driver code to test above\n",
    "arr = [12, 11, 13, 5, 6]\n",
    "insertionSort(arr)\n",
    "print (\"Sorted array is:\")\n",
    "for i in range(len(arr)):\n",
    "    print (\"%d\" %arr[i])"
   ]
  },
  {
   "cell_type": "code",
   "execution_count": null,
   "metadata": {},
   "outputs": [],
   "source": []
  }
 ],
 "metadata": {
  "kernelspec": {
   "display_name": "Python 3",
   "language": "python",
   "name": "python3"
  },
  "language_info": {
   "codemirror_mode": {
    "name": "ipython",
    "version": 3
   },
   "file_extension": ".py",
   "mimetype": "text/x-python",
   "name": "python",
   "nbconvert_exporter": "python",
   "pygments_lexer": "ipython3",
   "version": "3.7.3"
  }
 },
 "nbformat": 4,
 "nbformat_minor": 2
}
