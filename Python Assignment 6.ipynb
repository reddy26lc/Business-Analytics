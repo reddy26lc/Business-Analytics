{
 "cells": [
  {
   "cell_type": "markdown",
   "metadata": {},
   "source": [
    "##### 1. Python program to add two Matrices"
   ]
  },
  {
   "cell_type": "code",
   "execution_count": 3,
   "metadata": {},
   "outputs": [
    {
     "name": "stdout",
     "output_type": "stream",
     "text": [
      "Enter the Number of rows : 3\n",
      "Enter the Number of Columns: 3\n",
      "Enter the elements of First Matrix:\n",
      "1\n",
      "2\n",
      "3\n",
      "4\n",
      "5\n",
      "6\n",
      "7\n",
      "8\n",
      "9\n",
      "First Matrix is: \n",
      "[1, 2, 3]\n",
      "[4, 5, 6]\n",
      "[7, 8, 9]\n",
      "Enter the elements of Second Matrix:\n",
      "1\n",
      "1\n",
      "2\n",
      "2\n",
      "3\n",
      "3\n",
      "4\n",
      "4\n",
      "5\n",
      "[1, 1, 2]\n",
      "[2, 3, 3]\n",
      "[4, 4, 5]\n",
      "The Sum of Above two Matrices is : \n",
      "[2, 3, 5]\n",
      "[6, 8, 9]\n",
      "[11, 12, 14]\n"
     ]
    }
   ],
   "source": [
    "rows = int(input(\"Enter the Number of rows : \" ))\n",
    "column = int(input(\"Enter the Number of Columns: \"))\n",
    "\n",
    "print(\"Enter the elements of First Matrix:\")\n",
    "matrix_1= [[int(input()) for i in range(column)] for i in range(rows)]\n",
    "print(\"First Matrix is: \")\n",
    "for n in matrix_1:\n",
    "    print(n)\n",
    "\n",
    "print(\"Enter the elements of Second Matrix:\")\n",
    "matrix_2= [[int(input()) for i in range(column)] for i in range(rows)]\n",
    "for n in matrix_2:\n",
    "    print(n)\n",
    "    \n",
    "result=[[0 for i in range(column)] for i in range(rows)]\n",
    "\n",
    "for i in range(rows):\n",
    "    for j in range(column):\n",
    "        result[i][j] = matrix_1[i][j]+matrix_2[i][j]\n",
    "\n",
    "print(\"The Sum of Above two Matrices is : \")\n",
    "for r in result:\n",
    "    print(r)"
   ]
  },
  {
   "cell_type": "markdown",
   "metadata": {},
   "source": [
    "##### 2.\tPython program to multiply two matrices"
   ]
  },
  {
   "cell_type": "code",
   "execution_count": 5,
   "metadata": {},
   "outputs": [
    {
     "name": "stdout",
     "output_type": "stream",
     "text": [
      "Enter the Number of rows  for the first matrix: 2\n",
      "Enter the Number of Columns for the first matrix: 2\n",
      "Enter the elements of First Matrix:\n",
      "1\n",
      "2\n",
      "3\n",
      "4\n",
      "First Matrix is: \n",
      "[1, 2]\n",
      "[3, 4]\n",
      "Enter the Number of Columns for the second matrix: 1\n",
      "Enter the elements of Second Matrix:\n",
      "2\n",
      "3\n",
      "[2]\n",
      "[3]\n",
      "\n",
      "Matrix_1 X Matrix_2 is: \n",
      "[8]\n",
      "[18]\n"
     ]
    }
   ],
   "source": [
    "rows = int(input(\"Enter the Number of rows  for the first matrix: \" ))\n",
    "column = int(input(\"Enter the Number of Columns for the first matrix: \"))\n",
    "\n",
    "print(\"Enter the elements of First Matrix:\")\n",
    "matrix_1= [[int(input()) for i in range(column)] for i in range(rows)]\n",
    "\n",
    "print(\"First Matrix is: \")\n",
    "for n in matrix_1:\n",
    "    print(n)\n",
    "#the number of columns of first matrix is equal to the number of rows of second matrix\n",
    "column_1 = int(input(\"Enter the Number of Columns for the second matrix: \"))\n",
    "\n",
    "print(\"Enter the elements of Second Matrix:\")\n",
    "\n",
    "matrix_2= [[int(input()) for i in range(column_1)] for i in range(column)]\n",
    "for n in matrix_2:\n",
    "    print(n)\n",
    "    \n",
    "result=[[0 for i in range(column_1)] for i in range(rows)]\n",
    "\n",
    "for i in range(len(matrix_1)):\n",
    "    for j in range(len(matrix_2[0])):\n",
    "        for k in range(len(matrix_2)):\n",
    "            result [i][j]+=matrix_1[i][k]*matrix_2[k][j]\n",
    "print(\"\\nMatrix_1 X Matrix_2 is: \")\n",
    "for r in result:\n",
    "    print(r)"
   ]
  },
  {
   "cell_type": "markdown",
   "metadata": {},
   "source": [
    "#### 3.\tPython program for Matrix Product"
   ]
  },
  {
   "cell_type": "code",
   "execution_count": 6,
   "metadata": {},
   "outputs": [
    {
     "name": "stdout",
     "output_type": "stream",
     "text": [
      "[9, 12, 15]\n",
      "[19, 26, 33]\n",
      "[24, 33, 42]\n"
     ]
    }
   ],
   "source": [
    "# 3x2 matrix\n",
    "X = [ [1,2],[3,4],[4,5] ]\n",
    "# 2x3 matrix\n",
    "Y = [ [1,2,3],[4,5,6] ]\n",
    "\n",
    "# resultant matrix\n",
    "result = [ [0,0,0],[0,0,0],[0,0,0] ]\n",
    "\n",
    "my_list = []\n",
    "# iterating rows of X matrix\n",
    "for i in range( len(X) ):\n",
    "   # iterating columns of Y matrix\n",
    "   for j in range(len(Y[0])):\n",
    "       # iterating rows of Y matrix\n",
    "       for k in range(len(Y)):\n",
    "           result[i][j] += X[i][k] * Y[k][j]\n",
    "  \n",
    "\n",
    "for r in result:\n",
    "   print(r)"
   ]
  },
  {
   "cell_type": "markdown",
   "metadata": {},
   "source": [
    "##### 4.\tAdding and Subtracting Matrices in Python"
   ]
  },
  {
   "cell_type": "code",
   "execution_count": 8,
   "metadata": {},
   "outputs": [
    {
     "data": {
      "text/plain": [
       "array([[1, 2, 3, 4],\n",
       "       [5, 6, 7, 8]])"
      ]
     },
     "execution_count": 8,
     "metadata": {},
     "output_type": "execute_result"
    }
   ],
   "source": [
    "import numpy as np\n",
    "data1 = np.array([[1, 2, 3, 4], [5, 6, 7, 8]])\n",
    "data1"
   ]
  },
  {
   "cell_type": "code",
   "execution_count": 10,
   "metadata": {},
   "outputs": [
    {
     "name": "stdout",
     "output_type": "stream",
     "text": [
      "Addition of matrices:  [[ 2  4  6  8]\n",
      " [10 12 14 16]]\n"
     ]
    }
   ],
   "source": [
    "sum_matrices = data1 + data1\n",
    "print(\"Addition of matrices: \", sum_matrices)"
   ]
  },
  {
   "cell_type": "code",
   "execution_count": 11,
   "metadata": {},
   "outputs": [
    {
     "name": "stdout",
     "output_type": "stream",
     "text": [
      "Subtraction of matrices:  [[ 2  4  6  8]\n",
      " [10 12 14 16]]\n"
     ]
    }
   ],
   "source": [
    "subtraction_matrices = data1 + data1\n",
    "print(\"Subtraction of matrices: \", subtraction_matrices)"
   ]
  },
  {
   "cell_type": "markdown",
   "metadata": {},
   "source": [
    "##### 5.\tTranspose a matrix in Single line in Python"
   ]
  },
  {
   "cell_type": "code",
   "execution_count": 13,
   "metadata": {},
   "outputs": [
    {
     "name": "stdout",
     "output_type": "stream",
     "text": [
      "[[1 2 3 4]\n",
      " [5 6 7 8]]\n",
      "\n",
      "\n",
      "[[1 5]\n",
      " [2 6]\n",
      " [3 7]\n",
      " [4 8]]\n"
     ]
    }
   ],
   "source": [
    "print(data1)\n",
    "print(\"\\n\")\n",
    "print(np.transpose(data1))"
   ]
  },
  {
   "cell_type": "markdown",
   "metadata": {},
   "source": [
    "##### 6.\tPython | Matrix creation of n*n"
   ]
  },
  {
   "cell_type": "code",
   "execution_count": 16,
   "metadata": {},
   "outputs": [
    {
     "name": "stdout",
     "output_type": "stream",
     "text": [
      "The dimension : 3\n",
      "The created matrix of N * N: [[1, 2, 3], [4, 5, 6], [7, 8, 9]]\n"
     ]
    }
   ],
   "source": [
    "# initializing N\n",
    "N = 3\n",
    "  \n",
    "# printing dimension\n",
    "print(\"The dimension : \" + str(N))\n",
    "  \n",
    "# using list comprehension\n",
    "# matrix creation of n * n\n",
    "res = [list(range(1 + N * i, 1 + N * (i + 1)))\n",
    "                            for i in range(N)]\n",
    "  \n",
    "# print result\n",
    "print(\"The created matrix of N * N: \" + str(res))"
   ]
  },
  {
   "cell_type": "markdown",
   "metadata": {},
   "source": [
    "##### 7.\tPython | Get Kth Column of Matrix"
   ]
  },
  {
   "cell_type": "code",
   "execution_count": 20,
   "metadata": {},
   "outputs": [
    {
     "name": "stdout",
     "output_type": "stream",
     "text": [
      "The original list is : [[1, 2, 3], [2, 4, 5], [6, 7, 8]]\n",
      "The Kth column of matrix is : [2, 4, 7]\n"
     ]
    }
   ],
   "source": [
    "lists = [[1, 2, 3], [2, 4, 5], [6, 7, 8]]\n",
    "  \n",
    "# printing original list\n",
    "print(\"The original list is : \" + str(lists))\n",
    "  \n",
    "# initialize K\n",
    "K = 1\n",
    "  \n",
    "# Get Kth Column of Matrix\n",
    "# using list comprehension\n",
    "res = [i[K] for i in lists]\n",
    "  \n",
    "# printing result\n",
    "print(\"The Kth column of matrix is : \" + str(res))"
   ]
  },
  {
   "cell_type": "markdown",
   "metadata": {},
   "source": [
    "##### 8.\tPython – Vertical Concatenation in Matrix"
   ]
  },
  {
   "cell_type": "code",
   "execution_count": 1,
   "metadata": {},
   "outputs": [
    {
     "name": "stdout",
     "output_type": "stream",
     "text": [
      "[[1 2]\n",
      " [3 4]]\n"
     ]
    }
   ],
   "source": [
    "import numpy as np\n",
    "\n",
    "an_array = np.array([1, 2])\n",
    "another_array = np.array([3, 4])\n",
    "stacked_array = np.vstack((an_array, another_array))\n",
    "print(stacked_array)"
   ]
  },
  {
   "cell_type": "markdown",
   "metadata": {},
   "source": [
    "##### 9.\tPython program to check if a string is palindrome or not"
   ]
  },
  {
   "cell_type": "code",
   "execution_count": 13,
   "metadata": {},
   "outputs": [
    {
     "name": "stdout",
     "output_type": "stream",
     "text": [
      "Enter a string: madam\n",
      "String is palindrome\n"
     ]
    }
   ],
   "source": [
    "string = input(\"Enter a string: \")\n",
    "\n",
    "if (string == string[::-1]):\n",
    "    print (\"String is palindrome\")\n",
    "else:\n",
    "    print (\"String is not a palindrome\")\n",
    "        \n"
   ]
  },
  {
   "cell_type": "markdown",
   "metadata": {},
   "source": [
    "##### 10.\tPython program to check whether the string is Symmetrical or Palindrome"
   ]
  },
  {
   "cell_type": "code",
   "execution_count": 19,
   "metadata": {},
   "outputs": [
    {
     "name": "stdout",
     "output_type": "stream",
     "text": [
      "The method to check a palindrome is being called...\n",
      "The entered string is palindrome\n",
      "The entered string is palindrome\n",
      "The method to check symmetry is being called...\n",
      "The entered string is symmetrical\n",
      "The entered string is not symmetrical\n"
     ]
    }
   ],
   "source": [
    "def check_palindrome(my_str):\n",
    "    mid_val = (len(my_str)-1)//2\n",
    "    start = 0\n",
    "    end = len(my_str)-1\n",
    "    flag = 0\n",
    "    while(start<mid_val):\n",
    "        if (my_str[start]== my_str[end]):\n",
    "            start += 1\n",
    "            end -= 1\n",
    "        else:\n",
    "            flag = 1\n",
    "            break;\n",
    "        if flag == 0:\n",
    "            print(\"The entered string is palindrome\")\n",
    "        else:\n",
    "            print(\"The entered string is not palindrome\")\n",
    "def check_symmetry(my_str):\n",
    "    n = len(my_str)\n",
    "    flag = 0\n",
    "    if n%2:\n",
    "        mid_val = n//2 +1\n",
    "    else:\n",
    "        mid_val = n//2\n",
    "    start_1 = 0\n",
    "    start_2 = mid_val\n",
    "    while(start_1 < mid_val and start_2 < n):\n",
    "        if (my_str[start_1]== my_str[start_2]):\n",
    "            start_1 = start_1 + 1\n",
    "            start_2 = start_2 + 1\n",
    "        else:\n",
    "            flag = 1\n",
    "            break\n",
    "    if flag == 0:\n",
    "        print(\"The entered string is symmetrical\")\n",
    "    else:\n",
    "        print(\"The entered string is not symmetrical\")\n",
    "my_string = 'yoyo'\n",
    "my_string1 = 'madam'\n",
    "print(\"The method to check a palindrome is being called...\")\n",
    "check_palindrome(my_string)\n",
    "check_palindrome(my_string1)\n",
    "print(\"The method to check symmetry is being called...\")\n",
    "check_symmetry(my_string)\n",
    "check_symmetry(my_string1)"
   ]
  },
  {
   "cell_type": "code",
   "execution_count": null,
   "metadata": {},
   "outputs": [],
   "source": []
  }
 ],
 "metadata": {
  "kernelspec": {
   "display_name": "Python 3",
   "language": "python",
   "name": "python3"
  },
  "language_info": {
   "codemirror_mode": {
    "name": "ipython",
    "version": 3
   },
   "file_extension": ".py",
   "mimetype": "text/x-python",
   "name": "python",
   "nbconvert_exporter": "python",
   "pygments_lexer": "ipython3",
   "version": "3.7.3"
  }
 },
 "nbformat": 4,
 "nbformat_minor": 2
}
