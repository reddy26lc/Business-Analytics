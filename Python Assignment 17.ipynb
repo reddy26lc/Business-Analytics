{
 "cells": [
  {
   "cell_type": "markdown",
   "metadata": {},
   "source": [
    "##### 1.\tPython program to find difference between current time and given time"
   ]
  },
  {
   "cell_type": "code",
   "execution_count": 1,
   "metadata": {},
   "outputs": [
    {
     "name": "stdout",
     "output_type": "stream",
     "text": [
      "2021-06-06 21:56:12.977343\n",
      "2021-06-06 19:46:12.977343\n"
     ]
    }
   ],
   "source": [
    "import datetime\n",
    "old_time = datetime.datetime.now()\n",
    "print(old_time)\n",
    "new_time = old_time - datetime.timedelta(hours=2, minutes=10)\n",
    "print(new_time)"
   ]
  },
  {
   "cell_type": "markdown",
   "metadata": {},
   "source": [
    "###### 2.\tPython Program to Create a Lap Timer"
   ]
  },
  {
   "cell_type": "code",
   "execution_count": 2,
   "metadata": {},
   "outputs": [
    {
     "name": "stdout",
     "output_type": "stream",
     "text": [
      "Click on ENTER to count laps.\n",
      "Press CTRL+C to stop\n",
      "\n",
      "Lap No. 1\n",
      "Total Time: 4.81\n",
      "Lap Time: 4.81\n",
      "********************\n",
      "\n",
      "Lap No. 2\n",
      "Total Time: 8.3\n",
      "Lap Time: 3.49\n",
      "********************\n",
      "\n",
      "Lap No. 3\n",
      "Total Time: 15.52\n",
      "Lap Time: 7.22\n",
      "********************\n",
      "Exit!\n"
     ]
    }
   ],
   "source": [
    "import time\n",
    "\n",
    "start_time=time.time()\n",
    "end_time=start_time\n",
    "lap_num=1\n",
    "\n",
    "print(\"Click on ENTER to count laps.\\nPress CTRL+C to stop\")\n",
    "\n",
    "try:\n",
    "   while True:\n",
    "\n",
    "      input()\n",
    "      time_laps=round((time.time() - end_time), 2)\n",
    "\n",
    "      tot_time=round((time.time() - start_time), 2)\n",
    "\n",
    "      print(\"Lap No. \"+str(lap_num))\n",
    "      print(\"Total Time: \"+str(tot_time))\n",
    "      print(\"Lap Time: \"+str(time_laps))\n",
    "\n",
    "      print(\"*\"*20)\n",
    "\n",
    "      end_time=time.time()\n",
    "      lap_num+=1\n",
    "\n",
    "except KeyboardInterrupt:\n",
    "   print(\"Exit!\")"
   ]
  },
  {
   "cell_type": "markdown",
   "metadata": {},
   "source": [
    "##### 3.\tConvert date string to timestamp in Python "
   ]
  },
  {
   "cell_type": "code",
   "execution_count": 5,
   "metadata": {},
   "outputs": [
    {
     "name": "stdout",
     "output_type": "stream",
     "text": [
      "1623798000.0\n"
     ]
    }
   ],
   "source": [
    "date_string = \"06/16/2021\"\n",
    "date = datetime.datetime.strptime(date_string, \"%m/%d/%Y\")\n",
    "timestamp = datetime.datetime.timestamp(date)\n",
    "print(timestamp)"
   ]
  },
  {
   "cell_type": "markdown",
   "metadata": {},
   "source": [
    "###### 4.\tHow to convert timestamp string to datetime object in Python?"
   ]
  },
  {
   "cell_type": "code",
   "execution_count": 6,
   "metadata": {},
   "outputs": [
    {
     "name": "stdout",
     "output_type": "stream",
     "text": [
      "date_time: 2006-02-25 00:00:00\n",
      "type of dt: <class 'datetime.datetime'>\n"
     ]
    }
   ],
   "source": [
    "from datetime import datetime\n",
    "  \n",
    "  \n",
    "timestamp = 1545730073\n",
    "dt_obj = datetime.fromtimestamp(1140825600)\n",
    "  \n",
    "print(\"date_time:\",dt_obj)\n",
    "print(\"type of dt:\",type(dt_obj))"
   ]
  },
  {
   "cell_type": "markdown",
   "metadata": {},
   "source": [
    "##### 5.\tFind number of times every day occurs in a Year"
   ]
  },
  {
   "cell_type": "code",
   "execution_count": 7,
   "metadata": {},
   "outputs": [
    {
     "name": "stdout",
     "output_type": "stream",
     "text": [
      "Monday 52\n",
      "Tuesday 53\n",
      "Wednesday 52\n",
      "Thursday 52\n",
      "Friday 52\n",
      "Saturday 52\n",
      "Sunday 52\n"
     ]
    }
   ],
   "source": [
    "import datetime \n",
    "import calendar\n",
    "   \n",
    "def day_occur_time(year):\n",
    "      \n",
    "    # stores days in a week \n",
    "    days = [ \"Monday\", \"Tuesday\", \"Wednesday\",  \n",
    "           \"Thursday\",  \"Friday\", \"Saturday\", \n",
    "           \"Sunday\" ]\n",
    "      \n",
    "    # Initialize all counts as 52\n",
    "    L = [52 for i in range(7)]\n",
    "      \n",
    "    # Find the index of the first day\n",
    "    # of the year\n",
    "    pos = -1\n",
    "    day = datetime.datetime(year, month = 1, day = 1).strftime(\"%A\")\n",
    "    for i in range(7):\n",
    "        if day == days[i]:\n",
    "            pos = i\n",
    "              \n",
    "    # mark the occurrence to be 53 of 1st day\n",
    "    # and 2nd day if the year is leap year\n",
    "    if calendar.isleap(year):\n",
    "        L[pos] += 1\n",
    "        L[(pos+1)%7] += 1\n",
    "          \n",
    "    else:\n",
    "        L[pos] += 1\n",
    "          \n",
    "      \n",
    "    # Print the days\n",
    "    for i in range(7):\n",
    "        print(days[i], L[i])\n",
    "       \n",
    "   \n",
    "# Driver Code \n",
    "year = 2019\n",
    "day_occur_time(year)"
   ]
  },
  {
   "cell_type": "markdown",
   "metadata": {},
   "source": [
    "##### 6.\tPython Program to Check if String Contain Only Defined Characters using Regex"
   ]
  },
  {
   "cell_type": "code",
   "execution_count": 8,
   "metadata": {},
   "outputs": [
    {
     "name": "stdout",
     "output_type": "stream",
     "text": [
      "Valid String\n",
      "Invalid String\n"
     ]
    }
   ],
   "source": [
    "import re\n",
    "  \n",
    "  \n",
    "def check(str, pattern):\n",
    "    \n",
    "    # _matching the strings\n",
    "    if re.search(pattern, str):\n",
    "        print(\"Valid String\")\n",
    "    else:\n",
    "        print(\"Invalid String\")\n",
    "  \n",
    "# _driver code\n",
    "pattern = re.compile('^[1234]+$')\n",
    "check('2134', pattern)\n",
    "check('349', pattern)"
   ]
  },
  {
   "cell_type": "markdown",
   "metadata": {},
   "source": [
    "##### 7.\tPython program to Count Uppercase, Lowercase, special character and numeric values using Regex"
   ]
  },
  {
   "cell_type": "code",
   "execution_count": 9,
   "metadata": {},
   "outputs": [
    {
     "name": "stdout",
     "output_type": "stream",
     "text": [
      "Original Substrings: @W3Resource.Com\n",
      "\n",
      "Upper case characters:  3\n",
      "Lower case characters:  9\n",
      "Number case:  1\n",
      "Special case characters:  2\n"
     ]
    }
   ],
   "source": [
    "def count_chars(str):\n",
    "     upper_ctr, lower_ctr, number_ctr, special_ctr = 0, 0, 0, 0\n",
    "     for i in range(len(str)):\n",
    "          if str[i] >= 'A' and str[i] <= 'Z': upper_ctr += 1\n",
    "          elif str[i] >= 'a' and str[i] <= 'z': lower_ctr += 1\n",
    "          elif str[i] >= '0' and str[i] <= '9': number_ctr += 1\n",
    "          else: special_ctr += 1\n",
    "     return upper_ctr, lower_ctr, number_ctr, special_ctr\n",
    "           \n",
    "str = \"@W3Resource.Com\"\n",
    "print(\"Original Substrings:\",str)\n",
    "u, l, n, s = count_chars(str)\n",
    "print('\\nUpper case characters: ',u)\n",
    "print('Lower case characters: ',l)\n",
    "print('Number case: ',n)\n",
    "print('Special case characters: ',s)\n"
   ]
  },
  {
   "cell_type": "markdown",
   "metadata": {},
   "source": [
    "##### 8.\tPython Program to find the most occurring number in a string using Regex"
   ]
  },
  {
   "cell_type": "code",
   "execution_count": 10,
   "metadata": {},
   "outputs": [
    {
     "name": "stdout",
     "output_type": "stream",
     "text": [
      "2\n"
     ]
    }
   ],
   "source": [
    "# importing the modules\n",
    "import re\n",
    "import collections\n",
    "# initializing the string\n",
    "string = '1222tutorials321232point3442'\n",
    "# regex to find all the numbers\n",
    "regex = r'[0-9]'\n",
    "# getting all the numbers from the string\n",
    "numbers = re.findall(regex, string)\n",
    "# counter object\n",
    "counter = collections.Counter(numbers)\n",
    "# finding the most occurring number\n",
    "high_frequency = 0\n",
    "highest_frequency_number = None\n",
    "for key in list(counter.keys()):\n",
    "   if counter[key] > high_frequency:\n",
    "      highest_frequency_number = counter[key]\n",
    "      # printing the number\n",
    "print(highest_frequency_number)"
   ]
  },
  {
   "cell_type": "markdown",
   "metadata": {},
   "source": [
    "##### 9.\tPython Regex to extract maximum numeric value from a string"
   ]
  },
  {
   "cell_type": "code",
   "execution_count": 12,
   "metadata": {},
   "outputs": [
    {
     "name": "stdout",
     "output_type": "stream",
     "text": [
      "18775994\n"
     ]
    }
   ],
   "source": [
    "import re\n",
    "\n",
    "# Extract all numeric values from the string.\n",
    "occ = re.findall(\"\\d+\", \"There are 121005 people in this city, 1587469 in the neighbouring city and 18775994 in a far off city.\")\n",
    "\n",
    "# Convert the numeric values from string to int.\n",
    "num_list = map(int, occ)\n",
    "\n",
    "# Find and print the max\n",
    "print(max(num_list))"
   ]
  },
  {
   "cell_type": "markdown",
   "metadata": {},
   "source": [
    "##### 10.\tPython Program to put spaces between words starting with capital letters using Regex"
   ]
  },
  {
   "cell_type": "code",
   "execution_count": 13,
   "metadata": {},
   "outputs": [
    {
     "name": "stdout",
     "output_type": "stream",
     "text": [
      "Python\n",
      "Python Exercises\n",
      "Python Exercises Practice Solution\n"
     ]
    }
   ],
   "source": [
    "import re\n",
    "def capital_words_spaces(str1):\n",
    "  return re.sub(r\"(\\w)([A-Z])\", r\"\\1 \\2\", str1)\n",
    "\n",
    "print(capital_words_spaces(\"Python\"))\n",
    "print(capital_words_spaces(\"PythonExercises\"))\n",
    "print(capital_words_spaces(\"PythonExercisesPracticeSolution\"))\n"
   ]
  },
  {
   "cell_type": "code",
   "execution_count": null,
   "metadata": {},
   "outputs": [],
   "source": []
  }
 ],
 "metadata": {
  "kernelspec": {
   "display_name": "Python 3",
   "language": "python",
   "name": "python3"
  },
  "language_info": {
   "codemirror_mode": {
    "name": "ipython",
    "version": 3
   },
   "file_extension": ".py",
   "mimetype": "text/x-python",
   "name": "python",
   "nbconvert_exporter": "python",
   "pygments_lexer": "ipython3",
   "version": "3.7.3"
  }
 },
 "nbformat": 4,
 "nbformat_minor": 2
}
