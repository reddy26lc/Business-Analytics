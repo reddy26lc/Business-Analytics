{
 "cells": [
  {
   "cell_type": "markdown",
   "metadata": {},
   "source": [
    "##### 1.\tPython Program for Topological Sorting"
   ]
  },
  {
   "cell_type": "code",
   "execution_count": null,
   "metadata": {},
   "outputs": [],
   "source": [
    "\n",
    "#     a\n",
    "#    / \\\n",
    "#   b  c\n",
    "#  / \\\n",
    "# d  e\n",
    "edges = {'a': ['c', 'b'], 'b': ['d', 'e'], 'c': [], 'd': [], 'e': []}\n",
    "vertices = ['a', 'b', 'c', 'd', 'e']\n",
    "def topological_sort(start, visited, sort):\n",
    "    \"\"\"Perform topolical sort on a directed acyclic graph.\"\"\"\n",
    "    current = start\n",
    "    # add current to visited\n",
    "    visited.append(current)\n",
    "    neighbors = edges[current]\n",
    "    for neighbor in neighbors:\n",
    "        # if neighbor not in visited, visit\n",
    "        if neighbor not in visited:\n",
    "            sort = topological_sort(neighbor, visited, sort)\n",
    "    # if all neighbors visited add current to sort\n",
    "    sort.append(current)\n",
    "    # if all vertices haven't been visited select a new one to visit\n",
    "    if len(visited) != len(vertices):\n",
    "        for vertice in vertices:\n",
    "            if vertice not in visited:\n",
    "                sort = topological_sort(vertice, visited, sort)\n",
    "    # return sort\n",
    "    return sort\n",
    "\n",
    "sort = topological_sort('a', [], [])\n",
    "print(sort)\n"
   ]
  },
  {
   "cell_type": "markdown",
   "metadata": {},
   "source": [
    "##### 2.\tPython Program for Radix Sort"
   ]
  },
  {
   "cell_type": "code",
   "execution_count": 3,
   "metadata": {},
   "outputs": [
    {
     "name": "stdout",
     "output_type": "stream",
     "text": [
      "Input numbers separated by a comma:\n",
      "1,2,3,4\n",
      "[1, 2, 3, 4]\n"
     ]
    }
   ],
   "source": [
    "def radix_sort(nums):\n",
    "    RADIX = 10\n",
    "    placement = 1\n",
    "    max_digit = max(nums)\n",
    "\n",
    "    while placement < max_digit:\n",
    "      buckets = [list() for _ in range( RADIX )]\n",
    "      for i in nums:\n",
    "        tmp = int((i / placement) % RADIX)\n",
    "        buckets[tmp].append(i)\n",
    "      a = 0\n",
    "      for b in range( RADIX ):\n",
    "        buck = buckets[b]\n",
    "        for i in buck:\n",
    "          nums[a] = i\n",
    "          a += 1\n",
    "      placement *= RADIX\n",
    "    return nums\n",
    "user_input = input(\"Input numbers separated by a comma:\\n\").strip()\n",
    "nums = [int(item) for item in user_input.split(',')]\n",
    "print(radix_sort(nums))\n"
   ]
  },
  {
   "cell_type": "markdown",
   "metadata": {},
   "source": [
    "##### 3.\tPython Program for Binary Insertion Sort"
   ]
  },
  {
   "cell_type": "code",
   "execution_count": 4,
   "metadata": {},
   "outputs": [
    {
     "name": "stdout",
     "output_type": "stream",
     "text": [
      "Sorted array is:\n",
      "1 3 3 4 4 5 6 8 "
     ]
    }
   ],
   "source": [
    "def insertion_sort(arr):\n",
    "   for i in range(1, len(arr)):\n",
    "      temp = arr[i]\n",
    "      pos = binary_search(arr, temp, 0, i) + 1\n",
    "      for k in range(i, pos, -1):\n",
    "         arr[k] = arr[k - 1]\n",
    "      arr[pos] = temp\n",
    "def binary_search(arr, key, start, end):\n",
    "   #key\n",
    "   if end - start <= 1:\n",
    "      if key < arr[start]:\n",
    "         return start - 1\n",
    "      else:\n",
    "         return start\n",
    "   mid = (start + end)//2\n",
    "   if arr[mid] < key:\n",
    "      return binary_search(arr, key, mid, end)\n",
    "   elif arr[mid] > key:\n",
    "      return binary_search(arr, key, start, mid)\n",
    "   else:\n",
    "      return mid\n",
    "# main\n",
    "arr = [1,5,3,4,8,6,3,4]\n",
    "n = len(arr)\n",
    "insertion_sort(arr)\n",
    "print(\"Sorted array is:\")\n",
    "for i in range(n):\n",
    "   print(arr[i],end=\" \")"
   ]
  },
  {
   "cell_type": "markdown",
   "metadata": {},
   "source": [
    "###### 4.\tPython Program for Bitonic Sort"
   ]
  },
  {
   "cell_type": "code",
   "execution_count": 6,
   "metadata": {},
   "outputs": [
    {
     "name": "stdout",
     "output_type": "stream",
     "text": [
      "How many numbers u want to enter?\n",
      "5\n",
      "Input the numbers:\n",
      "1\n",
      "5\n",
      "6\n",
      "3\n",
      "4\n",
      "nnSorted array is:\n",
      "1\n",
      "3\n",
      "5\n",
      "6\n",
      "4\n"
     ]
    }
   ],
   "source": [
    "def compAndSwap(a, i, j, dire):\n",
    "    if (dire == 1 and a[i] > a[j]) or (dire == 0 and a[i] < a[j]):\n",
    "        a[i], a[j] = a[j], a[i]\n",
    "\n",
    "def bitonicMerge(a, low, cnt, dire):\n",
    "    if cnt > 1:\n",
    "        k = int(cnt / 2)\n",
    "        for i in range(low, low + k):\n",
    "            compAndSwap(a, i, i + k, dire)\n",
    "        bitonicMerge(a, low, k, dire)\n",
    "        bitonicMerge(a, low + k, k, dire)\n",
    "\n",
    "def bitonicSort(a, low, cnt, dire):\n",
    "    if cnt > 1:\n",
    "        k = int(cnt / 2)\n",
    "        bitonicSort(a, low, k, 1)\n",
    "        bitonicSort(a, low + k, k, 0)\n",
    "        bitonicMerge(a, low, cnt, dire)\n",
    "\n",
    "def sort(a, N, up):\n",
    "    bitonicSort(a, 0, N, up)\n",
    "\n",
    "a = []\n",
    "print(\"How many numbers u want to enter?\");\n",
    "n = int(input())\n",
    "print(\"Input the numbers:\");\n",
    "for i in range(n):\n",
    "    a.append(int(input()))\n",
    "up = 1\n",
    "\n",
    "sort(a, n, up)\n",
    "print(\"nnSorted array is:\")\n",
    "for i in range(n):\n",
    "    print(\"%d\" % a[i])"
   ]
  },
  {
   "cell_type": "markdown",
   "metadata": {},
   "source": [
    "##### 5.\tPython Program for Comb Sort"
   ]
  },
  {
   "cell_type": "code",
   "execution_count": 7,
   "metadata": {},
   "outputs": [
    {
     "name": "stdout",
     "output_type": "stream",
     "text": [
      "Input comma separated numbers:\n",
      "2,4,5,3,6\n",
      "[2, 3, 4, 5, 6]\n"
     ]
    }
   ],
   "source": [
    "def comb_sort(nums):\n",
    "    shrink_fact = 1.3\n",
    "    gaps = len(nums)\n",
    "    swapped = True\n",
    "    i = 0\n",
    "\n",
    "    while gaps > 1 or swapped:\n",
    "        gaps = int(float(gaps) / shrink_fact)\n",
    "\n",
    "        swapped = False\n",
    "        i = 0\n",
    "\n",
    "        while gaps + i < len(nums):\n",
    "            if nums[i] > nums[i+gaps]:\n",
    "                nums[i], nums[i+gaps] = nums[i+gaps], nums[i]\n",
    "                swapped = True\n",
    "            i += 1\n",
    "    return nums\n",
    "\n",
    "num1 = input('Input comma separated numbers:\\n').strip()\n",
    "nums = [int(item) for item in num1.split(',')]\n",
    "print(comb_sort(nums))\n"
   ]
  },
  {
   "cell_type": "markdown",
   "metadata": {},
   "source": [
    "###### 6.\tPython Program for Pigeonhole Sort"
   ]
  },
  {
   "cell_type": "code",
   "execution_count": 9,
   "metadata": {},
   "outputs": [
    {
     "name": "stdout",
     "output_type": "stream",
     "text": [
      "Sorted order is :  2 3 4 6 7 8 8 "
     ]
    }
   ],
   "source": [
    "def pigeonhole_sort(a): \n",
    "    # size of range of values in the list  \n",
    "    # (ie, number of pigeonholes we need) \n",
    "    my_min = min(a) \n",
    "    my_max = max(a) \n",
    "    size = my_max - my_min + 1\n",
    "  \n",
    "    # our list of pigeonholes \n",
    "    holes = [0] * size \n",
    "  \n",
    "    # Populate the pigeonholes. \n",
    "    for x in a: \n",
    "        assert type(x) is int, \"integers only please\"\n",
    "        holes[x - my_min] += 1\n",
    "  \n",
    "    # Put the elements back into the array in order. \n",
    "    i = 0\n",
    "    for count in range(size): \n",
    "        while holes[count] > 0: \n",
    "            holes[count] -= 1\n",
    "            a[i] = count + my_min \n",
    "            i += 1\n",
    "              \n",
    "  \n",
    "a = [8, 3, 2, 7, 4, 6, 8] \n",
    "print(\"Sorted order is : \", end = ' ') \n",
    "  \n",
    "pigeonhole_sort(a) \n",
    "          \n",
    "for i in range(0, len(a)): \n",
    "    print(a[i], end = ' ') "
   ]
  },
  {
   "cell_type": "markdown",
   "metadata": {},
   "source": [
    "##### 7.\tPython Program for Cocktail Sort"
   ]
  },
  {
   "cell_type": "code",
   "execution_count": 10,
   "metadata": {},
   "outputs": [
    {
     "name": "stdout",
     "output_type": "stream",
     "text": [
      "Sorted array is:\n",
      "0\n",
      "1\n",
      "2\n",
      "2\n",
      "4\n",
      "5\n",
      "8\n"
     ]
    }
   ],
   "source": [
    "def cocktailSort(a):\n",
    "    n = len(a)\n",
    "    swapped = True\n",
    "    start = 0\n",
    "    end = n-1\n",
    "    while (swapped==True):\n",
    "  \n",
    "        # reset the swapped flag on entering the loop,\n",
    "        # because it might be true from a previous\n",
    "        # iteration.\n",
    "        swapped = False\n",
    "  \n",
    "        # loop from left to right same as the bubble\n",
    "        # sort\n",
    "        for i in range (start, end):\n",
    "            if (a[i] > a[i+1]) :\n",
    "                a[i], a[i+1]= a[i+1], a[i]\n",
    "                swapped=True\n",
    "  \n",
    "        # if nothing moved, then array is sorted.\n",
    "        if (swapped==False):\n",
    "            break\n",
    "  \n",
    "        # otherwise, reset the swapped flag so that it\n",
    "        # can be used in the next stage\n",
    "        swapped = False\n",
    "  \n",
    "        # move the end point back by one, because\n",
    "        # item at the end is in its rightful spot\n",
    "        end = end-1\n",
    "  \n",
    "        # from right to left, doing the same\n",
    "        # comparison as in the previous stage\n",
    "        for i in range(end-1, start-1,-1):\n",
    "            if (a[i] > a[i+1]):\n",
    "                a[i], a[i+1] = a[i+1], a[i]\n",
    "                swapped = True\n",
    "  \n",
    "        # increase the starting point, because\n",
    "        # the last stage would have moved the next\n",
    "        # smallest number to its rightful spot.\n",
    "        start = start+1\n",
    "  \n",
    "# Driver code to test above\n",
    "a = [5, 1, 4, 2, 8, 0, 2]\n",
    "cocktailSort(a)\n",
    "print(\"Sorted array is:\")\n",
    "for i in range(len(a)):\n",
    "    print (\"%d\" %a[i])"
   ]
  },
  {
   "cell_type": "markdown",
   "metadata": {},
   "source": [
    "###### 8.\tPython Program for Gnome Sort"
   ]
  },
  {
   "cell_type": "code",
   "execution_count": 11,
   "metadata": {},
   "outputs": [
    {
     "name": "stdout",
     "output_type": "stream",
     "text": [
      "Input numbers separated by a comma:\n",
      "3,2,5,6,2,1\n",
      "[1, 2, 2, 3, 5, 6]\n"
     ]
    }
   ],
   "source": [
    "def  gnome_sort(nums):\n",
    "    if len(nums) <= 1:\n",
    "        return nums\n",
    "        \n",
    "    i = 1\n",
    "    \n",
    "    while i < len(nums):\n",
    "        if nums[i-1] <= nums[i]:\n",
    "            i += 1\n",
    "        else:\n",
    "            nums[i-1], nums[i] = nums[i], nums[i-1]\n",
    "            i -= 1\n",
    "            if (i == 0):\n",
    "                i = 1\n",
    "           \n",
    "user_input = input(\"Input numbers separated by a comma:\\n\").strip()\n",
    "nums = [int(item) for item in user_input.split(',')]\n",
    "gnome_sort(nums)\n",
    "print(nums)\n"
   ]
  },
  {
   "cell_type": "markdown",
   "metadata": {},
   "source": [
    "###### 9.\tPython Program for Odd-Even Sort / Brick Sort"
   ]
  },
  {
   "cell_type": "code",
   "execution_count": 12,
   "metadata": {},
   "outputs": [
    {
     "name": "stdout",
     "output_type": "stream",
     "text": [
      "-9 2 10 34 "
     ]
    }
   ],
   "source": [
    "def oddEvenSort(arr, n):\n",
    "    # Initially array is unsorted\n",
    "    isSorted = 0\n",
    "    while isSorted == 0:\n",
    "        isSorted = 1\n",
    "        temp = 0\n",
    "        for i in range(1, n-1, 2):\n",
    "            if arr[i] > arr[i+1]:\n",
    "                arr[i], arr[i+1] = arr[i+1], arr[i]\n",
    "                isSorted = 0\n",
    "                  \n",
    "        for i in range(0, n-1, 2):\n",
    "            if arr[i] > arr[i+1]:\n",
    "                arr[i], arr[i+1] = arr[i+1], arr[i]\n",
    "                isSorted = 0\n",
    "      \n",
    "    return\n",
    "  \n",
    "  \n",
    "arr = [34, 2, 10, -9]\n",
    "n = len(arr)\n",
    "  \n",
    "oddEvenSort(arr, n);\n",
    "for i in range(0, n):\n",
    "    print(arr[i], end =\" \")"
   ]
  },
  {
   "cell_type": "markdown",
   "metadata": {},
   "source": [
    "###### 10.\tPython Program for BogoSort or Permutation Sort"
   ]
  },
  {
   "cell_type": "code",
   "execution_count": 13,
   "metadata": {},
   "outputs": [
    {
     "name": "stdout",
     "output_type": "stream",
     "text": [
      "Input  comma separated numbers:\n",
      "1,3,4,0,1,2\n",
      "[0, 1, 1, 2, 3, 4]\n"
     ]
    }
   ],
   "source": [
    "import random\n",
    "\n",
    "def bogosort(nums):\n",
    "    def isSorted(nums):\n",
    "        if len(nums) < 2:\n",
    "            return True\n",
    "        for i in range(len(nums) - 1):\n",
    "            if nums[i] > nums[i + 1]:\n",
    "                return False\n",
    "        return True\n",
    "\n",
    "    while not isSorted(nums):\n",
    "        random.shuffle(nums)\n",
    "    return nums\n",
    "num1 = input('Input  comma separated numbers:\\n').strip()\n",
    "nums = [int(item) for item in num1.split(',')]\n",
    "print(bogosort(nums))\n"
   ]
  },
  {
   "cell_type": "code",
   "execution_count": null,
   "metadata": {},
   "outputs": [],
   "source": []
  }
 ],
 "metadata": {
  "kernelspec": {
   "display_name": "Python 3",
   "language": "python",
   "name": "python3"
  },
  "language_info": {
   "codemirror_mode": {
    "name": "ipython",
    "version": 3
   },
   "file_extension": ".py",
   "mimetype": "text/x-python",
   "name": "python",
   "nbconvert_exporter": "python",
   "pygments_lexer": "ipython3",
   "version": "3.7.3"
  }
 },
 "nbformat": 4,
 "nbformat_minor": 2
}
