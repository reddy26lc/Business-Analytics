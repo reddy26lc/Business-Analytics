{
 "cells": [
  {
   "cell_type": "markdown",
   "metadata": {},
   "source": [
    "##### 1.\tPython – Check whether a string starts and ends with the same character or not"
   ]
  },
  {
   "cell_type": "code",
   "execution_count": 2,
   "metadata": {},
   "outputs": [
    {
     "name": "stdout",
     "output_type": "stream",
     "text": [
      "Invalid\n",
      "Valid\n",
      "Invalid\n"
     ]
    }
   ],
   "source": [
    "import re\n",
    " \n",
    "# the regular  expression\n",
    "regex = r'^[a-z]$|^([a-z]).*\\1$'\n",
    " \n",
    "# function for checking the string\n",
    "def check(string):\n",
    " \n",
    "    # pass the regular expression\n",
    "    # and the string in the search() method\n",
    "    if(re.search(regex, string)): \n",
    "        print(\"Valid\") \n",
    "    else: \n",
    "        print(\"Invalid\") \n",
    " \n",
    "if __name__ == '__main__' :\n",
    " \n",
    "    sample1 = \"python\"\n",
    "    sample2 = \"madam\"\n",
    "    sample3 = \"abcd\"\n",
    " \n",
    "    check(sample1)\n",
    "    check(sample2)\n",
    "    check(sample3)"
   ]
  },
  {
   "cell_type": "markdown",
   "metadata": {},
   "source": [
    "##### 2.\tPython regex to find sequences of one upper case letter followed by lower case letters"
   ]
  },
  {
   "cell_type": "code",
   "execution_count": 3,
   "metadata": {},
   "outputs": [
    {
     "name": "stdout",
     "output_type": "stream",
     "text": [
      "Found a match!\n",
      "Found a match!\n",
      "Not matched!\n",
      "Not matched!\n",
      "Not matched!\n",
      "Found a match!\n"
     ]
    }
   ],
   "source": [
    "import re\n",
    "def text_match(text):\n",
    "        patterns = '[A-Z]+[a-z]+$'\n",
    "        if re.search(patterns, text):\n",
    "                return 'Found a match!'\n",
    "        else:\n",
    "                return('Not matched!')\n",
    "print(text_match(\"AaBbGg\"))\n",
    "print(text_match(\"Python\"))\n",
    "print(text_match(\"python\"))\n",
    "print(text_match(\"PYTHON\"))\n",
    "print(text_match(\"aA\"))\n",
    "print(text_match(\"Aa\"))\n"
   ]
  },
  {
   "cell_type": "markdown",
   "metadata": {},
   "source": [
    "##### 3.\tPython Program to Remove duplicate words from Sentence"
   ]
  },
  {
   "cell_type": "code",
   "execution_count": 6,
   "metadata": {},
   "outputs": [
    {
     "name": "stdout",
     "output_type": "stream",
     "text": [
      "Python is great\n"
     ]
    }
   ],
   "source": [
    "from collections import Counter\n",
    "  \n",
    "def remov_duplicates(input):\n",
    "  \n",
    "    # split input string separated by space\n",
    "    input = input.split(\" \")\n",
    "  \n",
    "    # joins two adjacent elements in iterable way\n",
    "    for i in range(0, len(input)):\n",
    "        input[i] = \"\".join(input[i])\n",
    "  \n",
    "    # now create dictionary using counter method\n",
    "    # which will have strings as key and their \n",
    "    # frequencies as value\n",
    "    UniqW = Counter(input)\n",
    "  \n",
    "    # joins two adjacent elements in iterable way\n",
    "    s = \" \".join(UniqW.keys())\n",
    "    print (s)\n",
    "  \n",
    "# Driver program\n",
    "if __name__ == \"__main__\":\n",
    "    input = 'Python is great'\n",
    "    remov_duplicates(input)"
   ]
  },
  {
   "cell_type": "markdown",
   "metadata": {},
   "source": [
    "##### 4.\tPython | Remove all characters except letters and numbers"
   ]
  },
  {
   "cell_type": "code",
   "execution_count": 7,
   "metadata": {},
   "outputs": [
    {
     "name": "stdout",
     "output_type": "stream",
     "text": [
      "initial string :  123abcjw:, .@! eiw\n",
      "final string 123abcjweiw\n"
     ]
    }
   ],
   "source": [
    "import re\n",
    "  \n",
    "# initialising string\n",
    "ini_string = \"123abcjw:, .@! eiw\"\n",
    "  \n",
    "# printing initial string\n",
    "print (\"initial string : \", ini_string)\n",
    "  \n",
    "# function to demonstrate removal of characters\n",
    "# which are not numbers and alphabets using re\n",
    "  \n",
    "result = re.sub('[\\W_]+', '', ini_string)\n",
    "  \n",
    "# printing final string\n",
    "print (\"final string\", result)"
   ]
  },
  {
   "cell_type": "markdown",
   "metadata": {},
   "source": [
    "##### 5.\tPython Regex | Program to accept string ending with alphanumeric character"
   ]
  },
  {
   "cell_type": "code",
   "execution_count": 8,
   "metadata": {},
   "outputs": [
    {
     "name": "stdout",
     "output_type": "stream",
     "text": [
      "Discard\n",
      "Accept\n",
      "Discard\n",
      "Accept\n"
     ]
    }
   ],
   "source": [
    "import re\n",
    "\n",
    "regex = '[a-zA-z0-9]$'\n",
    "      \n",
    "# Define a function for accepting string\n",
    "# ending with alphanumeric character\n",
    "def check(string): \n",
    "  \n",
    "     # pass the regualar expression\n",
    "     # and the string in search() method\n",
    "    if(re.search(regex, string)): \n",
    "        print(\"Accept\") \n",
    "          \n",
    "    else: \n",
    "        print(\"Discard\") \n",
    "      \n",
    "  \n",
    "# Driver Code \n",
    "if __name__ == '__main__' : \n",
    "      \n",
    "    # Enter the string \n",
    "    string = \"python@\"\n",
    "      \n",
    "    # calling run function \n",
    "    check(string)\n",
    "  \n",
    "    string = \"python123\"\n",
    "    check(string)\n",
    "  \n",
    "    string = \"tryitout.\"\n",
    "    check(string)\n",
    "  \n",
    "    string = \"python assignment\"\n",
    "    check(string)"
   ]
  },
  {
   "cell_type": "markdown",
   "metadata": {},
   "source": [
    "##### 6.\tPython Regex – Program to accept string starting with vowel"
   ]
  },
  {
   "cell_type": "code",
   "execution_count": 9,
   "metadata": {},
   "outputs": [
    {
     "name": "stdout",
     "output_type": "stream",
     "text": [
      "Invalid\n",
      "Valid\n",
      "Invalid\n"
     ]
    }
   ],
   "source": [
    "# Python program to accept string starting with a vowel\n",
    "\n",
    "# import re module\n",
    "\n",
    "# re module provides support\n",
    "# for regular expressions\n",
    "import re\n",
    "\n",
    "# Make a regular expression\n",
    "# to accept string starting with vowel\n",
    "regex = '^[aeiouAEIOU][A-Za-z0-9_]*'\n",
    "\t\n",
    "# Define a function for\n",
    "# accepting string start with vowel\n",
    "def check(string):\n",
    "\n",
    "# pass the regular expression\n",
    "# and the string in search() method\n",
    "    if(re.search(regex, string)):\n",
    "        print(\"Valid\")\n",
    "\n",
    "    else:\n",
    "        print(\"Invalid\")\n",
    "\n",
    "\n",
    "# Driver Code\n",
    "if __name__ == '__main__' :\n",
    "\n",
    "# Enter the string\n",
    "    string = \"python\"\n",
    "\n",
    "# calling run function\n",
    "    check(string)\n",
    "\n",
    "    string = \"assignment\"\n",
    "    check(string)\n",
    "\n",
    "    string = \"section\"\n",
    "    check(string)\n"
   ]
  },
  {
   "cell_type": "markdown",
   "metadata": {},
   "source": [
    "##### 7.\tPython Program to check if a string starts with a substring using regex"
   ]
  },
  {
   "cell_type": "code",
   "execution_count": 10,
   "metadata": {},
   "outputs": [
    {
     "name": "stdout",
     "output_type": "stream",
     "text": [
      "string starts with the given substring\n",
      "string doesn't start with the given substring\n"
     ]
    }
   ],
   "source": [
    "import re\n",
    "  \n",
    "# define a function \n",
    "def find(string, sample) :\n",
    "    \n",
    "  # check substring present \n",
    "  # in a string or not\n",
    "  if (sample in string):\n",
    "  \n",
    "      y = \"^\" + sample\n",
    "  \n",
    "      # check if string starts \n",
    "      # with the substring\n",
    "      x = re.search(y, string)\n",
    "  \n",
    "      if x :\n",
    "          print(\"string starts with the given substring\")\n",
    "  \n",
    "      else :\n",
    "          print(\"string doesn't start with the given substring\")\n",
    "  \n",
    "  else :\n",
    "      print(\"entered string isn't a substring\")\n",
    "  \n",
    "  \n",
    "# Driver code\n",
    "string = \"geeks for geeks makes learning fun\"  \n",
    "sample = \"geeks\"\n",
    "  \n",
    "# function call\n",
    "find(string, sample)\n",
    "  \n",
    "sample = \"makes\"\n",
    "  \n",
    "# function call\n",
    "find(string, sample)"
   ]
  },
  {
   "cell_type": "markdown",
   "metadata": {},
   "source": [
    "##### 8.\tPython Program to Check if an URL is valid or not using Regular Expression"
   ]
  },
  {
   "cell_type": "code",
   "execution_count": 11,
   "metadata": {},
   "outputs": [
    {
     "name": "stdout",
     "output_type": "stream",
     "text": [
      "Yes\n"
     ]
    }
   ],
   "source": [
    "import re\n",
    "def isValidURL(str):\n",
    " \n",
    "    # Regex to check valid URL\n",
    "    regex = (\"((http|https)://)(www.)?\" +\n",
    "             \"[a-zA-Z0-9@:%._\\\\+~#?&//=]\" +\n",
    "             \"{2,256}\\\\.[a-z]\" +\n",
    "             \"{2,6}\\\\b([-a-zA-Z0-9@:%\" +\n",
    "             \"._\\\\+~#?&//=]*)\")\n",
    "     \n",
    "    # Compile the ReGex\n",
    "    p = re.compile(regex)\n",
    " \n",
    "    # If the string is empty\n",
    "    # return false\n",
    "    if (str == None):\n",
    "        return False\n",
    " \n",
    "    # Return if the string\n",
    "    # matched the ReGex\n",
    "    if(re.search(p, str)):\n",
    "        return True\n",
    "    else:\n",
    "        return False\n",
    " \n",
    "# Driver code\n",
    " \n",
    "# Test Case 1:\n",
    "url = \"https://www.ineuron.com\"\n",
    " \n",
    "if(isValidURL(url) == True):\n",
    "    print(\"Yes\")\n",
    "else:\n",
    "    print(\"No\")"
   ]
  },
  {
   "cell_type": "markdown",
   "metadata": {},
   "source": [
    "##### 9.\tParsing and Processing URL using Python – Regex"
   ]
  },
  {
   "cell_type": "code",
   "execution_count": 12,
   "metadata": {},
   "outputs": [
    {
     "name": "stdout",
     "output_type": "stream",
     "text": [
      "['https']\n",
      "['ineuron.com']\n"
     ]
    }
   ],
   "source": [
    "import re  \n",
    "  \n",
    "# url link\n",
    "s = 'https://www.ineuron.com/'\n",
    "  \n",
    "# finding the protocol \n",
    "obj1 = re.findall('(\\w+)://',\n",
    "                  s)\n",
    "print(obj1)\n",
    "  \n",
    "# finding the hostname which may\n",
    "# contain dash or dots\n",
    "obj2 = re.findall('://www.([\\w\\-\\.]+)', \n",
    "                  s)\n",
    "print(obj2)"
   ]
  },
  {
   "cell_type": "markdown",
   "metadata": {},
   "source": [
    "##### 10.\tPython Program to validate an IP address using ReGex"
   ]
  },
  {
   "cell_type": "code",
   "execution_count": 13,
   "metadata": {},
   "outputs": [
    {
     "name": "stdout",
     "output_type": "stream",
     "text": [
      "Invalid IP\n"
     ]
    }
   ],
   "source": [
    "import socket\n",
    "addr = '127.0.0.2561'\n",
    "try:\n",
    "    socket.inet_aton(addr)\n",
    "    print(\"Valid IP\")\n",
    "except socket.error:\n",
    "    print(\"Invalid IP\")\n"
   ]
  },
  {
   "cell_type": "code",
   "execution_count": null,
   "metadata": {},
   "outputs": [],
   "source": []
  }
 ],
 "metadata": {
  "kernelspec": {
   "display_name": "Python 3",
   "language": "python",
   "name": "python3"
  },
  "language_info": {
   "codemirror_mode": {
    "name": "ipython",
    "version": 3
   },
   "file_extension": ".py",
   "mimetype": "text/x-python",
   "name": "python",
   "nbconvert_exporter": "python",
   "pygments_lexer": "ipython3",
   "version": "3.7.3"
  }
 },
 "nbformat": 4,
 "nbformat_minor": 2
}
