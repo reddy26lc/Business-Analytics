{
 "cells": [
  {
   "cell_type": "markdown",
   "metadata": {},
   "source": [
    "##### 1.\tWrite a Python program to find those numbers which are divisible by 7 and multiple of 5, between 1500 and 2700 (both included)."
   ]
  },
  {
   "cell_type": "code",
   "execution_count": 1,
   "metadata": {},
   "outputs": [
    {
     "name": "stdout",
     "output_type": "stream",
     "text": [
      "1505,1540,1575,1610,1645,1680,1715,1750,1785,1820,1855,1890,1925,1960,1995,2030,2065,2100,2135,2170,2205,2240,2275,2310,2345,2380,2415,2450,2485,2520,2555,2590,2625,2660,2695\n"
     ]
    }
   ],
   "source": [
    "nl=[]\n",
    "for x in range(1500, 2701):\n",
    "    if (x%7==0) and (x%5==0):\n",
    "        nl.append(str(x))\n",
    "print (','.join(nl))\n"
   ]
  },
  {
   "cell_type": "markdown",
   "metadata": {},
   "source": [
    "##### 2.\tWrite a Python program that accepts a word from the user and reverse it."
   ]
  },
  {
   "cell_type": "code",
   "execution_count": 3,
   "metadata": {},
   "outputs": [
    {
     "name": "stdout",
     "output_type": "stream",
     "text": [
      "Input a word to reverse: python \n",
      " nohtyp\n",
      "\n"
     ]
    }
   ],
   "source": [
    "word = input(\"Input a word to reverse: \")\n",
    "\n",
    "for char in range(len(word) - 1, -1, -1):\n",
    "  print(word[char], end=\"\")\n",
    "print(\"\\n\")\n"
   ]
  },
  {
   "cell_type": "markdown",
   "metadata": {},
   "source": [
    "##### 3.\tWrite a Python program to calculate a dog's age in dog's years.  Note: For the first two years, a dog year is equal to 10.5 human years. After that, each dog year equals 4 human years."
   ]
  },
  {
   "cell_type": "code",
   "execution_count": 6,
   "metadata": {},
   "outputs": [
    {
     "name": "stdout",
     "output_type": "stream",
     "text": [
      "Input a dog's age in human years: 2\n",
      "The dog's age in dog's years is 21.0\n"
     ]
    }
   ],
   "source": [
    "dog_age = int(input(\"Input a dog's age in human years: \"))\n",
    "\n",
    "if dog_age < 0:\n",
    "    print(\"Age must be positive number.\")\n",
    "    exit()\n",
    "elif dog_age <= 2:\n",
    "    d_age = dog_age * 10.5\n",
    "else:\n",
    "    d_age = 21 + (dog_age - 2)*4\n",
    "\n",
    "print(\"The dog's age in dog's years is\", d_age)\n"
   ]
  },
  {
   "cell_type": "markdown",
   "metadata": {},
   "source": [
    "##### 4.\tWrite a Python program to check a triangle is equilateral, isosceles or scalene"
   ]
  },
  {
   "cell_type": "code",
   "execution_count": 7,
   "metadata": {},
   "outputs": [
    {
     "name": "stdout",
     "output_type": "stream",
     "text": [
      "Input lengths of the triangle sides: \n",
      "x: 3\n",
      "y: 4\n",
      "z: 5\n",
      "Scalene triangle\n"
     ]
    }
   ],
   "source": [
    "print(\"Input lengths of the triangle sides: \")\n",
    "x = int(input(\"x: \"))\n",
    "y = int(input(\"y: \"))\n",
    "z = int(input(\"z: \"))\n",
    "\n",
    "if x == y == z:\n",
    "    print(\"Equilateral triangle\")\n",
    "elif x==y or y==z or z==x:\n",
    "    print(\"isosceles triangle\")\n",
    "else:\n",
    "    print(\"Scalene triangle\")\n"
   ]
  },
  {
   "cell_type": "markdown",
   "metadata": {},
   "source": [
    "##### 5.\tWrite a Python program to detect the number of local variables declared in a function"
   ]
  },
  {
   "cell_type": "code",
   "execution_count": 8,
   "metadata": {},
   "outputs": [
    {
     "name": "stdout",
     "output_type": "stream",
     "text": [
      "3\n"
     ]
    }
   ],
   "source": [
    "def abc():\n",
    "    x = 1\n",
    "    y = 2\n",
    "    str1= \"python\"\n",
    "    print(\"Python assignments\")\n",
    "\n",
    "print(abc.__code__.co_nlocals)\n"
   ]
  },
  {
   "cell_type": "markdown",
   "metadata": {},
   "source": [
    "##### 6.\tWrite a Python program to execute a string containing Python code."
   ]
  },
  {
   "cell_type": "code",
   "execution_count": 9,
   "metadata": {},
   "outputs": [
    {
     "name": "stdout",
     "output_type": "stream",
     "text": [
      "hello world\n",
      "Multiply of 2 and 3 is:  6\n"
     ]
    }
   ],
   "source": [
    "mycode = 'print(\"hello world\")'\n",
    "code = \"\"\"\n",
    "def mutiply(x,y):\n",
    "    return x*y\n",
    "\n",
    "print('Multiply of 2 and 3 is: ',mutiply(2,3))\n",
    "\"\"\"\n",
    "exec(mycode)\n",
    "exec(code)\n"
   ]
  },
  {
   "cell_type": "markdown",
   "metadata": {},
   "source": [
    "##### 7.\tWrite a Python program to convert a given list of tuples to a list of strings using map function."
   ]
  },
  {
   "cell_type": "code",
   "execution_count": 11,
   "metadata": {},
   "outputs": [
    {
     "name": "stdout",
     "output_type": "stream",
     "text": [
      "The original list is : [('P', 'H', 'Y', 'T', 'H', 'O', 'N'), ('F', 'O', 'R'), ('l', 'e', 'a', 'r', 'n', 'i', 'n', 'g')]\n",
      "The list after conversion to list of string : ['PHYTHON', 'FOR', 'learning']\n"
     ]
    }
   ],
   "source": [
    "test_list = [('P', 'H', 'Y', 'T', 'H', 'O', 'N'), ('F', 'O', 'R'),\n",
    "                              ('l', 'e', 'a', 'r', 'n', 'i', 'n', 'g')]\n",
    "  \n",
    "# printing the original list\n",
    "print (\"The original list is : \" + str(test_list))\n",
    "  \n",
    "# using list comprehension + join()\n",
    "# conversion of list of tuple to list of list \n",
    "res = [''.join(i) for i in test_list]\n",
    "  \n",
    "# printing result\n",
    "print (\"The list after conversion to list of string : \" + str(res))"
   ]
  },
  {
   "cell_type": "markdown",
   "metadata": {},
   "source": [
    "###### 8.\tWrite a Python program to split a given dictionary of lists into list of dictionaries using map function."
   ]
  },
  {
   "cell_type": "code",
   "execution_count": 12,
   "metadata": {},
   "outputs": [
    {
     "name": "stdout",
     "output_type": "stream",
     "text": [
      "Original dictionary of lists:\n",
      "{'Science': [88, 89, 62, 95], 'Language': [77, 78, 84, 80]}\n",
      "\n",
      "Split said dictionary of lists into list of dictionaries:\n",
      "[{'Science': 88, 'Language': 77}, {'Science': 89, 'Language': 78}, {'Science': 62, 'Language': 84}, {'Science': 95, 'Language': 80}]\n"
     ]
    }
   ],
   "source": [
    "def list_of_dicts(marks):\n",
    "    keys = marks.keys()\n",
    "    vals = zip(*[marks[k] for k in keys])\n",
    "    result = [dict(zip(keys, v)) for v in vals]\n",
    "    return result\n",
    "\n",
    "marks = {'Science': [88, 89, 62, 95], 'Language': [77, 78, 84, 80]}\n",
    "print(\"Original dictionary of lists:\")\n",
    "print(marks)\n",
    "print(\"\\nSplit said dictionary of lists into list of dictionaries:\")\n",
    "print(list_of_dicts(marks))\n"
   ]
  },
  {
   "cell_type": "markdown",
   "metadata": {},
   "source": [
    "##### 9.\tWrite a Python program to scan a specified directory and identify the sub directories and files."
   ]
  },
  {
   "cell_type": "code",
   "execution_count": 15,
   "metadata": {},
   "outputs": [
    {
     "name": "stdout",
     "output_type": "stream",
     "text": [
      "All Users dir\n",
      "Default dir\n",
      "Default User dir\n",
      "defaultuser100000 dir\n",
      "desktop.ini file\n",
      "leo26 dir\n",
      "Public dir\n",
      "User dir\n"
     ]
    }
   ],
   "source": [
    "import os\n",
    "root = 'c:\\\\Users\\\\'\n",
    "for entry in os.scandir(root):\n",
    "   if entry.is_dir():\n",
    "       typ = 'dir'\n",
    "   elif entry.is_file():\n",
    "       typ = 'file'\n",
    "   elif entry.is_symlink():\n",
    "       typ = 'link'\n",
    "   else:\n",
    "       typ = 'unknown'\n",
    "   print('{name} {typ}'.format(\n",
    "       name=entry.name,\n",
    "       typ=typ,\n",
    "   ))\n"
   ]
  },
  {
   "cell_type": "markdown",
   "metadata": {},
   "source": [
    "##### 10.\tWrite a Python program to parse a string representing time and returns the structure time. "
   ]
  },
  {
   "cell_type": "code",
   "execution_count": 23,
   "metadata": {},
   "outputs": [
    {
     "name": "stdout",
     "output_type": "stream",
     "text": [
      "String representing time: 22 January, 2020\n",
      "time.struct_time(tm_year=2020, tm_mon=1, tm_mday=22, tm_hour=0, tm_min=0, tm_sec=0, tm_wday=2, tm_yday=22, tm_isdst=-1)\n",
      "\n",
      "String representing time: 30 Nov 00\n",
      "time.struct_time(tm_year=2000, tm_mon=11, tm_mday=30, tm_hour=0, tm_min=0, tm_sec=0, tm_wday=3, tm_yday=335, tm_isdst=-1)\n",
      "\n",
      "String representing time: 04/11/15 11:55:23\n",
      "time.struct_time(tm_year=2015, tm_mon=4, tm_mday=11, tm_hour=11, tm_min=55, tm_sec=23, tm_wday=5, tm_yday=101, tm_isdst=-1)\n",
      "\n",
      "String representing time: 12-11-2019\n",
      "time.struct_time(tm_year=2019, tm_mon=12, tm_mday=11, tm_hour=0, tm_min=0, tm_sec=0, tm_wday=2, tm_yday=345, tm_isdst=-1)\n",
      "\n",
      "String representing time: 13::55::26\n",
      "time.struct_time(tm_year=1900, tm_mon=1, tm_mday=1, tm_hour=13, tm_min=55, tm_sec=26, tm_wday=0, tm_yday=1, tm_isdst=-1)\n"
     ]
    }
   ],
   "source": [
    "import time\n",
    "time_string = \"22 January, 2020\"\n",
    "print(\"String representing time:\",time_string)\n",
    "result = time.strptime(time_string, \"%d %B, %Y\")\n",
    "print(result)\n",
    "time_string = \"30 Nov 00\"\n",
    "print(\"\\nString representing time:\",time_string)\n",
    "result = time.strptime(time_string, \"%d %b %y\")\n",
    "print(result)\n",
    "time_string = '04/11/15 11:55:23'\n",
    "print(\"\\nString representing time:\",time_string)\n",
    "result = time.strptime(time_string, \"%m/%d/%y %H:%M:%S\")\n",
    "print(result)\n",
    "time_string = '12-11-2019'\n",
    "print(\"\\nString representing time:\",time_string)\n",
    "result = time.strptime(time_string, \"%m-%d-%Y\")\n",
    "print(result)\n",
    "time_string = '13::55::26'\n",
    "print(\"\\nString representing time:\",time_string)\n",
    "result = time.strptime(time_string, \"%H::%M::%S\")\n",
    "print(result)\n"
   ]
  },
  {
   "cell_type": "markdown",
   "metadata": {},
   "source": [
    "##### 11.\tWrite a Python code to send some sort of data in the URL's query string."
   ]
  },
  {
   "cell_type": "code",
   "execution_count": 24,
   "metadata": {},
   "outputs": [
    {
     "name": "stdout",
     "output_type": "stream",
     "text": [
      "Parameters:  {'key1': 'value1', 'key2': 'value2'}\n",
      "Print the url to check the URL has been correctly encoded or not!\n",
      "https://httpbin.org/get?key1=value1&key2=value2\n",
      "\n",
      "Pass a list of items as a value:\n",
      "Parameters:  {'key1': 'value1', 'key2': ['value2', 'value3']}\n",
      "Print the url to check the URL has been correctly encoded or not!\n",
      "https://httpbin.org/get?key1=value1&key2=value2&key2=value3\n"
     ]
    }
   ],
   "source": [
    "import requests\n",
    "payload = {'key1': 'value1', 'key2': 'value2'}\n",
    "print(\"Parameters: \",payload)\n",
    "r = requests.get('https://httpbin.org/get', params=payload)\n",
    "print(\"Print the url to check the URL has been correctly encoded or not!\")\n",
    "print(r.url)\n",
    "print(\"\\nPass a list of items as a value:\")\n",
    "payload = {'key1': 'value1', 'key2': ['value2', 'value3']}\n",
    "print(\"Parameters: \",payload)\n",
    "r = requests.get('https://httpbin.org/get', params=payload)\n",
    "print(\"Print the url to check the URL has been correctly encoded or not!\")\n",
    "print(r.url)\n"
   ]
  },
  {
   "cell_type": "markdown",
   "metadata": {},
   "source": [
    "##### 12.\tWrite a Python code to send a request to a web page, and print the information of headers. Also parse these values and print key-value pairs holding various information. "
   ]
  },
  {
   "cell_type": "code",
   "execution_count": 32,
   "metadata": {},
   "outputs": [
    {
     "name": "stdout",
     "output_type": "stream",
     "text": [
      "Headers information of the said response:\n",
      "{'Server': 'GitHub.com', 'Date': 'Mon, 07 Jun 2021 09:38:57 GMT', 'Cache-Control': 'public, max-age=60, s-maxage=60', 'Vary': 'Accept, Accept-Encoding, Accept, X-Requested-With', 'ETag': '\"27278c3efffccc4a7be1bf315653b901b14f2989b2c2600d7cc2e90a97ffbf60\"', 'Access-Control-Expose-Headers': 'ETag, Link, Location, Retry-After, X-GitHub-OTP, X-RateLimit-Limit, X-RateLimit-Remaining, X-RateLimit-Used, X-RateLimit-Resource, X-RateLimit-Reset, X-OAuth-Scopes, X-Accepted-OAuth-Scopes, X-Poll-Interval, X-GitHub-Media-Type, Deprecation, Sunset', 'Access-Control-Allow-Origin': '*', 'Strict-Transport-Security': 'max-age=31536000; includeSubdomains; preload', 'X-Frame-Options': 'deny', 'X-Content-Type-Options': 'nosniff', 'X-XSS-Protection': '0', 'Referrer-Policy': 'origin-when-cross-origin, strict-origin-when-cross-origin', 'Content-Security-Policy': \"default-src 'none'\", 'Content-Type': 'application/json; charset=utf-8', 'X-GitHub-Media-Type': 'github.v3; format=json', 'Content-Encoding': 'gzip', 'X-RateLimit-Limit': '60', 'X-RateLimit-Remaining': '52', 'X-RateLimit-Reset': '1623062336', 'X-RateLimit-Resource': 'core', 'X-RateLimit-Used': '8', 'Accept-Ranges': 'bytes', 'Content-Length': '512', 'X-GitHub-Request-Id': 'C5D4:DFC3:4D96598:4F251BB:60BDE93A'}\n",
      "\n",
      "Various Key-value pairs information of the said resource and request:\n",
      "Date:  Mon, 07 Jun 2021 09:38:57 GMT\n",
      "server:  GitHub.com\n"
     ]
    },
    {
     "ename": "KeyError",
     "evalue": "'status'",
     "output_type": "error",
     "traceback": [
      "\u001b[1;31m---------------------------------------------------------------------------\u001b[0m",
      "\u001b[1;31mKeyError\u001b[0m                                  Traceback (most recent call last)",
      "\u001b[1;32m<ipython-input-32-5f81553d4a16>\u001b[0m in \u001b[0;36m<module>\u001b[1;34m()\u001b[0m\n\u001b[0;32m      8\u001b[0m \u001b[0mprint\u001b[0m\u001b[1;33m(\u001b[0m\u001b[1;34m\"Date: \"\u001b[0m\u001b[1;33m,\u001b[0m\u001b[0mr\u001b[0m\u001b[1;33m.\u001b[0m\u001b[0mheaders\u001b[0m\u001b[1;33m[\u001b[0m\u001b[1;34m'date'\u001b[0m\u001b[1;33m]\u001b[0m\u001b[1;33m)\u001b[0m\u001b[1;33m\u001b[0m\u001b[1;33m\u001b[0m\u001b[0m\n\u001b[0;32m      9\u001b[0m \u001b[0mprint\u001b[0m\u001b[1;33m(\u001b[0m\u001b[1;34m\"server: \"\u001b[0m\u001b[1;33m,\u001b[0m\u001b[0mr\u001b[0m\u001b[1;33m.\u001b[0m\u001b[0mheaders\u001b[0m\u001b[1;33m[\u001b[0m\u001b[1;34m'server'\u001b[0m\u001b[1;33m]\u001b[0m\u001b[1;33m)\u001b[0m\u001b[1;33m\u001b[0m\u001b[1;33m\u001b[0m\u001b[0m\n\u001b[1;32m---> 10\u001b[1;33m \u001b[0mprint\u001b[0m\u001b[1;33m(\u001b[0m\u001b[1;34m\"status: \"\u001b[0m\u001b[1;33m,\u001b[0m\u001b[0mr\u001b[0m\u001b[1;33m.\u001b[0m\u001b[0mheaders\u001b[0m\u001b[1;33m[\u001b[0m\u001b[1;34m'status'\u001b[0m\u001b[1;33m]\u001b[0m\u001b[1;33m)\u001b[0m\u001b[1;33m\u001b[0m\u001b[1;33m\u001b[0m\u001b[0m\n\u001b[0m\u001b[0;32m     11\u001b[0m \u001b[0mprint\u001b[0m\u001b[1;33m(\u001b[0m\u001b[1;34m\"cache-control: \"\u001b[0m\u001b[1;33m,\u001b[0m\u001b[0mr\u001b[0m\u001b[1;33m.\u001b[0m\u001b[0mheaders\u001b[0m\u001b[1;33m[\u001b[0m\u001b[1;34m'cache-control'\u001b[0m\u001b[1;33m]\u001b[0m\u001b[1;33m)\u001b[0m\u001b[1;33m\u001b[0m\u001b[1;33m\u001b[0m\u001b[0m\n\u001b[0;32m     12\u001b[0m \u001b[0mprint\u001b[0m\u001b[1;33m(\u001b[0m\u001b[1;34m\"vary: \"\u001b[0m\u001b[1;33m,\u001b[0m\u001b[0mr\u001b[0m\u001b[1;33m.\u001b[0m\u001b[0mheaders\u001b[0m\u001b[1;33m[\u001b[0m\u001b[1;34m'vary'\u001b[0m\u001b[1;33m]\u001b[0m\u001b[1;33m)\u001b[0m\u001b[1;33m\u001b[0m\u001b[1;33m\u001b[0m\u001b[0m\n",
      "\u001b[1;32mc:\\users\\leo26\\anaconda3\\lib\\site-packages\\requests\\structures.py\u001b[0m in \u001b[0;36m__getitem__\u001b[1;34m(self, key)\u001b[0m\n\u001b[0;32m     52\u001b[0m \u001b[1;33m\u001b[0m\u001b[0m\n\u001b[0;32m     53\u001b[0m     \u001b[1;32mdef\u001b[0m \u001b[0m__getitem__\u001b[0m\u001b[1;33m(\u001b[0m\u001b[0mself\u001b[0m\u001b[1;33m,\u001b[0m \u001b[0mkey\u001b[0m\u001b[1;33m)\u001b[0m\u001b[1;33m:\u001b[0m\u001b[1;33m\u001b[0m\u001b[1;33m\u001b[0m\u001b[0m\n\u001b[1;32m---> 54\u001b[1;33m         \u001b[1;32mreturn\u001b[0m \u001b[0mself\u001b[0m\u001b[1;33m.\u001b[0m\u001b[0m_store\u001b[0m\u001b[1;33m[\u001b[0m\u001b[0mkey\u001b[0m\u001b[1;33m.\u001b[0m\u001b[0mlower\u001b[0m\u001b[1;33m(\u001b[0m\u001b[1;33m)\u001b[0m\u001b[1;33m]\u001b[0m\u001b[1;33m[\u001b[0m\u001b[1;36m1\u001b[0m\u001b[1;33m]\u001b[0m\u001b[1;33m\u001b[0m\u001b[1;33m\u001b[0m\u001b[0m\n\u001b[0m\u001b[0;32m     55\u001b[0m \u001b[1;33m\u001b[0m\u001b[0m\n\u001b[0;32m     56\u001b[0m     \u001b[1;32mdef\u001b[0m \u001b[0m__delitem__\u001b[0m\u001b[1;33m(\u001b[0m\u001b[0mself\u001b[0m\u001b[1;33m,\u001b[0m \u001b[0mkey\u001b[0m\u001b[1;33m)\u001b[0m\u001b[1;33m:\u001b[0m\u001b[1;33m\u001b[0m\u001b[1;33m\u001b[0m\u001b[0m\n",
      "\u001b[1;31mKeyError\u001b[0m: 'status'"
     ]
    }
   ],
   "source": [
    "import requests\n",
    "r = requests.get('https://api.github.com/')\n",
    "response = r.headers\n",
    "print(\"Headers information of the said response:\")\n",
    "print(response)\n",
    "print(\"\\nVarious Key-value pairs information of the said resource and request:\")\n",
    "\n",
    "print(\"Date: \",r.headers['date'])\n",
    "print(\"server: \",r.headers['server'])\n",
    "print(\"status: \",r.headers['status'])\n",
    "print(\"cache-control: \",r.headers['cache-control'])\n",
    "print(\"vary: \",r.headers['vary'])\n",
    "print(\"x-github-media-type: \",r.headers['x-github-media-type'])\n",
    "print(\"access-control-expose-headers: \",r.headers['access-control-expose-headers'])\n",
    "print(\"strict-transport-security: \",r.headers['strict-transport-security'])\n",
    "print(\"x-content-type-options: \",r.headers['x-content-type-options'])\n",
    "print(\"x-xss-protection: \",r.headers['x-xss-protection'])\n",
    "print(\"referrer-policy: \",r.headers['referrer-policy'])\n",
    "print(\"content-security-policy: \",r.headers['content-security-policy'])\n",
    "print(\"content-encoding: \",r.headers['content-encoding'])\n",
    "print(\"X-Ratelimit-Remaining: \",r.headers['X-Ratelimit-Remaining'])\n",
    "print(\"X-Ratelimit-Reset: \",r.headers['X-Ratelimit-Reset'])\n",
    "print(\"X-Ratelimit-Used: \",r.headers['X-Ratelimit-Used'])\n",
    "print(\"Accept-Ranges:\",r.headers['Accept-Ranges'])\n",
    "print(\"X-GitHub-Request-Id:\",r.headers['X-GitHub-Request-Id'])\n"
   ]
  },
  {
   "cell_type": "markdown",
   "metadata": {},
   "source": [
    "##### 13.\tWrite a Python program to write a Python dictionary to a csv file. After writing the CSV file read the CSV file and display the content. "
   ]
  },
  {
   "cell_type": "code",
   "execution_count": 33,
   "metadata": {},
   "outputs": [
    {
     "name": "stdout",
     "output_type": "stream",
     "text": [
      "CSV file as a dictionary:\n",
      "\n",
      "OrderedDict([('id', \"['1', '2', '3']\"), ('Column1', '[33, 25, 56]'), ('Column2', '[35, 30, 30]'), ('Column3', '[21, 40, 55]'), ('Column4', '[71, 25, 55]'), ('Column5', '[10, 10, 40]')])\n",
      "OrderedDict([('id', \"['1', '2', '3']\"), ('Column1', '[33, 25, 56]'), ('Column2', '[35, 30, 30]'), ('Column3', '[21, 40, 55]'), ('Column4', '[71, 25, 55]'), ('Column5', '[10, 10, 40]')])\n",
      "OrderedDict([('id', \"['1', '2', '3']\"), ('Column1', '[33, 25, 56]'), ('Column2', '[35, 30, 30]'), ('Column3', '[21, 40, 55]'), ('Column4', '[71, 25, 55]'), ('Column5', '[10, 10, 40]')])\n",
      "OrderedDict([('id', \"['1', '2', '3']\"), ('Column1', '[33, 25, 56]'), ('Column2', '[35, 30, 30]'), ('Column3', '[21, 40, 55]'), ('Column4', '[71, 25, 55]'), ('Column5', '[10, 10, 40]')])\n",
      "OrderedDict([('id', \"['1', '2', '3']\"), ('Column1', '[33, 25, 56]'), ('Column2', '[35, 30, 30]'), ('Column3', '[21, 40, 55]'), ('Column4', '[71, 25, 55]'), ('Column5', '[10, 10, 40]')])\n",
      "OrderedDict([('id', \"['1', '2', '3']\"), ('Column1', '[33, 25, 56]'), ('Column2', '[35, 30, 30]'), ('Column3', '[21, 40, 55]'), ('Column4', '[71, 25, 55]'), ('Column5', '[10, 10, 40]')])\n"
     ]
    }
   ],
   "source": [
    "import csv\n",
    "csv_columns = ['id','Column1', 'Column2', 'Column3', 'Column4', 'Column5']\n",
    "dict_data = {'id':['1', '2', '3'],\n",
    "    'Column1':[33, 25, 56],\n",
    "    'Column2':[35, 30, 30],\n",
    "    'Column3':[21, 40, 55],\n",
    "    'Column4':[71, 25, 55],\n",
    "    'Column5':[10, 10, 40], }\n",
    "csv_file = \"temp.csv\"\n",
    "try:\n",
    "   with open(csv_file, 'w') as csvfile:\n",
    "       writer = csv.DictWriter(csvfile, fieldnames=csv_columns)\n",
    "       writer.writeheader()\n",
    "       for data in dict_data:\n",
    "           writer.writerow(dict_data)\n",
    "except IOError:\n",
    "   print(\"I/O error\")\n",
    "data = csv.DictReader(open(csv_file))\n",
    "print(\"CSV file as a dictionary:\\n\")\n",
    "for row in data:\n",
    "   print(row)\n"
   ]
  },
  {
   "cell_type": "markdown",
   "metadata": {},
   "source": [
    "##### 14.\tWrite a Python program that reads each row of a given csv file and skip the header of the file. Also print the number of rows and the field names. "
   ]
  },
  {
   "cell_type": "code",
   "execution_count": 38,
   "metadata": {},
   "outputs": [
    {
     "name": "stdout",
     "output_type": "stream",
     "text": [
      "AFG,Afghanistan,Asia\n",
      "AGO,Angola,Africa\n",
      "ALB,Albania,Europe\n",
      "AND,Andorra,Europe\n",
      "ARE,United, Arab, Emirates,Asia\n",
      "ARG,Argentina,South, America\n",
      "ARM,Armenia,Asia\n",
      "ATG,Antigua, and, Barbuda,North, America\n",
      "AUS,Australia,Oceania\n",
      "AUT,Austria,Europe\n",
      "AZE,Azerbaijan,Asia\n",
      "BDI,Burundi,Africa\n",
      "BEL,Belgium,Europe\n",
      "BEN,Benin,Africa\n",
      "BFA,Burkina, Faso,Africa\n",
      "BGD,Bangladesh,Asia\n",
      "BGR,Bulgaria,Europe\n",
      "BHR,Bahrain,Asia\n",
      "BHS,Bahamas,North, America\n",
      "BIH,Bosnia, and, Herzegovina,Europe\n",
      "BLR,Belarus,Europe\n",
      "BLZ,Belize,North, America\n",
      "BOL,\"Bolivia,, Plurinational, State, of\",South, America\n",
      "BRA,Brazil,South, America\n",
      "BRB,Barbados,North, America\n",
      "BRN,Brunei, Darussalam,Asia\n",
      "BTN,Bhutan,Asia\n",
      "BWA,Botswana,Africa\n",
      "CAF,Central, African, Republic,Africa\n",
      "CAN,Canada,North, America\n",
      "CHE,Switzerland,Europe\n",
      "CHL,Chile,South, America\n",
      "CHN,China,Asia\n",
      "CIV,CÃ´te, d'Ivoire,Africa\n",
      "CMR,Cameroon,Africa\n",
      "COD,\"Congo,, The, Democratic, Republic, of, the\",Africa\n",
      "COG,Congo,Africa\n",
      "COL,Colombia,South, America\n",
      "COM,Comoros,Africa\n",
      "CPV,Cabo, Verde,Africa\n",
      "CRI,Costa, Rica,North, America\n",
      "CUB,Cuba,North, America\n",
      "CYP,Cyprus,Europe\n",
      "CZE,Czechia,Europe\n",
      "DEU,Germany,Europe\n",
      "DJI,Djibouti,Africa\n",
      "DMA,Dominica,North, America\n",
      "DNK,Denmark,Europe\n",
      "DOM,Dominican, Republic,North, America\n",
      "DZA,Algeria,Africa\n",
      "ECU,Ecuador,South, America\n",
      "EGY,Egypt,Africa\n",
      "ERI,Eritrea,Africa\n",
      "ESP,Spain,Europe\n",
      "EST,Estonia,Europe\n",
      "ETH,Ethiopia,Africa\n",
      "FIN,Finland,Europe\n",
      "FJI,Fiji,Oceania\n",
      "FRA,France,Europe\n",
      "FSM,\"Micronesia,, Federated, States, of\",Oceania\n",
      "GAB,Gabon,Africa\n",
      "GBR,United, Kingdom,Europe\n",
      "GEO,Georgia,Asia\n",
      "GHA,Ghana,Africa\n",
      "GIN,Guinea,Africa\n",
      "GMB,Gambia,Africa\n",
      "GNB,Guinea-Bissau,Africa\n",
      "GNQ,Equatorial, Guinea,Africa\n",
      "GRC,Greece,Europe\n",
      "GRD,Grenada,North, America\n",
      "GTM,Guatemala,North, America\n",
      "GUY,Guyana,South, America\n",
      "HND,Honduras,North, America\n",
      "HRV,Croatia,Europe\n",
      "HTI,Haiti,North, America\n",
      "HUN,Hungary,Europe\n",
      "IDN,Indonesia,Asia\n",
      "IND,India,Asia\n",
      "IRL,Ireland,Europe\n",
      "IRN,\"Iran,, Islamic, Republic, of\",Asia\n",
      "IRQ,Iraq,Asia\n",
      "ISL,Iceland,Europe\n",
      "ISR,Israel,Asia\n",
      "ITA,Italy,Europe\n",
      "JAM,Jamaica,North, America\n",
      "JOR,Jordan,Asia\n",
      "JPN,Japan,Asia\n",
      "KAZ,Kazakhstan,Asia\n",
      "KEN,Kenya,Africa\n",
      "KGZ,Kyrgyzstan,Asia\n",
      "KHM,Cambodia,Asia\n",
      "KIR,Kiribati,Oceania\n",
      "KNA,Saint, Kitts, and, Nevis,North, America\n",
      "KOR,\"Korea,, Republic, of\",Asia\n",
      "KWT,Kuwait,Asia\n",
      "LAO,Lao, People's, Democratic, Republic,Asia\n",
      "LBN,Lebanon,Asia\n",
      "LBR,Liberia,Africa\n",
      "LBY,Libya,Africa\n",
      "LCA,Saint, Lucia,North, America\n",
      "LIE,Liechtenstein,Europe\n",
      "LKA,Sri, Lanka,Asia\n",
      "LSO,Lesotho,Africa\n",
      "LTU,Lithuania,Europe\n",
      "LUX,Luxembourg,Europe\n",
      "LVA,Latvia,Europe\n",
      "MAR,Morocco,Africa\n",
      "MCO,Monaco,Europe\n",
      "MDA,\"Moldova,, Republic, of\",Europe\n",
      "MDG,Madagascar,Africa\n",
      "MDV,Maldives,Asia\n",
      "MEX,Mexico,North, America\n",
      "MHL,Marshall, Islands,Oceania\n",
      "MKD,North, Macedonia,Europe\n",
      "MLI,Mali,Africa\n",
      "MLT,Malta,Europe\n",
      "MMR,Myanmar,Asia\n",
      "MNE,Montenegro,Europe\n",
      "MNG,Mongolia,Asia\n",
      "MOZ,Mozambique,Africa\n",
      "MRT,Mauritania,Africa\n",
      "MUS,Mauritius,Africa\n",
      "MWI,Malawi,Africa\n",
      "MYS,Malaysia,Asia\n",
      "NAM,Namibia,Africa\n",
      "NER,Niger,Africa\n",
      "NGA,Nigeria,Africa\n",
      "NIC,Nicaragua,North, America\n",
      "NLD,Netherlands,Europe\n",
      "NOR,Norway,Europe\n",
      "NPL,Nepal,Asia\n",
      "NRU,Nauru,Oceania\n",
      "NZL,New, Zealand,Oceania\n",
      "OMN,Oman,Asia\n",
      "PAK,Pakistan,Asia\n",
      "PAN,Panama,North, America\n",
      "PER,Peru,South, America\n",
      "PHL,Philippines,Asia\n",
      "PLW,Palau,Oceania\n",
      "PNG,Papua, New, Guinea,Oceania\n",
      "POL,Poland,Europe\n",
      "PRK,\"Korea,, Democratic, People's, Republic, of\",Asia\n",
      "PRT,Portugal,Europe\n",
      "PRY,Paraguay,South, America\n",
      "PSE,\"Palestine,, State, of\",Asia\n",
      "QAT,Qatar,Asia\n",
      "ROU,Romania,Europe\n",
      "RUS,Russian, Federation,Europe\n",
      "RWA,Rwanda,Africa\n",
      "SAU,Saudi, Arabia,Asia\n",
      "SDN,Sudan,Africa\n",
      "SEN,Senegal,Africa\n",
      "SGP,Singapore,Asia\n",
      "SLB,Solomon, Islands,Oceania\n",
      "SLE,Sierra, Leone,Africa\n",
      "SLV,El, Salvador,North, America\n",
      "SOM,Somalia,Africa\n",
      "SRB,Serbia,Europe\n",
      "SSD,South, Sudan,Africa\n",
      "STP,Sao, Tome, and, Principe,Africa\n",
      "SUR,Suriname,South, America\n",
      "SVK,Slovakia,Europe\n",
      "SVN,Slovenia,Europe\n",
      "SWE,Sweden,Europe\n",
      "SWZ,Eswatini,Africa\n",
      "SYC,Seychelles,Asia\n",
      "SYR,Syrian, Arab, Republic,Asia\n",
      "TCD,Chad,Africa\n",
      "TGO,Togo,Africa\n",
      "THA,Thailand,Asia\n",
      "TJK,Tajikistan,Asia\n",
      "TKM,Turkmenistan,Asia\n",
      "TLS,Timor-Leste,Asia\n",
      "TON,Tonga,Oceania\n",
      "TTO,Trinidad, and, Tobago,North, America\n",
      "TUN,Tunisia,Africa\n",
      "TUR,Turkey,Asia\n",
      "TUV,Tuvalu,Oceania\n",
      "TWN,\"Taiwan,, Province, of, China\",Asia\n",
      "TZA,\"Tanzania,, United, Republic, of\",Africa\n",
      "UGA,Uganda,Africa\n",
      "UKR,Ukraine,Europe\n",
      "URY,Uruguay,South, America\n",
      "USA,United, States,North, America\n",
      "UZB,Uzbekistan,Asia\n",
      "VCT,Saint, Vincent, and, the, Grenadines,North, America\n",
      "VEN,\"Venezuela,, Bolivarian, Republic, of\",South, America\n",
      "VNM,Viet, Nam,Asia\n",
      "VUT,Vanuatu,Oceania\n",
      "WSM,Samoa,Oceania\n",
      "YEM,Yemen,Asia\n",
      "ZAF,South, Africa,Africa\n",
      "ZMB,Zambia,Africa\n",
      "ZWE,Zimbabwe,Africa\n",
      "XK,Kosovo,Europe\n",
      "\n",
      "Total no. of rows: 196\n",
      "Field names are:\n",
      "country_code,country,continent\n"
     ]
    }
   ],
   "source": [
    "import csv\n",
    "fields = []\n",
    "rows = []\n",
    "with open('countries.csv', newline='') as csvfile:\n",
    "    data = csv.reader(csvfile, delimiter=' ', quotechar=',')\n",
    " # Following command skips the first row of the CSV file.\n",
    "    fields = next(data)\n",
    "    for row in data:\n",
    "        print(', '.join(row))\n",
    "print(\"\\nTotal no. of rows: %d\"%(data.line_num))\n",
    "print('Field names are:')\n",
    "print(', '.join(field for field in fields))\n"
   ]
  },
  {
   "cell_type": "markdown",
   "metadata": {},
   "source": [
    "##### 15.\tWrite a Python program to check that a string contains only a certain set of characters (in this case a-z, A-Z and 0-9) "
   ]
  },
  {
   "cell_type": "code",
   "execution_count": 39,
   "metadata": {},
   "outputs": [
    {
     "name": "stdout",
     "output_type": "stream",
     "text": [
      "True\n",
      "False\n"
     ]
    }
   ],
   "source": [
    "import re\n",
    "def is_allowed_specific_char(string):\n",
    "    charRe = re.compile(r'[^a-zA-Z0-9.]')\n",
    "    string = charRe.search(string)\n",
    "    return not bool(string)\n",
    "\n",
    "print(is_allowed_specific_char(\"ABCDEFabcdef123450\")) \n",
    "print(is_allowed_specific_char(\"*&%@#!}{\"))\n"
   ]
  },
  {
   "cell_type": "code",
   "execution_count": null,
   "metadata": {},
   "outputs": [],
   "source": []
  }
 ],
 "metadata": {
  "kernelspec": {
   "display_name": "Python 3",
   "language": "python",
   "name": "python3"
  },
  "language_info": {
   "codemirror_mode": {
    "name": "ipython",
    "version": 3
   },
   "file_extension": ".py",
   "mimetype": "text/x-python",
   "name": "python",
   "nbconvert_exporter": "python",
   "pygments_lexer": "ipython3",
   "version": "3.7.3"
  }
 },
 "nbformat": 4,
 "nbformat_minor": 2
}
