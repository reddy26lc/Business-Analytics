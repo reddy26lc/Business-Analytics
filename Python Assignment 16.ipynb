{
 "cells": [
  {
   "cell_type": "markdown",
   "metadata": {},
   "source": [
    "###### 1.\tPython Program for Cycle Sort"
   ]
  },
  {
   "cell_type": "code",
   "execution_count": 1,
   "metadata": {},
   "outputs": [
    {
     "name": "stdout",
     "output_type": "stream",
     "text": [
      "Sorted array is : \n",
      "1 3 3 4 4 5 5 6 8 "
     ]
    }
   ],
   "source": [
    "def cycleSort(array):\n",
    "   writes = 0\n",
    "   # cycles to be rotated\n",
    "   for cycleStart in range(0, len(array) - 1):\n",
    "      item = array[cycleStart]\n",
    "      #position to place the item\n",
    "      pos = cycleStart\n",
    "      for i in range(cycleStart + 1, len(array)):\n",
    "         if array[i] < item:\n",
    "            pos += 1\n",
    "      # if item exits, it is not a cycle\n",
    "      if pos == cycleStart:\n",
    "         continue\n",
    "      # Otherwise, place the item\n",
    "      while item == array[pos]:\n",
    "         pos += 1\n",
    "      array[pos], item = item, array[pos]\n",
    "      writes += 1\n",
    "      # rotation continued\n",
    "      while pos != cycleStart:\n",
    "         # Find a position to place the item\n",
    "         pos = cycleStart\n",
    "         for i in range(cycleStart + 1, len(array)):\n",
    "            if array[i] < item:\n",
    "               pos += 1\n",
    "         # place the item\n",
    "         while item == array[pos]:\n",
    "            pos += 1\n",
    "         array[pos], item = item, array[pos]\n",
    "         writes += 1\n",
    "   return writes\n",
    "# main\n",
    "arr = [1,5,3,4,8,6,3,4,5]\n",
    "n = len(arr)\n",
    "cycleSort(arr)\n",
    "print(\"Sorted array is : \")\n",
    "for i in range(0, n) :\n",
    "   print(arr[i], end = \" \")"
   ]
  },
  {
   "cell_type": "markdown",
   "metadata": {},
   "source": [
    "##### 2.\tPython Program for Stooge Sort"
   ]
  },
  {
   "cell_type": "code",
   "execution_count": 2,
   "metadata": {},
   "outputs": [
    {
     "name": "stdout",
     "output_type": "stream",
     "text": [
      "Sorted sequence is:\n",
      "1 2 3 4 5 6 7 8 "
     ]
    }
   ],
   "source": [
    "def stoogesort(arr, l, h):\n",
    "   if l >= h:\n",
    "      return\n",
    "   # swap\n",
    "   if arr[l]>arr[h]:\n",
    "      t = arr[l]\n",
    "      arr[l] = arr[h]\n",
    "      arr[h] = t\n",
    "   # more than 2 elements\n",
    "   if h-l+1 > 2:\n",
    "      t = (int)((h-l+1)/3)\n",
    "      # sort first 2/3 elements\n",
    "      stoogesort(arr, l, (h-t))\n",
    "      # sort last 2/3 elements\n",
    "      stoogesort(arr, l+t, (h))\n",
    "      # sort first 2/3 elements again\n",
    "      stoogesort(arr, l, (h-t))\n",
    "# main\n",
    "arr = [1,4,2,3,6,5,8,7]\n",
    "n = len(arr)\n",
    "stoogesort(arr, 0, n-1)\n",
    "print (\"Sorted sequence is:\")\n",
    "for i in range(0, n):\n",
    "   print(arr[i], end = \" \")"
   ]
  },
  {
   "cell_type": "markdown",
   "metadata": {},
   "source": [
    "##### 3.\tPython Program to print the pattern ‘G’"
   ]
  },
  {
   "cell_type": "code",
   "execution_count": 3,
   "metadata": {},
   "outputs": [
    {
     "name": "stdout",
     "output_type": "stream",
     "text": [
      "  ***  \n",
      " *   * \n",
      " *     \n",
      " * *** \n",
      " *   * \n",
      " *   * \n",
      "  ***  \n",
      "\n"
     ]
    }
   ],
   "source": [
    "result_str=\"\";    \n",
    "for row in range(0,7):    \n",
    "    for column in range(0,7):     \n",
    "        if ((column == 1 and row != 0 and row != 6) or ((row == 0 or row == 6) and column > 1 and column < 5) or (row == 3 and column > 2 and column < 6) or (column == 5 and row != 0 and row != 2 and row != 6)):  \n",
    "            result_str=result_str+\"*\"    \n",
    "        else:      \n",
    "            result_str=result_str+\" \"    \n",
    "    result_str=result_str+\"\\n\"    \n",
    "print(result_str);\n"
   ]
  },
  {
   "cell_type": "markdown",
   "metadata": {},
   "source": [
    "##### 4.\tPython Program to print an Inverted Star Pattern"
   ]
  },
  {
   "cell_type": "code",
   "execution_count": 4,
   "metadata": {},
   "outputs": [
    {
     "name": "stdout",
     "output_type": "stream",
     "text": [
      "********\n",
      " *******\n",
      "  ******\n",
      "   *****\n",
      "    ****\n",
      "     ***\n",
      "      **\n",
      "       *\n"
     ]
    }
   ],
   "source": [
    "for i in range (n, 0, -1):\n",
    "    print((n-i) * ' ' + i * '*')"
   ]
  },
  {
   "cell_type": "markdown",
   "metadata": {},
   "source": [
    "##### 5.\tPython Program to print double sided stair-case pattern"
   ]
  },
  {
   "cell_type": "code",
   "execution_count": 5,
   "metadata": {},
   "outputs": [
    {
     "name": "stdout",
     "output_type": "stream",
     "text": [
      " *   * \n",
      " *   * \n",
      " *   *   *   * \n",
      " *   *   *   * \n",
      " *   *   *   *   *   * \n",
      " *   *   *   *   *   * \n"
     ]
    }
   ],
   "source": [
    "def pattern(n):\n",
    " \n",
    "    # for loop for rows\n",
    "    for i in range(1, n + 1):\n",
    "         \n",
    "        # conditional operator\n",
    "        k = i + 1 if (i % 2 != 0) else i\n",
    " \n",
    "        # according to value of k carry\n",
    "        # out further operation\n",
    "        for j in range(0, k):\n",
    "            if j == k - 1:\n",
    "                print(\" * \")\n",
    "            else:\n",
    "                print(\" * \", end = \" \")\n",
    "             \n",
    "# Driver code\n",
    "n = 6\n",
    "pattern(n)"
   ]
  },
  {
   "cell_type": "markdown",
   "metadata": {},
   "source": [
    "##### 6.\tPython Program to print with your own font"
   ]
  },
  {
   "cell_type": "markdown",
   "metadata": {},
   "source": [
    "##### 7.\tGet Current Date and Time using Python"
   ]
  },
  {
   "cell_type": "code",
   "execution_count": 6,
   "metadata": {},
   "outputs": [
    {
     "name": "stdout",
     "output_type": "stream",
     "text": [
      "Time now is : 2021-06-06 17:10:27.786970\n"
     ]
    }
   ],
   "source": [
    "import datetime \n",
    "    \n",
    "# using now() to get current time \n",
    "current_time = datetime.datetime.now() \n",
    "    \n",
    "# Printing value of now. \n",
    "print (\"Time now is : \"\n",
    "                                    , end = \"\") \n",
    "print (current_time) "
   ]
  },
  {
   "cell_type": "markdown",
   "metadata": {},
   "source": [
    "##### 8.\tPython | Find yesterday’s, today’s and tomorrow’s date"
   ]
  },
  {
   "cell_type": "code",
   "execution_count": 7,
   "metadata": {},
   "outputs": [
    {
     "name": "stdout",
     "output_type": "stream",
     "text": [
      "Yesterday :  2021-06-05\n",
      "Today :  2021-06-06\n",
      "Tomorrow :  2021-06-07\n"
     ]
    }
   ],
   "source": [
    "import datetime \n",
    "today = datetime.date.today()\n",
    "yesterday = today - datetime.timedelta(days = 1)\n",
    "tomorrow = today + datetime.timedelta(days = 1) \n",
    "print('Yesterday : ',yesterday)\n",
    "print('Today : ',today)\n",
    "print('Tomorrow : ',tomorrow)\n"
   ]
  },
  {
   "cell_type": "markdown",
   "metadata": {},
   "source": [
    "###### 9.\tPython program to convert time from 12 hour to 24 hour format"
   ]
  },
  {
   "cell_type": "code",
   "execution_count": 11,
   "metadata": {},
   "outputs": [
    {
     "name": "stdout",
     "output_type": "stream",
     "text": [
      "Conversion Of Time :: 29:11:45\n"
     ]
    }
   ],
   "source": [
    "import datetime\n",
    "def timeconvert(str1):\n",
    "      if str1[-2:] == \"AM\" and str1[:2] == \"12\":\n",
    "            return \"00\" + str1[2:-2]\n",
    "      elif str1[-2:] == \"AM\":\n",
    "            return str1[:-2]\n",
    "      elif str1[-2:] == \"PM\" and str1[:2] == \"12\":\n",
    "            return str1[:-2]\n",
    "      else:\n",
    "            return str(int(str1[:2]) + 12) + str1[2:8]\n",
    "dt=datetime.datetime.now()\n",
    "print(\"Conversion Of Time ::\",timeconvert(dt.strftime(\"%H:%M:%S\")))"
   ]
  },
  {
   "cell_type": "code",
   "execution_count": null,
   "metadata": {},
   "outputs": [],
   "source": []
  }
 ],
 "metadata": {
  "kernelspec": {
   "display_name": "Python 3",
   "language": "python",
   "name": "python3"
  },
  "language_info": {
   "codemirror_mode": {
    "name": "ipython",
    "version": 3
   },
   "file_extension": ".py",
   "mimetype": "text/x-python",
   "name": "python",
   "nbconvert_exporter": "python",
   "pygments_lexer": "ipython3",
   "version": "3.7.3"
  }
 },
 "nbformat": 4,
 "nbformat_minor": 2
}
