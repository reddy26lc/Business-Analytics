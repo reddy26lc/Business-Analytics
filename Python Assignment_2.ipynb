{
 "cells": [
  {
   "cell_type": "markdown",
   "metadata": {},
   "source": [
    "##### 1.\tPython Program for n-th Fibonacci number.\n",
    "\n",
    "In mathematical terms, the sequence Fn of Fibonacci numbers is defined by the recurrence relation \n",
    "\n",
    "Fn = Fn-1 + Fn-2"
   ]
  },
  {
   "cell_type": "code",
   "execution_count": 5,
   "metadata": {},
   "outputs": [
    {
     "name": "stdout",
     "output_type": "stream",
     "text": [
      "34\n",
      "3\n"
     ]
    }
   ],
   "source": [
    "def Fibonacci(n):\n",
    "    if n<0:\n",
    "        print(\"Incorrect input\")\n",
    "    # First Fibonacci number is 0\n",
    "    elif n==1:\n",
    "        return 0\n",
    "    # Second Fibonacci number is 1\n",
    "    elif n==2:\n",
    "        return 1\n",
    "    else:\n",
    "        return Fibonacci(n-1)+Fibonacci(n-2)\n",
    "    \n",
    "    \n",
    "print(Fibonacci(10))\n",
    "print(Fibonacci(5))\n"
   ]
  },
  {
   "cell_type": "markdown",
   "metadata": {},
   "source": [
    "##### 2.\tPython Program for How to check if a given number is Fibonacci number?"
   ]
  },
  {
   "cell_type": "code",
   "execution_count": 7,
   "metadata": {},
   "outputs": [
    {
     "name": "stdout",
     "output_type": "stream",
     "text": [
      "Enter the number: 25\n",
      "No\n"
     ]
    }
   ],
   "source": [
    "number=int(input(\"Enter the number: \"))\n",
    "c=0\n",
    "a=1\n",
    "b=1\n",
    "if number==0 or number==1:\n",
    "    print(\"Yes\")\n",
    "else:\n",
    "    while c<number:\n",
    "        c=a+b\n",
    "        b=a\n",
    "        a=c\n",
    "    if c==number:\n",
    "        print(\"Yes\")\n",
    "    else:\n",
    "        print(\"No\")"
   ]
  },
  {
   "cell_type": "markdown",
   "metadata": {},
   "source": [
    "##### 3. Python Program for n\\’th multiple of a number in Fibonacci Series"
   ]
  },
  {
   "cell_type": "code",
   "execution_count": 9,
   "metadata": {},
   "outputs": [
    {
     "name": "stdout",
     "output_type": "stream",
     "text": [
      "Position of n'th multiple of k inFibonacci Seires is 60\n"
     ]
    }
   ],
   "source": [
    "def findPosition(k, n):\n",
    "    f1 = 0\n",
    "    f2 = 1\n",
    "    i =2; \n",
    "    while i!=0:\n",
    "        f3 = f1 + f2;\n",
    "        f1 = f2;\n",
    "        f2 = f3;\n",
    "  \n",
    "        if f2%k == 0:\n",
    "            return n*i\n",
    "  \n",
    "        i+=1\n",
    "          \n",
    "    return \n",
    "  \n",
    "  \n",
    "# Multiple no.\n",
    "n = 10;\n",
    "# Number of whose multiple we are finding\n",
    "k = 4;\n",
    "  \n",
    "print(\"Position of n\\'th multiple of k in\"\n",
    "                \"Fibonacci Seires is\", findPosition(k,n));"
   ]
  },
  {
   "cell_type": "markdown",
   "metadata": {},
   "source": [
    "##### 4.\tPython Program to print ASCII Value of a character"
   ]
  },
  {
   "cell_type": "code",
   "execution_count": 15,
   "metadata": {},
   "outputs": [
    {
     "name": "stdout",
     "output_type": "stream",
     "text": [
      "The ASCII value of 'D' is 68\n",
      "The ASCII value of 'd' is 100\n",
      "The ASCII value of 'f' is 102\n"
     ]
    }
   ],
   "source": [
    "def ascii_value(character):\n",
    "\n",
    "# print the ASCII value of assigned character in c\n",
    "    print(\"The ASCII value of '\" + character + \"' is\", ord(character))\n",
    "\n",
    "ascii_value('D')\n",
    "ascii_value('d')\n",
    "ascii_value('f')"
   ]
  },
  {
   "cell_type": "markdown",
   "metadata": {},
   "source": [
    "##### 5.\tPython Program for Sum of squares of first n natural numbers"
   ]
  },
  {
   "cell_type": "code",
   "execution_count": 25,
   "metadata": {},
   "outputs": [
    {
     "name": "stdout",
     "output_type": "stream",
     "text": [
      "1015\n",
      "30\n",
      "385\n"
     ]
    }
   ],
   "source": [
    "def sum_squares(number):\n",
    "    sum_of_squares = 0\n",
    "    for i in range(1, number + 1):\n",
    "        sum_of_squares += i*i\n",
    "    return sum_of_squares\n",
    "\n",
    "print(sum_squares(14))\n",
    "print(sum_squares(4))\n",
    "print(sum_squares(10))\n",
    "\n"
   ]
  },
  {
   "cell_type": "markdown",
   "metadata": {},
   "source": [
    "##### 6.\tPython Program for cube sum of first n natural numbers"
   ]
  },
  {
   "cell_type": "code",
   "execution_count": 26,
   "metadata": {},
   "outputs": [
    {
     "name": "stdout",
     "output_type": "stream",
     "text": [
      "11025\n",
      "100\n",
      "3025\n"
     ]
    }
   ],
   "source": [
    "def cube_squares(number):\n",
    "    cube_of_squares = 0\n",
    "    for i in range(1, number + 1):\n",
    "        cube_of_squares += i*i*i\n",
    "    return cube_of_squares\n",
    "\n",
    "print(cube_squares(14))\n",
    "print(cube_squares(4))\n",
    "print(cube_squares(10))"
   ]
  },
  {
   "cell_type": "markdown",
   "metadata": {},
   "source": [
    "##### 7.\tPython Program to find sum of array"
   ]
  },
  {
   "cell_type": "code",
   "execution_count": 27,
   "metadata": {},
   "outputs": [
    {
     "name": "stdout",
     "output_type": "stream",
     "text": [
      "Original array: array('i', [1, 2, 3, 4, -34])\n",
      "Sum of all elements of the said array:\n",
      "-24\n"
     ]
    }
   ],
   "source": [
    "from array import array\n",
    "def array_sum(nums_arr):\n",
    "    sum_n = 0\n",
    "    for n in nums_arr:\n",
    "        sum_n += n\n",
    "    return sum_n\n",
    "\n",
    "nums = array('i', [1, 2, 3, 4, -34])\n",
    "print(\"Original array:\",nums)\n",
    "nums_arr = list(map(int, nums))\n",
    "result = array_sum(nums_arr)\n",
    "print(\"Sum of all elements of the said array:\")\n",
    "print(result)"
   ]
  },
  {
   "cell_type": "markdown",
   "metadata": {},
   "source": [
    "##### 8.\tPython Program to find largest element in an array"
   ]
  },
  {
   "cell_type": "code",
   "execution_count": 33,
   "metadata": {},
   "outputs": [
    {
     "name": "stdout",
     "output_type": "stream",
     "text": [
      "Largest in given array is 1675\n"
     ]
    }
   ],
   "source": [
    "def largest(arr,n):\n",
    "    max = arr[0]\n",
    "    for i in range(1, n):\n",
    "        if arr[i] > max:\n",
    "            max = arr[i]\n",
    "    return max\n",
    "\n",
    "arr = [1, 31, 90, 1675]\n",
    "n = len(arr)\n",
    "\n",
    "print (\"Largest in given array is\", largest(arr,n))"
   ]
  },
  {
   "cell_type": "markdown",
   "metadata": {},
   "source": [
    "##### 9.\tPython Program for array rotation\n",
    "\n"
   ]
  },
  {
   "cell_type": "code",
   "execution_count": 34,
   "metadata": {},
   "outputs": [
    {
     "name": "stdout",
     "output_type": "stream",
     "text": [
      "Array after left rotation is:  [3, 4, 5, 6, 7, 1, 2]\n"
     ]
    }
   ],
   "source": [
    "def rotateArray(arr, n, d):\n",
    "    temp = []\n",
    "    i = 0\n",
    "    while (i < d):\n",
    "        temp.append(arr[i])\n",
    "        i = i + 1\n",
    "    i = 0\n",
    "    while (d < n):\n",
    "        arr[i] = arr[d]\n",
    "        i = i + 1\n",
    "        d = d + 1\n",
    "    arr[:] = arr[: i] + temp\n",
    "    return arr\n",
    " \n",
    "arr = [1, 2, 3, 4, 5, 6, 7]\n",
    "print(\"Array after left rotation is: \", end=' ')\n",
    "print(rotateArray(arr, len(arr), 2))"
   ]
  },
  {
   "cell_type": "markdown",
   "metadata": {},
   "source": [
    "##### 10.\tPython Program for Reversal algorithm for array rotation"
   ]
  },
  {
   "cell_type": "code",
   "execution_count": 35,
   "metadata": {},
   "outputs": [
    {
     "name": "stdout",
     "output_type": "stream",
     "text": [
      "The list is :\n",
      "[30, 12, 67, 87, 24, 0, 97]\n",
      "The left_rotate method is being called\n",
      "The list after rotation is : \n",
      "87\n",
      "24\n",
      "0\n",
      "97\n",
      "30\n",
      "12\n",
      "67\n"
     ]
    }
   ],
   "source": [
    "def reverse_list(my_list, begin, end):\n",
    "    while (begin < end):\n",
    "        temp = my_list[begin]\n",
    "        my_list[begin] = my_list[end]\n",
    "        my_list[end] = temp\n",
    "        begin += 1\n",
    "        end = end-1\n",
    "        \n",
    "def left_rotate(my_list, to_rotate):\n",
    "    n = len(my_list)\n",
    "    reverse_list(my_list, 0, to_rotate-1)\n",
    "    reverse_list(my_list, to_rotate, n-1)\n",
    "    reverse_list(my_list, 0, n-1)\n",
    "    \n",
    "def print_it(my_list):\n",
    "    for i in range(0, len(my_list)):\n",
    "        print(my_list[i])\n",
    "        \n",
    "my_list = [30, 12, 67, 87, 24, 0, 97]\n",
    "print(\"The list is :\")\n",
    "print(my_list)\n",
    "print(\"The left_rotate method is being called\")\n",
    "left_rotate(my_list, 3)\n",
    "print(\"The list after rotation is : \")\n",
    "print_it(my_list)"
   ]
  },
  {
   "cell_type": "markdown",
   "metadata": {},
   "source": [
    "##### 11.\tPython Program to Split the array and add the first part to the end"
   ]
  },
  {
   "cell_type": "code",
   "execution_count": 41,
   "metadata": {},
   "outputs": [
    {
     "name": "stdout",
     "output_type": "stream",
     "text": [
      "5 6 52 36 12 10 "
     ]
    }
   ],
   "source": [
    "def splitArr(arr, n, k): \n",
    "    for i in range(0, k): \n",
    "        x = arr[0]\n",
    "        for j in range(0, n-1):\n",
    "            arr[j] = arr[j + 1]\n",
    "          \n",
    "        arr[n-1] = x\n",
    "          \n",
    "  \n",
    "\n",
    "arr= [12, 10, 5, 6, 52, 36]\n",
    "n = len(arr)\n",
    "position = 2\n",
    "  \n",
    "splitArr(arr, n, position)\n",
    "  \n",
    "for i in range(0, n): \n",
    "    print(arr[i], end = ' ')"
   ]
  },
  {
   "cell_type": "code",
   "execution_count": null,
   "metadata": {},
   "outputs": [],
   "source": []
  }
 ],
 "metadata": {
  "kernelspec": {
   "display_name": "Python 3",
   "language": "python",
   "name": "python3"
  },
  "language_info": {
   "codemirror_mode": {
    "name": "ipython",
    "version": 3
   },
   "file_extension": ".py",
   "mimetype": "text/x-python",
   "name": "python",
   "nbconvert_exporter": "python",
   "pygments_lexer": "ipython3",
   "version": "3.7.3"
  }
 },
 "nbformat": 4,
 "nbformat_minor": 2
}
