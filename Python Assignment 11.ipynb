{
 "cells": [
  {
   "cell_type": "markdown",
   "metadata": {},
   "source": [
    "##### 1.\tPython – Sort Dictionary key and values List"
   ]
  },
  {
   "cell_type": "code",
   "execution_count": 1,
   "metadata": {},
   "outputs": [
    {
     "name": "stdout",
     "output_type": "stream",
     "text": [
      "The original dictionary is : {'python': [7, 6, 3], 'is': [2, 10, 3], 'best': [19, 4]}\n",
      "The sorted dictionary : {'best': [4, 19], 'is': [2, 3, 10], 'python': [3, 6, 7]}\n"
     ]
    }
   ],
   "source": [
    "test_dict = {'python': [7, 6, 3], \n",
    "             'is': [2, 10, 3], \n",
    "             'best': [19, 4]}\n",
    "  \n",
    "# printing original dictionary\n",
    "print(\"The original dictionary is : \" + str(test_dict))\n",
    "  \n",
    "# Sort Dictionary key and values List\n",
    "# Using loop + dictionary comprehension\n",
    "res = dict()\n",
    "for key in sorted(test_dict):\n",
    "    res[key] = sorted(test_dict[key])\n",
    "  \n",
    "# printing result \n",
    "print(\"The sorted dictionary : \" + str(res)) "
   ]
  },
  {
   "cell_type": "markdown",
   "metadata": {},
   "source": [
    "##### 2.\tHandling missing keys in Python dictionaries"
   ]
  },
  {
   "cell_type": "code",
   "execution_count": 3,
   "metadata": {},
   "outputs": [
    {
     "name": "stdout",
     "output_type": "stream",
     "text": [
      "0091\n",
      "Not Present\n"
     ]
    }
   ],
   "source": [
    "country_code = {'India' : '0091',\n",
    "                'Australia' : '0025',\n",
    "                'Nepal' : '00977'}\n",
    "  \n",
    "# Set a default value for Japan\n",
    "country_code.setdefault('Japan', 'Not Present') \n",
    "  \n",
    "# search dictionary for country code of India\n",
    "print(country_code['India'])\n",
    "  \n",
    "# search dictionary for country code of Japan\n",
    "print(country_code['Japan'])"
   ]
  },
  {
   "cell_type": "markdown",
   "metadata": {},
   "source": [
    "##### 3.\tPython dictionary with keys having multiple inputs"
   ]
  },
  {
   "cell_type": "code",
   "execution_count": 4,
   "metadata": {},
   "outputs": [
    {
     "name": "stdout",
     "output_type": "stream",
     "text": [
      "{(10, 20, 30): 0, (5, 2, 4): 3}\n"
     ]
    }
   ],
   "source": [
    "import random as rn\n",
    "  \n",
    "# creating an empty dictionary\n",
    "dict = {}\n",
    "  \n",
    "# Insert first triplet in dictionary\n",
    "x, y, z = 10, 20, 30\n",
    "dict[x, y, z] = x + y - z;\n",
    "  \n",
    "# Insert second triplet in dictionary\n",
    "x, y, z = 5, 2, 4\n",
    "dict[x, y, z] = x + y - z;\n",
    "  \n",
    "# print the dictionary\n",
    "print(dict)"
   ]
  },
  {
   "cell_type": "markdown",
   "metadata": {},
   "source": [
    "##### 4.\tPrint anagrams together in Python using List and Dictionary"
   ]
  },
  {
   "cell_type": "code",
   "execution_count": 5,
   "metadata": {},
   "outputs": [
    {
     "name": "stdout",
     "output_type": "stream",
     "text": [
      "cat tac act dog god \n"
     ]
    }
   ],
   "source": [
    "def allAnagram(input): \n",
    "      \n",
    "    # empty dictionary which holds subsets \n",
    "    # of all anagrams together \n",
    "    dict = {} \n",
    "  \n",
    "    # traverse list of strings \n",
    "    for strVal in input: \n",
    "          \n",
    "        # sorted(iterable) method accepts any \n",
    "        # iterable and rerturns list of items \n",
    "        # in ascending order \n",
    "        key = ''.join(sorted(strVal)) \n",
    "          \n",
    "        # now check if key exist in dictionary \n",
    "        # or not. If yes then simply append the \n",
    "        # strVal into the list of it's corresponding \n",
    "        # key. If not then map empty list onto \n",
    "        # key and then start appending values \n",
    "        if key in dict.keys(): \n",
    "            dict[key].append(strVal) \n",
    "        else: \n",
    "            dict[key] = [] \n",
    "            dict[key].append(strVal) \n",
    "  \n",
    "    # traverse dictionary and concatenate values \n",
    "    # of keys together \n",
    "    output = \"\" \n",
    "    for key,value in dict.items(): \n",
    "        output = output + ' '.join(value) + ' '\n",
    "  \n",
    "    return output \n",
    "  \n",
    "# Driver function \n",
    "if __name__ == \"__main__\": \n",
    "    input=['cat', 'dog', 'tac', 'god', 'act'] \n",
    "    print (allAnagram(input)) "
   ]
  },
  {
   "cell_type": "markdown",
   "metadata": {},
   "source": [
    "##### 5.\tK’th Non-repeating Character in Python using List Comprehension and OrderedDict"
   ]
  },
  {
   "cell_type": "code",
   "execution_count": 7,
   "metadata": {},
   "outputs": [
    {
     "name": "stdout",
     "output_type": "stream",
     "text": [
      "r\n"
     ]
    }
   ],
   "source": [
    "from collections import OrderedDict \n",
    "  \n",
    "def kthRepeating(input,k): \n",
    "  \n",
    "    # OrderedDict returns a dictionary data \n",
    "        # structure having characters of input \n",
    "    # string as keys in the same order they \n",
    "        # were inserted and 0 as their default value \n",
    "    dict=OrderedDict.fromkeys(input,0) \n",
    "  \n",
    "    # now traverse input string to calculate \n",
    "        # frequency of each character \n",
    "    for ch in input: \n",
    "        dict[ch]+=1\n",
    "  \n",
    "    # now extract list of all keys whose value \n",
    "        # is 1 from dict Ordered Dictionary \n",
    "    nonRepeatDict = [key for (key,value) in dict.items() if value==1] \n",
    "      \n",
    "    # now return (k-1)th character from above list \n",
    "    if len(nonRepeatDict) < k: \n",
    "        return 'Less than k non-repeating characters in input.' \n",
    "    else: \n",
    "        return nonRepeatDict[k-1] \n",
    "  \n",
    "# Driver function \n",
    "if __name__ == \"__main__\": \n",
    "    input = \"geeksforgeeks\"\n",
    "    k = 3\n",
    "    print (kthRepeating(input, k)) "
   ]
  },
  {
   "cell_type": "markdown",
   "metadata": {},
   "source": [
    "##### 6.\tCheck if binary representations of two numbers are anagram"
   ]
  },
  {
   "cell_type": "code",
   "execution_count": 8,
   "metadata": {},
   "outputs": [
    {
     "name": "stdout",
     "output_type": "stream",
     "text": [
      "True\n"
     ]
    }
   ],
   "source": [
    "def set_bit_count(num) :\n",
    "   cnt = 0\n",
    "   while num:\n",
    "      cnt += num & 1\n",
    "      num >>= 1\n",
    "   return cnt\n",
    "def solve(x, y) :\n",
    "   if set_bit_count(x) == set_bit_count(y):\n",
    "      return True\n",
    "   return False\n",
    "x = 9\n",
    "y = 12\n",
    "print(solve(x, y))"
   ]
  },
  {
   "cell_type": "markdown",
   "metadata": {},
   "source": [
    "##### 7.\tPython Counter to find the size of largest subset of anagram words"
   ]
  },
  {
   "cell_type": "code",
   "execution_count": 10,
   "metadata": {},
   "outputs": [
    {
     "name": "stdout",
     "output_type": "stream",
     "text": [
      "3\n"
     ]
    }
   ],
   "source": [
    "# Function to find the size of largest subset \n",
    "# of anagram words\n",
    "from collections import Counter\n",
    "  \n",
    "def maxAnagramSize(input):\n",
    "  \n",
    "    # split input string separated by space\n",
    "    input = input.split(\" \")\n",
    "  \n",
    "    # sort each string in given list of strings\n",
    "    for i in range(0,len(input)):\n",
    "         input[i]=''.join(sorted(input[i]))\n",
    "  \n",
    "    # now create dictionary using counter method\n",
    "    # which will have strings as key and their \n",
    "    # frequencies as value\n",
    "    freqDict = Counter(input)\n",
    "  \n",
    "    # get maximum value of frequency\n",
    "    print (max(freqDict.values()))\n",
    "  \n",
    "# Driver program\n",
    "if __name__ == \"__main__\":\n",
    "    input = 'ant magenta magnate tan gnamate'\n",
    "    maxAnagramSize(input)"
   ]
  },
  {
   "cell_type": "markdown",
   "metadata": {},
   "source": [
    "##### 8.\tPython | Remove all duplicates words from a given sentence"
   ]
  },
  {
   "cell_type": "code",
   "execution_count": 11,
   "metadata": {},
   "outputs": [
    {
     "name": "stdout",
     "output_type": "stream",
     "text": [
      "Python is great and Java also\n"
     ]
    }
   ],
   "source": [
    "\n",
    "from collections import Counter\n",
    "  \n",
    "def remov_duplicates(input):\n",
    "  \n",
    "    # split input string separated by space\n",
    "    input = input.split(\" \")\n",
    "  \n",
    "    # joins two adjacent elements in iterable way\n",
    "    for i in range(0, len(input)):\n",
    "        input[i] = \"\".join(input[i])\n",
    "  \n",
    "    # now create dictionary using counter method\n",
    "    # which will have strings as key and their \n",
    "    # frequencies as value\n",
    "    UniqW = Counter(input)\n",
    "  \n",
    "    # joins two adjacent elements in iterable way\n",
    "    s = \" \".join(UniqW.keys())\n",
    "    print (s)\n",
    "  \n",
    "# Driver program\n",
    "if __name__ == \"__main__\":\n",
    "    input = 'Python is great and Java is also great'\n",
    "    remov_duplicates(input)"
   ]
  },
  {
   "cell_type": "markdown",
   "metadata": {},
   "source": [
    "##### 9.\tPython Dictionary to find mirror characters in a string"
   ]
  },
  {
   "cell_type": "code",
   "execution_count": 18,
   "metadata": {},
   "outputs": [
    {
     "name": "stdout",
     "output_type": "stream",
     "text": [
      "pnefnlmrz\n"
     ]
    }
   ],
   "source": [
    "def compute(st, n):\n",
    "     \n",
    "    # Creating a string having reversed\n",
    "    # alphabetical order\n",
    "    reverseAlphabet = \"zyxwvutsrqponmlkjihgfedcba\"\n",
    "    l = len(st)\n",
    "     \n",
    "    # The string up to the point specified in the\n",
    "    # question, the string remains unchanged and\n",
    "    # from the point up to the length of the\n",
    "    # string, we reverse the alphabetical order\n",
    "    answer = \"\"\n",
    "    for i in range(0, n):\n",
    "        answer = answer + st[i];\n",
    "             \n",
    "    for i in range(n, l):\n",
    "        answer = (answer +\n",
    "        reverseAlphabet[ord(st[i]) - ord('a')]);\n",
    "         \n",
    "    return answer;\n",
    " \n",
    "# Driver function\n",
    "st = \"pneumonia\"\n",
    "n = 4\n",
    "answer = compute(st, n - 1)\n",
    "print(answer)"
   ]
  },
  {
   "cell_type": "markdown",
   "metadata": {},
   "source": [
    "##### 10.\tCounting the frequencies in a list using dictionary in Python"
   ]
  },
  {
   "cell_type": "code",
   "execution_count": 19,
   "metadata": {},
   "outputs": [
    {
     "name": "stdout",
     "output_type": "stream",
     "text": [
      " 1 :  5\n",
      " 5 :  2\n",
      " 3 :  3\n",
      " 4 :  3\n",
      " 2 :  4\n"
     ]
    }
   ],
   "source": [
    "def CountFrequency(my_list):\n",
    "  \n",
    "    # Creating an empty dictionary \n",
    "    freq = {}\n",
    "    for item in my_list:\n",
    "        if (item in freq):\n",
    "            freq[item] += 1\n",
    "        else:\n",
    "            freq[item] = 1\n",
    "  \n",
    "    for key, value in freq.items():\n",
    "        print (\"% d : % d\"%(key, value))\n",
    "  \n",
    "# Driver function\n",
    "if __name__ == \"__main__\": \n",
    "    my_list =[1, 1, 1, 5, 5, 3, 1, 3, 3, 1, 4, 4, 4, 2, 2, 2, 2]\n",
    "  \n",
    "    CountFrequency(my_list)"
   ]
  },
  {
   "cell_type": "code",
   "execution_count": null,
   "metadata": {},
   "outputs": [],
   "source": []
  }
 ],
 "metadata": {
  "kernelspec": {
   "display_name": "Python 3",
   "language": "python",
   "name": "python3"
  },
  "language_info": {
   "codemirror_mode": {
    "name": "ipython",
    "version": 3
   },
   "file_extension": ".py",
   "mimetype": "text/x-python",
   "name": "python",
   "nbconvert_exporter": "python",
   "pygments_lexer": "ipython3",
   "version": "3.7.3"
  }
 },
 "nbformat": 4,
 "nbformat_minor": 2
}
