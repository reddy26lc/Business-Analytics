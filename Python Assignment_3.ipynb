{
 "cells": [
  {
   "cell_type": "markdown",
   "metadata": {},
   "source": [
    "##### 1.\tPython Program for Find reminder of array multiplication divided by n"
   ]
  },
  {
   "cell_type": "code",
   "execution_count": 4,
   "metadata": {},
   "outputs": [
    {
     "name": "stdout",
     "output_type": "stream",
     "text": [
      "10\n"
     ]
    }
   ],
   "source": [
    "def findremainder(array, length, n):\n",
    "    multiple = 1\n",
    "    for i in array:\n",
    "        multiple *= i % n\n",
    "        return multiple % n\n",
    "\n",
    "array = [10, 120, 5, 215, 56, 14]\n",
    "length = len(array)\n",
    "n = 11\n",
    "\n",
    "print(findremainder(array, length, n))"
   ]
  },
  {
   "cell_type": "markdown",
   "metadata": {},
   "source": [
    "##### 2.\tPython Program to check if given array is Monotonic"
   ]
  },
  {
   "cell_type": "code",
   "execution_count": 5,
   "metadata": {},
   "outputs": [
    {
     "name": "stdout",
     "output_type": "stream",
     "text": [
      "True\n"
     ]
    }
   ],
   "source": [
    "def isMonotonic(A):\n",
    "  \n",
    "    return (all(A[i] <= A[i + 1] for i in range(len(A) - 1)) or\n",
    "            all(A[i] >= A[i + 1] for i in range(len(A) - 1)))\n",
    "  \n",
    "A = [3, 4, 5, 6]\n",
    "  \n",
    "print(isMonotonic(A))"
   ]
  },
  {
   "cell_type": "markdown",
   "metadata": {},
   "source": [
    "##### 3.\tPython program to interchange first and last elements in a list"
   ]
  },
  {
   "cell_type": "code",
   "execution_count": 10,
   "metadata": {},
   "outputs": [
    {
     "data": {
      "text/plain": [
       "[4, 2, 3, 1]"
      ]
     },
     "execution_count": 10,
     "metadata": {},
     "output_type": "execute_result"
    }
   ],
   "source": [
    "def interchange(lists):\n",
    "    temp = lists[0]\n",
    "    lists[0] = lists[-1]\n",
    "    lists[-1] = temp\n",
    "    return lists\n",
    "    \n",
    "lists = [1,2,3,4]\n",
    "interchange(lists)\n",
    "        "
   ]
  },
  {
   "cell_type": "markdown",
   "metadata": {},
   "source": [
    "##### 4.\tPython program to swap two elements in a list"
   ]
  },
  {
   "cell_type": "code",
   "execution_count": 12,
   "metadata": {},
   "outputs": [
    {
     "name": "stdout",
     "output_type": "stream",
     "text": [
      "[11, 40, 23, 31]\n"
     ]
    }
   ],
   "source": [
    "def Positions(list, pos1, pos2):\n",
    "      \n",
    "    list[pos1], list[pos2] = list[pos2], list[pos1]\n",
    "    return list\n",
    "  \n",
    "List = [11,23,40,31]\n",
    "pos1, pos2  = 1, 2\n",
    "  \n",
    "print(Positions(List, pos1, pos2))"
   ]
  },
  {
   "cell_type": "markdown",
   "metadata": {},
   "source": [
    "##### 5.\twrite a program to find length of list"
   ]
  },
  {
   "cell_type": "code",
   "execution_count": 14,
   "metadata": {},
   "outputs": [
    {
     "data": {
      "text/plain": [
       "6"
      ]
     },
     "execution_count": 14,
     "metadata": {},
     "output_type": "execute_result"
    }
   ],
   "source": [
    "def length(lists):\n",
    "    return len(lists)\n",
    "\n",
    "lists = [3,4,5,-1,0,9]\n",
    "length(lists)"
   ]
  },
  {
   "cell_type": "markdown",
   "metadata": {},
   "source": [
    "##### 6.\twrite a program to check if element exists in list"
   ]
  },
  {
   "cell_type": "code",
   "execution_count": 16,
   "metadata": {},
   "outputs": [
    {
     "name": "stdout",
     "output_type": "stream",
     "text": [
      "'item' is present in items\n"
     ]
    }
   ],
   "source": [
    "items = [1, 2, 'item', 4]\n",
    "\n",
    "if 'item' in items:\n",
    "    print(\"'item' is present in items\")\n",
    "\n"
   ]
  },
  {
   "cell_type": "markdown",
   "metadata": {},
   "source": [
    "##### 7.\twrite a program to clear a list in Python"
   ]
  },
  {
   "cell_type": "code",
   "execution_count": 17,
   "metadata": {},
   "outputs": [
    {
     "name": "stdout",
     "output_type": "stream",
     "text": [
      "[1, 3, 4, 'items', 'clear']\n",
      "None\n"
     ]
    }
   ],
   "source": [
    "elements = [1, 3, 4, 'items', 'clear']\n",
    "print(elements)\n",
    "print(elements.clear())"
   ]
  },
  {
   "cell_type": "markdown",
   "metadata": {},
   "source": [
    "##### 8.\twrite a program to Reversing a List"
   ]
  },
  {
   "cell_type": "code",
   "execution_count": 19,
   "metadata": {},
   "outputs": [
    {
     "name": "stdout",
     "output_type": "stream",
     "text": [
      "Original list:  [1, 3, 4, 'items', 'clear']\n",
      "Reversed list:  ['clear', 'items', 4, 3, 1]\n"
     ]
    }
   ],
   "source": [
    "elements = [1, 3, 4, 'items', 'clear']\n",
    "print(\"Original list: \", elements)\n",
    "print(\"Reversed list: \",elements[::-1])"
   ]
  },
  {
   "cell_type": "markdown",
   "metadata": {},
   "source": [
    "##### 9.\twrite a program to find sum of elements in list"
   ]
  },
  {
   "cell_type": "code",
   "execution_count": 45,
   "metadata": {},
   "outputs": [
    {
     "name": "stdout",
     "output_type": "stream",
     "text": [
      "Sum of all elements:  15\n"
     ]
    }
   ],
   "source": [
    "def sums(n):\n",
    "    num  = 0\n",
    "    for i in n:\n",
    "        num+=i\n",
    "    return num\n",
    "\n",
    "print(\"Sum of all elements: \",sums([1,2,3,4,5]))\n",
    "        "
   ]
  },
  {
   "cell_type": "markdown",
   "metadata": {},
   "source": [
    "##### 10.\twrite a program to Multiply all numbers in the list"
   ]
  },
  {
   "cell_type": "code",
   "execution_count": 37,
   "metadata": {},
   "outputs": [
    {
     "name": "stdout",
     "output_type": "stream",
     "text": [
      "120\n"
     ]
    }
   ],
   "source": [
    "def multiply(numbers):  \n",
    "    total = 1\n",
    "    for x in numbers:\n",
    "        total *= x  \n",
    "    return total  \n",
    "print(multiply((1,2,3,4,5)))\n",
    "        "
   ]
  }
 ],
 "metadata": {
  "kernelspec": {
   "display_name": "Python 3",
   "language": "python",
   "name": "python3"
  },
  "language_info": {
   "codemirror_mode": {
    "name": "ipython",
    "version": 3
   },
   "file_extension": ".py",
   "mimetype": "text/x-python",
   "name": "python",
   "nbconvert_exporter": "python",
   "pygments_lexer": "ipython3",
   "version": "3.7.3"
  }
 },
 "nbformat": 4,
 "nbformat_minor": 2
}
