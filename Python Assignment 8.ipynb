{
 "cells": [
  {
   "cell_type": "markdown",
   "metadata": {},
   "source": [
    "##### 1.\tPython – Least Frequent Character in String"
   ]
  },
  {
   "cell_type": "code",
   "execution_count": 2,
   "metadata": {},
   "outputs": [
    {
     "name": "stdout",
     "output_type": "stream",
     "text": [
      "Enter a string: Python Assignment section\n",
      "The original string is : Python Assignment section\n",
      "The minimum of all characters in the string is : P\n"
     ]
    }
   ],
   "source": [
    "string = input(\"Enter a string: \")\n",
    "  \n",
    "# printing original string\n",
    "print (\"The original string is : \" + string)\n",
    "  \n",
    "# using naive method to get\n",
    "# Least Frequent Character in String\n",
    "least_freq = {}\n",
    "for i in string:\n",
    "    if i in least_freq:\n",
    "        least_freq[i] += 1\n",
    "    else:\n",
    "        least_freq[i] = 1\n",
    "res = min(least_freq, key = least_freq.get) \n",
    "  \n",
    "# printing result \n",
    "print (\"The minimum of all characters in the string is : \" + str(res))"
   ]
  },
  {
   "cell_type": "markdown",
   "metadata": {},
   "source": [
    "##### 2.\tPython | Maximum frequency character in String"
   ]
  },
  {
   "cell_type": "code",
   "execution_count": 3,
   "metadata": {},
   "outputs": [
    {
     "name": "stdout",
     "output_type": "stream",
     "text": [
      "Enter a string: Python Assignment section\n",
      "The original string is : Python Assignment section\n",
      "The minimum of all characters in the string is : {'P': 1, 'y': 1, 't': 3, 'h': 1, 'o': 2, 'n': 4, ' ': 2, 'A': 1, 's': 3, 'i': 2, 'g': 1, 'm': 1, 'e': 2, 'c': 1}\n"
     ]
    }
   ],
   "source": [
    "string = input(\"Enter a string: \")\n",
    "  \n",
    "# printing original string\n",
    "print (\"The original string is : \" + string)\n",
    "  \n",
    "# using naive method to get\n",
    "# Least Frequent Character in String\n",
    "least_freq = {}\n",
    "for i in string:\n",
    "    if i in least_freq:\n",
    "        least_freq[i] += 1\n",
    "    else:\n",
    "        least_freq[i] = 1\n",
    "\n",
    "# printing result \n",
    "print (\"The minimum of all characters in the string is : \" + str(least_freq))"
   ]
  },
  {
   "cell_type": "markdown",
   "metadata": {},
   "source": [
    "##### 3.\tPython | Program to check if a string contains any special character"
   ]
  },
  {
   "cell_type": "code",
   "execution_count": 4,
   "metadata": {},
   "outputs": [
    {
     "name": "stdout",
     "output_type": "stream",
     "text": [
      "String is not accepted.\n"
     ]
    }
   ],
   "source": [
    "import re\n",
    "  \n",
    "# Function checks if the string\n",
    "# contains any special character\n",
    "def run(string):\n",
    "  \n",
    "    # Make own character set and pass \n",
    "    # this as argument in compile method\n",
    "    regex = re.compile('[@_!#$%^&*()<>?/\\|}{~:]')\n",
    "      \n",
    "    # Pass the string in search \n",
    "    # method of regex object.    \n",
    "    if(regex.search(string) == None):\n",
    "        print(\"String is accepted\")\n",
    "          \n",
    "    else:\n",
    "        print(\"String is not accepted.\")\n",
    "      \n",
    "  \n",
    "# Driver Code\n",
    "if __name__ == '__main__' :\n",
    "      \n",
    "    # Enter the string\n",
    "    string = \"Geeks$For$Geeks\"\n",
    "      \n",
    "    # calling run function \n",
    "    run(string)"
   ]
  },
  {
   "cell_type": "markdown",
   "metadata": {},
   "source": [
    "##### 4.\tGenerating random strings until a given string is generated"
   ]
  },
  {
   "cell_type": "code",
   "execution_count": 7,
   "metadata": {},
   "outputs": [
    {
     "name": "stdout",
     "output_type": "stream",
     "text": [
      "iKazAX\n",
      "2iioCB\n",
      "5Sr9lP\n",
      "G1uJsj\n",
      "crJLze\n",
      "h?YvVo\n",
      "GsvJDQ\n",
      "cHpzm \n",
      "S!FBcP\n",
      "1y,8Ir\n",
      "AyTM;1\n",
      "BygDjl\n",
      "ry.CHL\n",
      "!y,,2T\n",
      "zy5QFc\n",
      "!yr,wp\n",
      "uydn7S\n",
      "iyJ Zv\n",
      "0yKmQw\n",
      ";yvYe \n",
      "dyU3Qj\n",
      "7yRubd\n",
      "wyRLXr\n",
      "tyYxiX\n",
      "7y3,oa\n",
      "9yMeoD\n",
      "xy,0o9\n",
      "vylNo:\n",
      "gy12oS\n",
      "OyVco0\n",
      "fyUmoZ\n",
      "dyrbo:\n",
      "uybwog\n",
      "!ypmoj\n",
      "9yD!oW\n",
      "ey8:oR\n",
      "By.8o1\n",
      "EyhioK\n",
      "CyEgob\n",
      "RyLkoN\n",
      "7yP1o,\n",
      "tyeBo?\n",
      "Ly xow\n",
      "RyuHo2\n",
      "gyT5op\n",
      "Qy poN\n",
      "NyR7oP\n",
      "oyIJof\n",
      "GyjtoG\n",
      "2yH?o7\n",
      "yyf;ok\n",
      "ByH8oe\n",
      "Jy?Hof\n",
      "by6por\n",
      "dy.NoN\n",
      "oy?Mol\n",
      "4yOGoz\n",
      ".yMwo,\n",
      "Oy04oC\n",
      "3yv?o2\n",
      "3y.OoZ\n",
      "Xy!Yoh\n",
      "Ey!Nop\n",
      "tyg,oM\n",
      "zy:foF\n",
      "Pylko1\n",
      "dyWtoq\n",
      ":y4Jop\n",
      "SyQwoM\n",
      "Ey1uop\n",
      "EyF;ou\n",
      "9yBYo2\n",
      "kyWVoT\n",
      "?yuUoo\n",
      "myL;oX\n",
      "uyB;oQ\n",
      "uyJlo8\n",
      "wyMhoW\n",
      "4y hoN\n",
      "Ly:hoH\n",
      "Ey9hog\n",
      "qyThoY\n",
      "ZyWhoB\n",
      "XyOhoV\n",
      "gyNhoY\n",
      "NyqhoT\n",
      "tyHhoO\n",
      "Uy8hoh\n",
      ".y8ho1\n",
      "RyVhot\n",
      "GyEhog\n",
      "6yphom\n",
      "VyMhoo\n",
      "yyFhoX\n",
      "jy;hoS\n",
      "nyZhoR\n",
      "uy hog\n",
      "cyFhoK\n",
      "8yYho5\n",
      ":y4hos\n",
      "Hy ho3\n",
      "kyohoS\n",
      "Hyvhox\n",
      "Uyrhol\n",
      "!y?how\n",
      "Yyehoc\n",
      " yYho8\n",
      "fy7hoT\n",
      "0ymhol\n",
      "hyTho1\n",
      "Wy8hoh\n",
      "ByLhoG\n",
      "xywho!\n",
      "TyBhoG\n",
      "Fylhoc\n",
      "ryqhoC\n",
      ";yRhoR\n",
      "Jydhoz\n",
      "Hy;hoj\n",
      "MyshoX\n",
      "Vyxho8\n",
      "KyXhoA\n",
      "0y ho.\n",
      "Kydhof\n",
      "Zybhol\n",
      "dy:hoy\n",
      "1yLhoJ\n",
      ";yWho8\n",
      "zyzhoj\n",
      "uychoS\n",
      "yydhoL\n",
      "8yrhoh\n",
      "0ydhoD\n",
      "ay,ho6\n",
      "xyuhow\n",
      "ryVhoy\n",
      "iyNhoj\n",
      "IyrhoK\n",
      "eydho.\n",
      "myvhoo\n",
      "Hychom\n",
      "AyGho8\n",
      " yfhoT\n",
      "4ylhoq\n",
      "xyFhoo\n",
      "uy?hoF\n",
      "yyvhoa\n",
      "8y1hog\n",
      "ryxhoT\n",
      " yMhoG\n",
      "7yAhoF\n",
      "dyahoJ\n",
      "dybhoE\n",
      "UydhoE\n",
      "dybhoV\n",
      "uyUhoR\n",
      "sy hoG\n",
      "Gyjhoh\n",
      "vyUho8\n",
      "sy hoe\n",
      "LyPhoM\n",
      "Ey3hoH\n",
      " yIhox\n",
      "ty3hot\n",
      "Wyshok\n",
      "Oyhho:\n",
      "LyJhoR\n",
      "byiho \n",
      ":yNhoS\n",
      "Py;hot\n",
      "6yJhoD\n",
      "!yXhox\n",
      "Syrho0\n",
      "VychoT\n",
      "wyPhoZ\n",
      "Pynho,\n",
      "wythoc\n",
      "Xythos\n",
      "1ythoQ\n",
      "LythoH\n",
      "Gython\n",
      "1ython\n",
      "gython\n",
      "Bython\n",
      "mython\n",
      "aython\n",
      "6ython\n",
      "aython\n",
      "aython\n",
      "0ython\n",
      "Wython\n",
      "python\n",
      "Target matched after 192 iterations\n"
     ]
    }
   ],
   "source": [
    "# Importing string, random\n",
    "# and time modules\n",
    "import string\n",
    "import random\n",
    "import time\n",
    "  \n",
    "# all possible characters including \n",
    "# lowercase, uppercase and special symbols\n",
    "possibleCharacters = string.ascii_lowercase + string.digits + string.ascii_uppercase + ' ., !?;:'\n",
    "  \n",
    "# string to be generated\n",
    "t = \"python\"\n",
    "  \n",
    "# To take input from user\n",
    "# t = input(str(\"Enter your target text: \"))\n",
    "  \n",
    "attemptThis = ''.join(random.choice(possibleCharacters)\n",
    "                                for i in range(len(t)))\n",
    "attemptNext = ''\n",
    "  \n",
    "completed = False\n",
    "iteration = 0\n",
    "  \n",
    "# Iterate while completed is false\n",
    "while completed == False:\n",
    "    print(attemptThis)\n",
    "      \n",
    "    attemptNext = ''\n",
    "    completed = True\n",
    "      \n",
    "    # Fix the index if matches with \n",
    "    # the strings to be generated\n",
    "    for i in range(len(t)):\n",
    "        if attemptThis[i] != t[i]:\n",
    "            completed = False\n",
    "            attemptNext += random.choice(possibleCharacters)\n",
    "        else:\n",
    "            attemptNext += t[i]\n",
    "              \n",
    "    # increment the iteration \n",
    "    iteration += 1\n",
    "    attemptThis = attemptNext\n",
    "    time.sleep(0.1)\n",
    "  \n",
    "# Driver Code\n",
    "print(\"Target matched after \" +\n",
    "      str(iteration) + \" iterations\")\n"
   ]
  },
  {
   "cell_type": "markdown",
   "metadata": {},
   "source": [
    "##### 5.\tFind words which are greater than given length k"
   ]
  },
  {
   "cell_type": "code",
   "execution_count": 11,
   "metadata": {},
   "outputs": [
    {
     "name": "stdout",
     "output_type": "stream",
     "text": [
      "['python', 'assignment', 'section']\n"
     ]
    }
   ],
   "source": [
    "def string_k(k, str):\n",
    "     \n",
    "    # create the empty string\n",
    "    string = []\n",
    "     \n",
    "    # split the string where space is comes\n",
    "    text = str.split(\" \")\n",
    "     \n",
    "    # iterate the loop till every substring\n",
    "    for x in text:\n",
    "         \n",
    "        # if length of current sub string\n",
    "        # is greater than k then\n",
    "        if len(x) > k:\n",
    "             \n",
    "            # append this sub string in\n",
    "            # string list\n",
    "            string.append(x)\n",
    "             \n",
    "     # return string list\n",
    "    return string\n",
    " \n",
    "  \n",
    "k = 3\n",
    "str =\"python assignment section\"\n",
    "print(string_k(k, str))"
   ]
  },
  {
   "cell_type": "markdown",
   "metadata": {},
   "source": [
    "##### 6.\tPython program for removing i-th character from a string"
   ]
  },
  {
   "cell_type": "code",
   "execution_count": 14,
   "metadata": {},
   "outputs": [
    {
     "name": "stdout",
     "output_type": "stream",
     "text": [
      "python assgnment section\n"
     ]
    }
   ],
   "source": [
    "# Removes character at index i\n",
    "def remove(string, i): \n",
    "  \n",
    "    # Characters before the i-th indexed\n",
    "    # is stored in a variable a\n",
    "    a = string[ : i] \n",
    "      \n",
    "    # Characters after the nth indexed\n",
    "    # is stored in a variable b\n",
    "    b = string[i + 1: ]\n",
    "      \n",
    "    # Returning string after removing\n",
    "    # nth indexed character.\n",
    "    return a + b\n",
    "      \n",
    "# Driver Code\n",
    "if __name__ == '__main__':\n",
    "      \n",
    "    string = \"python assignment section\"\n",
    "      \n",
    "    # Remove nth index element\n",
    "    i = 10\n",
    "    \n",
    "    # Print the new string\n",
    "    print(remove(string, i))"
   ]
  },
  {
   "cell_type": "markdown",
   "metadata": {},
   "source": [
    "##### 7.\tPython program to split and join a string"
   ]
  },
  {
   "cell_type": "code",
   "execution_count": 16,
   "metadata": {},
   "outputs": [
    {
     "name": "stdout",
     "output_type": "stream",
     "text": [
      "['Python', 'assignment', 'section', 'to', 'be', 'completed', 'today']\n",
      "Python-assignment-section-to-be-completed-today\n"
     ]
    }
   ],
   "source": [
    "def split_string(string):\n",
    "  \n",
    "    # Split the string based on space delimiter\n",
    "    list_string = string.split(' ')\n",
    "      \n",
    "    return list_string\n",
    "  \n",
    "def join_string(list_string):\n",
    "  \n",
    "    # Join the string based on '-' delimiter\n",
    "    string = '-'.join(list_string)\n",
    "      \n",
    "    return string\n",
    "  \n",
    "# Driver Function\n",
    "if __name__ == '__main__':\n",
    "    string = 'Python assignment section to be completed today'\n",
    "      \n",
    "    # Splitting a string\n",
    "    list_string = split_string(string)\n",
    "    print(list_string)\n",
    "  \n",
    "     # Join list of strings into one\n",
    "    new_string = join_string(list_string)\n",
    "    print(new_string)"
   ]
  },
  {
   "cell_type": "markdown",
   "metadata": {},
   "source": [
    "##### 8.\tPython | Check if a given string is binary string or not"
   ]
  },
  {
   "cell_type": "code",
   "execution_count": 20,
   "metadata": {},
   "outputs": [
    {
     "name": "stdout",
     "output_type": "stream",
     "text": [
      "No\n",
      "Yes\n"
     ]
    }
   ],
   "source": [
    "# Python program to check\n",
    "# if a string is binary or not\n",
    "  \n",
    "# function for checking the\n",
    "# string is accepted or not\n",
    "def check(string) :\n",
    "  \n",
    "    # set function convert string\n",
    "    # into set of characters .\n",
    "    p = set(string)\n",
    "  \n",
    "    # declare set of '0', '1' .\n",
    "    s = {'0', '1'}\n",
    "  \n",
    "    # check set p is same as set s\n",
    "    # or set p contains only '0'\n",
    "    # or set p contains only '1'\n",
    "    # or not, if any one condition\n",
    "    # is true then string is accepted\n",
    "    # otherwise not .\n",
    "    if s == p or p == {'0'} or p == {'1'}:\n",
    "        print(\"Yes\")\n",
    "    else :\n",
    "        print(\"No\")\n",
    "  \n",
    "  \n",
    "          \n",
    "# driver code\n",
    "if __name__ == \"__main__\" :\n",
    "  \n",
    "    string = \"python\"\n",
    "    string1 = \"1010100111\"\n",
    "    # function calling\n",
    "    check(string)\n",
    "    check(string1)"
   ]
  },
  {
   "cell_type": "markdown",
   "metadata": {},
   "source": [
    "##### 9.\tPython program to find uncommon words from two Strings"
   ]
  },
  {
   "cell_type": "code",
   "execution_count": 21,
   "metadata": {},
   "outputs": [
    {
     "name": "stdout",
     "output_type": "stream",
     "text": [
      "['Python', 'Assignment', 'section', 'Has', 'to', 'be', 'completed', 'today']\n"
     ]
    }
   ],
   "source": [
    "def UncommonWords(A, B):\n",
    "  \n",
    "    # count will contain all the word counts\n",
    "    count = {}\n",
    "      \n",
    "    # insert words of string A to hash\n",
    "    for word in A.split():\n",
    "        count[word] = count.get(word, 0) + 1\n",
    "      \n",
    "    # insert words of string B to hash\n",
    "    for word in B.split():\n",
    "        count[word] = count.get(word, 0) + 1\n",
    "  \n",
    "    # return required list of words\n",
    "    return [word for word in count if count[word] == 1]\n",
    "  \n",
    "# Driver Code\n",
    "A = \"Python Assignment section\"\n",
    "B = \"Has to be completed today\"\n",
    "  \n",
    "# Print required answer\n",
    "print(UncommonWords(A, B))"
   ]
  },
  {
   "cell_type": "markdown",
   "metadata": {},
   "source": [
    "##### 10.\tPython – Replace duplicate Occurrence in String"
   ]
  },
  {
   "cell_type": "code",
   "execution_count": 30,
   "metadata": {},
   "outputs": [],
   "source": [
    "test_string = 'Learn Python now. Finish the assignments for python. \\\n",
    "                Assignments will be helpful later. '\n",
    "  \n",
    "# printing original string\n",
    "#print(\"The original string is : \" + str(test_string))\n",
    "  \n",
    "# initializing replace mapping \n",
    "repl_dict = {'Python' :  'It', 'Assignments' : 'They'}\n",
    "  \n",
    "# Replace duplicate Occurrence in String\n",
    "# Using split() + enumerate() + loop\n",
    "test_list = test_string.split(' ')\n",
    "res = set()\n",
    "for idx, ele in enumerate(test_list):\n",
    "    if ele in repl_dict:\n",
    "        if ele in res:\n",
    "            test_list[idx] = repl_dict[ele]\n",
    "        else:\n",
    "            res.add(ele)\n",
    "res = ' '.join(test_list)\n",
    "  \n",
    "# printing result \n",
    "#print(\"The string after replacing : \" + str(res)) "
   ]
  },
  {
   "cell_type": "code",
   "execution_count": null,
   "metadata": {},
   "outputs": [],
   "source": []
  }
 ],
 "metadata": {
  "kernelspec": {
   "display_name": "Python 3",
   "language": "python",
   "name": "python3"
  },
  "language_info": {
   "codemirror_mode": {
    "name": "ipython",
    "version": 3
   },
   "file_extension": ".py",
   "mimetype": "text/x-python",
   "name": "python",
   "nbconvert_exporter": "python",
   "pygments_lexer": "ipython3",
   "version": "3.7.3"
  }
 },
 "nbformat": 4,
 "nbformat_minor": 2
}
