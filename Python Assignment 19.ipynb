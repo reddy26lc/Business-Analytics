{
 "cells": [
  {
   "cell_type": "markdown",
   "metadata": {},
   "source": [
    "##### 1.\tPython Program to Check if email address valid or not"
   ]
  },
  {
   "cell_type": "code",
   "execution_count": 10,
   "metadata": {},
   "outputs": [
    {
     "name": "stdout",
     "output_type": "stream",
     "text": [
      "Valid Email\n",
      "Valid Email\n",
      "Invalid Email\n"
     ]
    }
   ],
   "source": [
    "import re\n",
    " \n",
    "regex = '^(\\w|\\.|\\_|\\-)+[@](\\w|\\_|\\-|\\.)+[.]\\w{2,3}$'\n",
    "\n",
    "\n",
    "def check(email):\n",
    " \n",
    "    # pass the regular expression\n",
    "    # and the string in search() method\n",
    "    if(re.search(regex, email)):\n",
    "        print(\"Valid Email\")\n",
    " \n",
    "    else:\n",
    "        print(\"Invalid Email\")\n",
    " \n",
    " \n",
    "# Driver Code\n",
    "if __name__ == '__main__':\n",
    " \n",
    "    # Enter the email\n",
    "    email = \"xyz123@gmail.com\"\n",
    " \n",
    "    # calling run function\n",
    "    check(email)\n",
    " \n",
    "    email = \"abc@ineuron.com\"\n",
    "    check(email)\n",
    " \n",
    "    email = \"abcxyz1.com\"\n",
    "    check(email)\n"
   ]
  },
  {
   "cell_type": "markdown",
   "metadata": {},
   "source": [
    "##### 2.\tPython program to find files having a particular extension using RegEx"
   ]
  },
  {
   "cell_type": "code",
   "execution_count": 22,
   "metadata": {},
   "outputs": [
    {
     "name": "stdout",
     "output_type": "stream",
     "text": [
      "The file ending with .xml is: assignment.xml\n"
     ]
    }
   ],
   "source": [
    "# import library\n",
    "import re\n",
    "  \n",
    "# list of different types of file\n",
    "filenames = [\"python.html\", \"assignment.xml\", \n",
    "            \"language.txt\", \"section.jpg\"]\n",
    "  \n",
    "for file in filenames:\n",
    "    # search given pattern in the line \n",
    "    match = re.search(\"\\.xml$\", file)\n",
    "  \n",
    "    # if match is found\n",
    "    if match:\n",
    "        print(\"The file ending with .xml is:\",\n",
    "             file)"
   ]
  },
  {
   "cell_type": "markdown",
   "metadata": {},
   "source": [
    "##### 3.\tPython program to extract IP address from file"
   ]
  },
  {
   "cell_type": "code",
   "execution_count": 23,
   "metadata": {},
   "outputs": [
    {
     "ename": "SyntaxError",
     "evalue": "(unicode error) 'unicodeescape' codec can't decode bytes in position 2-3: truncated \\UXXXXXXXX escape (<ipython-input-23-1c2ba8188a01>, line 5)",
     "output_type": "error",
     "traceback": [
      "\u001b[1;36m  File \u001b[1;32m\"<ipython-input-23-1c2ba8188a01>\"\u001b[1;36m, line \u001b[1;32m5\u001b[0m\n\u001b[1;33m    with open('C:\\Users\\leo26\\Desktop\\iNeuron Assignments\\Business Analytics Masters\\Python Assignments\\ip_file.txt') as fh:\u001b[0m\n\u001b[1;37m             ^\u001b[0m\n\u001b[1;31mSyntaxError\u001b[0m\u001b[1;31m:\u001b[0m (unicode error) 'unicodeescape' codec can't decode bytes in position 2-3: truncated \\UXXXXXXXX escape\n"
     ]
    }
   ],
   "source": [
    "# importing the module\n",
    "import re\n",
    " \n",
    "# opening and reading the file\n",
    "with open('C:\\Users\\leo26\\Desktop\\iNeuron Assignments\\Business Analytics Masters\\Python Assignments\\ip_file.txt') as fh:\n",
    "     fstring = fh.readlines()\n",
    " \n",
    "# declaring the regex pattern for IP addresses\n",
    "pattern = re.compile(r'(\\d{1,3}\\.\\d{1,3}\\.\\d{1,3}\\.\\d{1,3})')\n",
    " \n",
    "# initializing the list object\n",
    "lst=[]\n",
    " \n",
    "# extracting the IP addresses\n",
    "for line in fstring:\n",
    "   lst.append(pattern.search(line)[0])\n",
    " \n",
    "# displaying the extracted IP adresses\n",
    "print(lst)"
   ]
  },
  {
   "cell_type": "markdown",
   "metadata": {},
   "source": [
    "##### 4.\tPython program to check the validity of a Password"
   ]
  },
  {
   "cell_type": "code",
   "execution_count": 24,
   "metadata": {},
   "outputs": [
    {
     "name": "stdout",
     "output_type": "stream",
     "text": [
      "Valid Password\n"
     ]
    }
   ],
   "source": [
    "l, u, p, d = 0, 0, 0, 0\n",
    "s = \"R@m@_f0rtu9e$\"\n",
    "if (len(s) >= 8):\n",
    "    for i in s:\n",
    "  \n",
    "        # counting lowercase alphabets \n",
    "        if (i.islower()):\n",
    "            l+=1            \n",
    "  \n",
    "        # counting uppercase alphabets\n",
    "        if (i.isupper()):\n",
    "            u+=1            \n",
    "  \n",
    "        # counting digits\n",
    "        if (i.isdigit()):\n",
    "            d+=1            \n",
    "  \n",
    "        # counting the mentioned special characters\n",
    "        if(i=='@'or i=='$' or i=='_'):\n",
    "            p+=1           \n",
    "if (l>=1 and u>=1 and p>=1 and d>=1 and l+p+u+d==len(s)):\n",
    "    print(\"Valid Password\")\n",
    "else:\n",
    "    print(\"Invalid Password\")"
   ]
  },
  {
   "cell_type": "markdown",
   "metadata": {},
   "source": [
    "##### 5.\tCategorize Password as Strong or Weak using Regex in Python"
   ]
  },
  {
   "cell_type": "code",
   "execution_count": 26,
   "metadata": {},
   "outputs": [
    {
     "name": "stdout",
     "output_type": "stream",
     "text": [
      "Enter the password:xaygahbuei123\n",
      "The password is weak\n"
     ]
    }
   ],
   "source": [
    "import re\n",
    "v=input(\"Enter the password:\")\n",
    "if(len(v)>=8):\n",
    "    if(bool(re.match('((?=.*\\d)(?=.*[a-z])(?=.*[A-Z])(?=.*[!@#$%^&*]).{8,30})',v))==True):\n",
    "        print(\"The password is strong\")\n",
    "    elif(bool(re.match('((\\d*)([a-z]*)([A-Z]*)([!@#$%^&*]*).{8,30})',v))==True):\n",
    "        print(\"The password is weak\")\n",
    "else:\n",
    "    print(\"You have entered an invalid password.\")"
   ]
  },
  {
   "cell_type": "markdown",
   "metadata": {},
   "source": [
    "##### 6.\tPython program to read file word by word "
   ]
  },
  {
   "cell_type": "code",
   "execution_count": 27,
   "metadata": {},
   "outputs": [
    {
     "name": "stdout",
     "output_type": "stream",
     "text": [
      "Let's\n",
      "do\n",
      "the\n",
      "python\n",
      "assignment\n",
      "section\n",
      "today.\n"
     ]
    }
   ],
   "source": [
    "\n",
    "# opening the text file\n",
    "with open('file.txt','r') as file:\n",
    "   \n",
    "    # reading each line    \n",
    "    for line in file:\n",
    "   \n",
    "        # reading each word        \n",
    "        for word in line.split():\n",
    "   \n",
    "            # displaying the words           \n",
    "            print(word)"
   ]
  },
  {
   "cell_type": "markdown",
   "metadata": {},
   "source": [
    "##### 7.\tPython program to read character by character from a file"
   ]
  },
  {
   "cell_type": "code",
   "execution_count": 28,
   "metadata": {},
   "outputs": [
    {
     "name": "stdout",
     "output_type": "stream",
     "text": [
      "Let's\n",
      " do t\n",
      "he py\n",
      "thon \n",
      "assig\n",
      "nment\n",
      " sect\n",
      "ion t\n",
      "oday.\n"
     ]
    }
   ],
   "source": [
    "with open('file.txt') as f:\n",
    "      \n",
    "    while True:\n",
    "          \n",
    "        # Read from file \n",
    "        c = f.read(5)\n",
    "        if not c:\n",
    "            break\n",
    "  \n",
    "        # print the character\n",
    "        print(c)"
   ]
  },
  {
   "cell_type": "markdown",
   "metadata": {},
   "source": [
    "##### 8.\tPython – Get number of characters, words, spaces and lines in a file"
   ]
  },
  {
   "cell_type": "code",
   "execution_count": 29,
   "metadata": {},
   "outputs": [
    {
     "name": "stdout",
     "output_type": "stream",
     "text": [
      "File not found\n"
     ]
    }
   ],
   "source": [
    "import os\n",
    "  \n",
    "# Function to count number of characters, words, spaces # and lines in a file\n",
    "def counter(fname):\n",
    "      \n",
    "    # variable to store total word count\n",
    "    num_words = 0\n",
    "      \n",
    "    # variable to store total line count\n",
    "    num_lines = 0\n",
    "      \n",
    "    # variable to store total character count\n",
    "    num_charc = 0\n",
    "      \n",
    "    # variable to store total space count\n",
    "    num_spaces = 0\n",
    "      \n",
    "    # opening file using with() method so that file gets closed after completion of work\n",
    "    with open(fname, 'r') as f:\n",
    "          \n",
    "        # loop to iterate file\n",
    "        # line by line\n",
    "        for line in f:\n",
    "              \n",
    "            # separating a line from \\n character and storing again in line variable for further operations\n",
    "            line = line.strip(os.linesep)\n",
    "              \n",
    "            # splitting the line to make a list of all the words present in that line and storing that list in\n",
    "            # wordlist variable\n",
    "            wordslist = line.split()\n",
    "              \n",
    "            # incrementing value of num_lines with each iteration of loop to store total line count\n",
    "            num_lines = num_lines + 1\n",
    "              \n",
    "            # incrementing value of num_words by the number of items in the list wordlist\n",
    "            num_words = num_words + len(wordslist)\n",
    "              \n",
    "            # incrementing value of num_charc by 1 whenever value of variable c is other than white space in the separated line\n",
    "            num_charc = num_charc + sum(1 for c in line \n",
    "                          if c not in (os.linesep, ' '))\n",
    "              \n",
    "            # incrementing value of num_spaces by 1 whenever value of variable s is white space in the separated line\n",
    "            num_spaces = num_spaces + sum(1 for s in line \n",
    "                                if s in (os.linesep, ' '))\n",
    "      \n",
    "    # printing total word count\n",
    "    print(\"Number of words in text file: \", num_words)\n",
    "      \n",
    "    # printing total line count\n",
    "    print(\"Number of lines in text file: \", num_lines)\n",
    "      \n",
    "    # printing total character count\n",
    "    print(\"Number of characters in text file: \", num_charc)\n",
    "      \n",
    "    # printing total space count\n",
    "    print(\"Number of spaces in text file: \", num_spaces)\n",
    "  \n",
    "# Driver Code: \n",
    "if __name__ == '__main__': \n",
    "    fname = 'File1.txt'\n",
    "    try: \n",
    "        counter(fname) \n",
    "    except: \n",
    "        print('File not found')\n"
   ]
  },
  {
   "cell_type": "markdown",
   "metadata": {},
   "source": [
    "##### 9.\tPython program to Count the Number of occurrences of a key-value pair in a text file"
   ]
  },
  {
   "cell_type": "code",
   "execution_count": 30,
   "metadata": {},
   "outputs": [
    {
     "name": "stdout",
     "output_type": "stream",
     "text": [
      "python : 3\n",
      "assignment : 1\n",
      "section : 2\n",
      "today : 2\n",
      "complete : 1\n"
     ]
    }
   ],
   "source": [
    "# Open the file in read mode\n",
    "text = open(\"file2.txt\", \"r\")\n",
    "\n",
    "# Create an empty dictionary\n",
    "d = dict()\n",
    "\n",
    "# Loop through each line of the file\n",
    "for line in text:\n",
    "# Remove the leading spaces and newline character\n",
    "    line = line.strip()\n",
    "\n",
    "# Convert the characters in line to lowercase to avoid case mismatch\n",
    "    line = line.lower()\n",
    "\n",
    "# Split the line into words\n",
    "    words = line.split(\" \")\n",
    "\n",
    "# Iterate over each word in line\n",
    "    for word in words:\n",
    "# Check if the word is already in dictionary\n",
    "        if word in d:\n",
    "# Increment count of word by 1\n",
    "            d[word] = d[word] + 1\n",
    "        else:\n",
    "# Add the word to dictionary with count 1\n",
    "            d[word] = 1\n",
    "\n",
    "# Print the contents of dictionary\n",
    "for key in list(d.keys()):\n",
    "    print(key, \":\", d[key])\n"
   ]
  },
  {
   "cell_type": "markdown",
   "metadata": {},
   "source": [
    "##### 10.\tPython | Finding ‘n’ Character Words in a Text File"
   ]
  },
  {
   "cell_type": "code",
   "execution_count": 32,
   "metadata": {},
   "outputs": [
    {
     "name": "stdout",
     "output_type": "stream",
     "text": [
      "two\n",
      "for\n"
     ]
    }
   ],
   "source": [
    "count = 1\n",
    "chrw = \"\"\n",
    "  \n",
    "# text file\n",
    "file = open('file2.txt', 'r')\n",
    "while 1:\n",
    "    sp = file.read(1)\n",
    "  \n",
    "    if count<= 3:\n",
    "        chrw = chrw + sp\n",
    "  \n",
    "    if count>3:\n",
    "        if sp ==\" \":\n",
    "            count = 0\n",
    "            if len(chrw)>0:\n",
    "                print(chrw)\n",
    "                chrw =\"\"\n",
    "        elif sp !=\" \":\n",
    "            chrw =\"\"\n",
    "    count = count + 1\n",
    "  \n",
    "    if not sp:\n",
    "        break\n",
    "  \n",
    "file.close() "
   ]
  },
  {
   "cell_type": "code",
   "execution_count": null,
   "metadata": {},
   "outputs": [],
   "source": []
  }
 ],
 "metadata": {
  "kernelspec": {
   "display_name": "Python 3",
   "language": "python",
   "name": "python3"
  },
  "language_info": {
   "codemirror_mode": {
    "name": "ipython",
    "version": 3
   },
   "file_extension": ".py",
   "mimetype": "text/x-python",
   "name": "python",
   "nbconvert_exporter": "python",
   "pygments_lexer": "ipython3",
   "version": "3.7.3"
  }
 },
 "nbformat": 4,
 "nbformat_minor": 2
}
