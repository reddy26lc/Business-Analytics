{
 "cells": [
  {
   "cell_type": "markdown",
   "metadata": {},
   "source": [
    "##### 1.\tPython program to find smallest number in a list"
   ]
  },
  {
   "cell_type": "code",
   "execution_count": 3,
   "metadata": {},
   "outputs": [
    {
     "name": "stdout",
     "output_type": "stream",
     "text": [
      "Smallest number in list: -9\n"
     ]
    }
   ],
   "source": [
    "def smallest_num_in_list(lists):\n",
    "    min = lists[0]\n",
    "    for i in lists:\n",
    "        if i < min:\n",
    "            min = i\n",
    "    return min\n",
    "print(\"Smallest number in list:\", smallest_num_in_list([0,5,-9,2]))"
   ]
  },
  {
   "cell_type": "markdown",
   "metadata": {},
   "source": [
    "##### 2.\tPython program to find largest number in a list"
   ]
  },
  {
   "cell_type": "code",
   "execution_count": 5,
   "metadata": {},
   "outputs": [
    {
     "name": "stdout",
     "output_type": "stream",
     "text": [
      "Largest number in list: 5\n"
     ]
    }
   ],
   "source": [
    "def largest_num_in_list(lists):\n",
    "    max = lists[0]\n",
    "    for i in lists:\n",
    "        if i > max:\n",
    "            max = i\n",
    "    return max\n",
    "print(\"Largest number in list:\", largest_num_in_list([0,5,-9,2]))"
   ]
  },
  {
   "cell_type": "markdown",
   "metadata": {},
   "source": [
    "##### 3.\tPython program to find second largest number in a list"
   ]
  },
  {
   "cell_type": "code",
   "execution_count": 13,
   "metadata": {},
   "outputs": [
    {
     "name": "stdout",
     "output_type": "stream",
     "text": [
      "Second largest number:  5\n",
      "Second largest number:  0\n"
     ]
    }
   ],
   "source": [
    "def second_largest_num(lists):\n",
    "    lists.sort()\n",
    "    return lists[-2]\n",
    "\n",
    "print(\"Second largest number: \",second_largest_num([1,2,4,5,78,-1]))\n",
    "\n",
    "print(\"Second largest number: \",second_largest_num([-11,4,0,-1]))\n"
   ]
  },
  {
   "cell_type": "markdown",
   "metadata": {},
   "source": [
    "##### 4.\tPython program to find N largest elements from a list"
   ]
  },
  {
   "cell_type": "code",
   "execution_count": 2,
   "metadata": {},
   "outputs": [
    {
     "name": "stdout",
     "output_type": "stream",
     "text": [
      "[6]\n"
     ]
    }
   ],
   "source": [
    "def maxnum(lists, n):\n",
    "    final_list = []\n",
    "  \n",
    "    for i in range(0, n): \n",
    "        max_n = 0\n",
    "          \n",
    "        for j in range(len(lists)):     \n",
    "            if lists[j] > max_n:\n",
    "                max_n = lists[j];\n",
    "                  \n",
    "        lists.remove(max_n);\n",
    "        final_list.append(max_n)\n",
    "          \n",
    "    print(final_list)\n",
    "    \n",
    "maxnum([2,3,-8,5,6],1)"
   ]
  },
  {
   "cell_type": "markdown",
   "metadata": {},
   "source": [
    "##### 5.\tPython program to print even numbers in a list"
   ]
  },
  {
   "cell_type": "code",
   "execution_count": 12,
   "metadata": {},
   "outputs": [
    {
     "data": {
      "text/plain": [
       "[4, 6, -8, 0]"
      ]
     },
     "execution_count": 12,
     "metadata": {},
     "output_type": "execute_result"
    }
   ],
   "source": [
    "def even_num(lists):\n",
    "    even_list = []\n",
    "    for i in lists:\n",
    "        if i%2==0:\n",
    "            even_list.append(i)\n",
    "    return even_list\n",
    "    \n",
    "even_num([1,4,5,3,6,7,-8,9,0])"
   ]
  },
  {
   "cell_type": "markdown",
   "metadata": {},
   "source": [
    "##### 6.\tPython program to print odd numbers in a List"
   ]
  },
  {
   "cell_type": "code",
   "execution_count": 13,
   "metadata": {},
   "outputs": [
    {
     "data": {
      "text/plain": [
       "[1, 5, 3, 7, 9]"
      ]
     },
     "execution_count": 13,
     "metadata": {},
     "output_type": "execute_result"
    }
   ],
   "source": [
    "def odd_num(lists):\n",
    "    odd_list = []\n",
    "    for i in lists:\n",
    "        if i % 2 != 0:\n",
    "            odd_list.append(i)\n",
    "    return odd_list\n",
    "    \n",
    "odd_num([1,4,5,3,6,7,-8,9,0])"
   ]
  },
  {
   "cell_type": "markdown",
   "metadata": {},
   "source": [
    "##### 7.\tPython program to print all even numbers in a range"
   ]
  },
  {
   "cell_type": "code",
   "execution_count": 20,
   "metadata": {},
   "outputs": [
    {
     "name": "stdout",
     "output_type": "stream",
     "text": [
      "Enter the starting number: 12\n",
      "Enter the ending number: 45\n",
      "12 14 16 18 20 22 24 26 28 30 32 34 36 38 40 42 44 "
     ]
    }
   ],
   "source": [
    "starting = int(input(\"Enter the starting number: \"))\n",
    "ending = start = int(input(\"Enter the ending number: \"))\n",
    "for i in range(starting, ending + 1):\n",
    "   # check\n",
    "   if i % 2 == 0:\n",
    "      print(i, end = \" \")"
   ]
  },
  {
   "cell_type": "markdown",
   "metadata": {},
   "source": [
    "##### 8.\tPython program to print all odd numbers in a range"
   ]
  },
  {
   "cell_type": "code",
   "execution_count": 21,
   "metadata": {},
   "outputs": [
    {
     "name": "stdout",
     "output_type": "stream",
     "text": [
      "Enter the starting number: 12\n",
      "Enter the ending number: 45\n",
      "13 15 17 19 21 23 25 27 29 31 33 35 37 39 41 43 45 "
     ]
    }
   ],
   "source": [
    "starting = int(input(\"Enter the starting number: \"))\n",
    "ending = start = int(input(\"Enter the ending number: \"))\n",
    "for i in range(starting, ending + 1):\n",
    "   # check\n",
    "   if i % 2 != 0:\n",
    "      print(i, end = \" \")"
   ]
  },
  {
   "cell_type": "markdown",
   "metadata": {},
   "source": [
    "##### 9.\tPython program to print positive numbers in a list"
   ]
  },
  {
   "cell_type": "code",
   "execution_count": 23,
   "metadata": {},
   "outputs": [
    {
     "data": {
      "text/plain": [
       "[1, 4, 5, 3, 6, 7, 9]"
      ]
     },
     "execution_count": 23,
     "metadata": {},
     "output_type": "execute_result"
    }
   ],
   "source": [
    "def pos_num(lists):\n",
    "    pos_list = []\n",
    "    for i in lists:\n",
    "        if i > 0:\n",
    "            pos_list.append(i)\n",
    "    return pos_list\n",
    "    \n",
    "pos_num([1,4,5,-1,3,6,7,-8,-11,-65,9,0])"
   ]
  },
  {
   "cell_type": "markdown",
   "metadata": {},
   "source": [
    "##### 10.\tPython program to print negative numbers in a list"
   ]
  },
  {
   "cell_type": "code",
   "execution_count": 24,
   "metadata": {},
   "outputs": [
    {
     "data": {
      "text/plain": [
       "[-1, -8, -11, -65]"
      ]
     },
     "execution_count": 24,
     "metadata": {},
     "output_type": "execute_result"
    }
   ],
   "source": [
    "def neg_num(lists):\n",
    "    neg_list = []\n",
    "    for i in lists:\n",
    "        if i < 0:\n",
    "            neg_list.append(i)\n",
    "    return neg_list\n",
    "    \n",
    "neg_num([1,4,5,-1,3,6,7,-8,-11,-65,9,0])"
   ]
  },
  {
   "cell_type": "markdown",
   "metadata": {},
   "source": [
    "##### 11.\tPython program to print all positive numbers in a range"
   ]
  },
  {
   "cell_type": "code",
   "execution_count": 30,
   "metadata": {},
   "outputs": [
    {
     "name": "stdout",
     "output_type": "stream",
     "text": [
      "Enter the starting number: -5\n",
      "Enter the ending number: 5\n",
      "0 1 2 3 4 5 "
     ]
    }
   ],
   "source": [
    "starting = int(input(\"Enter the starting number: \"))\n",
    "ending = start = int(input(\"Enter the ending number: \"))\n",
    "for i in range(starting, ending + 1):\n",
    "    if i >= 0:\n",
    "        print(i, end = \" \")"
   ]
  },
  {
   "cell_type": "code",
   "execution_count": null,
   "metadata": {},
   "outputs": [],
   "source": []
  }
 ],
 "metadata": {
  "kernelspec": {
   "display_name": "Python 3",
   "language": "python",
   "name": "python3"
  },
  "language_info": {
   "codemirror_mode": {
    "name": "ipython",
    "version": 3
   },
   "file_extension": ".py",
   "mimetype": "text/x-python",
   "name": "python",
   "nbconvert_exporter": "python",
   "pygments_lexer": "ipython3",
   "version": "3.7.3"
  }
 },
 "nbformat": 4,
 "nbformat_minor": 2
}
