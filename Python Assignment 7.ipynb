{
 "cells": [
  {
   "cell_type": "markdown",
   "metadata": {},
   "source": [
    "##### 1. Reverse words in a given String in Python"
   ]
  },
  {
   "cell_type": "code",
   "execution_count": 3,
   "metadata": {},
   "outputs": [
    {
     "name": "stdout",
     "output_type": "stream",
     "text": [
      "python is This\n",
      "assignment this doing Finish\n"
     ]
    }
   ],
   "source": [
    "def reverse(string):\n",
    "    words = string.split()\n",
    "## reversing the words using reversed() function\n",
    "    words = list(reversed(words))\n",
    "## joining the words and printing\n",
    "    print(\" \".join(words))\n",
    "    \n",
    "reverse(\"This is python\")\n",
    "reverse(\"Finish doing this assignment\")"
   ]
  },
  {
   "cell_type": "markdown",
   "metadata": {},
   "source": [
    "##### 2.Ways to remove i’th character from string in Python"
   ]
  },
  {
   "cell_type": "code",
   "execution_count": 4,
   "metadata": {},
   "outputs": [
    {
     "name": "stdout",
     "output_type": "stream",
     "text": [
      "Enter a string: python\n",
      "The original string is : python\n",
      "The string after removal of i'th character : pyhon\n"
     ]
    }
   ],
   "source": [
    "string = input(\"Enter a string: \")\n",
    "  \n",
    "# Printing original string \n",
    "print (\"The original string is : \" + string)\n",
    "  \n",
    "# Removing char at pos 3\n",
    "# using loop\n",
    "new_string = \"\"\n",
    "  \n",
    "for i in range(len(string)):\n",
    "    if i != 2:\n",
    "        new_string = new_string + string[i]\n",
    "  \n",
    "# Printing string after removal  \n",
    "print (\"The string after removal of i'th character : \" + new_string)"
   ]
  },
  {
   "cell_type": "markdown",
   "metadata": {},
   "source": [
    "##### 3. Python | Check if a Substring is Present in a Given String"
   ]
  },
  {
   "cell_type": "code",
   "execution_count": 6,
   "metadata": {},
   "outputs": [
    {
     "name": "stdout",
     "output_type": "stream",
     "text": [
      "YES\n",
      "NO\n"
     ]
    }
   ],
   "source": [
    "def check(string, sub_str):\n",
    "    if (string.find(sub_str) == -1):\n",
    "        print(\"NO\")\n",
    "    else:\n",
    "        print(\"YES\")\n",
    "\n",
    "string = \"Python in python\"\n",
    "sub_str =\"python\"\n",
    "check(string, sub_str)\n",
    "\n",
    "string = \"Python in assignment\"\n",
    "sub_str =\"python\"\n",
    "check(string, sub_str)"
   ]
  },
  {
   "cell_type": "markdown",
   "metadata": {},
   "source": [
    "##### 4. Python – Words Frequency in String Shorthands"
   ]
  },
  {
   "cell_type": "code",
   "execution_count": 7,
   "metadata": {},
   "outputs": [
    {
     "name": "stdout",
     "output_type": "stream",
     "text": [
      "Enter a string: Python is a langauge\n",
      "The original string is : Python is a langauge\n",
      "The words frequency : {'Python': 1, 'is': 1, 'a': 3, 'langauge': 1}\n"
     ]
    }
   ],
   "source": [
    "string = input(\"Enter a string: \")\n",
    "  \n",
    "# printing original string\n",
    "print(\"The original string is : \" + str(string))\n",
    "  \n",
    "# Words Frequency in String Shorthands\n",
    "# Using dictionary comprehension + count() + split()\n",
    "result = {key: string.count(key) for key in string.split()}\n",
    "  \n",
    "# printing result \n",
    "print(\"The words frequency : \" + str(result)) "
   ]
  },
  {
   "cell_type": "markdown",
   "metadata": {},
   "source": [
    "##### 5. Python – Convert Snake case to Pascal case"
   ]
  },
  {
   "cell_type": "code",
   "execution_count": 9,
   "metadata": {},
   "outputs": [
    {
     "name": "stdout",
     "output_type": "stream",
     "text": [
      "Enter a string: Let's all learn python for now\n",
      "The original string is : Let's all learn python for now\n",
      "The String after changing case : Let'SAllLearnPythonForNow\n"
     ]
    }
   ],
   "source": [
    "string = input(\"Enter a string: \")\n",
    "  \n",
    "# printing original string\n",
    "print(\"The original string is : \" + string)\n",
    "  \n",
    "# Convert Snake case to Pascal case\n",
    "# Using title() + replace()\n",
    "result = string.replace(\"_\", \" \").title().replace(\" \", \"\")\n",
    "  \n",
    "# printing result \n",
    "print(\"The String after changing case : \" + str(result)) "
   ]
  },
  {
   "cell_type": "markdown",
   "metadata": {},
   "source": [
    "##### 6. Find length of a string in python (4 ways)"
   ]
  },
  {
   "cell_type": "code",
   "execution_count": 10,
   "metadata": {},
   "outputs": [
    {
     "name": "stdout",
     "output_type": "stream",
     "text": [
      "Enter a string: python\n",
      "6\n"
     ]
    }
   ],
   "source": [
    "string = input(\"Enter a string: \")\n",
    "print(len(string))"
   ]
  },
  {
   "cell_type": "code",
   "execution_count": 13,
   "metadata": {},
   "outputs": [
    {
     "name": "stdout",
     "output_type": "stream",
     "text": [
      "7\n"
     ]
    }
   ],
   "source": [
    "def findLen(string):\n",
    "    counter = 0    \n",
    "    for i in string:\n",
    "        counter += 1\n",
    "    return counter\n",
    "  \n",
    "  \n",
    "string = \"pythons\"\n",
    "print(findLen(string))"
   ]
  },
  {
   "cell_type": "code",
   "execution_count": 14,
   "metadata": {},
   "outputs": [
    {
     "name": "stdout",
     "output_type": "stream",
     "text": [
      "7\n"
     ]
    }
   ],
   "source": [
    "def findLen(string):\n",
    "    counter = 0\n",
    "    while string[counter:]:\n",
    "        counter += 1\n",
    "    return counter\n",
    "  \n",
    "string = \"pythons\"\n",
    "print(findLen(string))"
   ]
  },
  {
   "cell_type": "code",
   "execution_count": 15,
   "metadata": {},
   "outputs": [
    {
     "name": "stdout",
     "output_type": "stream",
     "text": [
      "7\n"
     ]
    }
   ],
   "source": [
    "def findLen(string):\n",
    "    if not string:\n",
    "        return 0\n",
    "    else:\n",
    "        random_string = 'py'\n",
    "        return ((random_string).join(string)).count(random_string) + 1\n",
    "  \n",
    "string = \"pythons\"\n",
    "print(findLen(string))"
   ]
  },
  {
   "cell_type": "markdown",
   "metadata": {},
   "source": [
    "##### 7. Python program to print even length words in a string\n"
   ]
  },
  {
   "cell_type": "code",
   "execution_count": 18,
   "metadata": {},
   "outputs": [
    {
     "name": "stdout",
     "output_type": "stream",
     "text": [
      "python\n",
      "also\n"
     ]
    }
   ],
   "source": [
    "def printWords(strings):\n",
    "      \n",
    "    # split the string \n",
    "    strings = strings.split(' ') \n",
    "      \n",
    "    # iterate in words of string \n",
    "    for word in strings: \n",
    "          \n",
    "        # if length is even \n",
    "        if len(word)%2==0:\n",
    "            print(word) \n",
    "  \n",
    "  \n",
    "# Driver Code \n",
    "strings = \"doing python now also\" \n",
    "printWords(strings) "
   ]
  },
  {
   "cell_type": "markdown",
   "metadata": {},
   "source": [
    "##### 8. Python program to accept the strings which contains all vowels"
   ]
  },
  {
   "cell_type": "code",
   "execution_count": 20,
   "metadata": {},
   "outputs": [
    {
     "name": "stdout",
     "output_type": "stream",
     "text": [
      "Enter the string : Lets try out doing python assignment\n",
      "Entered String is  lets try out doing python assignment\n",
      "The string contains all vowels\n"
     ]
    }
   ],
   "source": [
    "string =  input('Enter the string : ')\n",
    "\n",
    "# Checking if the string contains all vowels or not\n",
    "string = string.lower()\n",
    "allVowels = set(\"aeiou\")\n",
    "\n",
    "for char in string :\n",
    "    if char in allVowels :\n",
    "        allVowels.remove(char)\n",
    "\n",
    "print(\"Entered String is \", string)\n",
    "if len(allVowels) == 0:\n",
    "    print(\"The string contains all vowels\")\n",
    "else :\n",
    "    print(\"The string does not contain all vowels\")"
   ]
  },
  {
   "cell_type": "markdown",
   "metadata": {},
   "source": [
    "##### 9. Python | Count the Number of matching characters in a pair of string"
   ]
  },
  {
   "cell_type": "code",
   "execution_count": 21,
   "metadata": {},
   "outputs": [
    {
     "name": "stdout",
     "output_type": "stream",
     "text": [
      "No. of matching characters are  6\n"
     ]
    }
   ],
   "source": [
    "import re\n",
    "string1 = \"python\"\n",
    "string2 = \"python assignment\"\n",
    "  \n",
    "c = 0\n",
    "for i in string1:\n",
    "    if re.search(i,string2):\n",
    "        c=c+1\n",
    "print(\"No. of matching characters are \", c)"
   ]
  },
  {
   "cell_type": "markdown",
   "metadata": {},
   "source": [
    "##### 10. Remove all duplicates from a given string in Python"
   ]
  },
  {
   "cell_type": "code",
   "execution_count": 23,
   "metadata": {},
   "outputs": [
    {
     "name": "stdout",
     "output_type": "stream",
     "text": [
      "Without Order: ponhti y\n",
      "With Order: p\n",
      "With Order: po\n",
      "With Order: pon\n",
      "With Order: ponh\n",
      "With Order: ponht\n",
      "With Order: ponhti\n",
      "With Order: ponhti \n",
      "With Order: ponhti y\n"
     ]
    }
   ],
   "source": [
    "def removeDuplicate(string):\n",
    "    string=set(string)\n",
    "    string=\"\".join(string)\n",
    "    print(\"Without Order:\",string)\n",
    "    t=\"\"\n",
    "    for i in string:\n",
    "        if(i in t):\n",
    "            pass\n",
    "        else:\n",
    "            t=t+i\n",
    "        print(\"With Order:\",t)\n",
    "      \n",
    "string=\"python in python\"\n",
    "removeDuplicate(string)"
   ]
  },
  {
   "cell_type": "code",
   "execution_count": null,
   "metadata": {},
   "outputs": [],
   "source": []
  }
 ],
 "metadata": {
  "kernelspec": {
   "display_name": "Python 3",
   "language": "python",
   "name": "python3"
  },
  "language_info": {
   "codemirror_mode": {
    "name": "ipython",
    "version": 3
   },
   "file_extension": ".py",
   "mimetype": "text/x-python",
   "name": "python",
   "nbconvert_exporter": "python",
   "pygments_lexer": "ipython3",
   "version": "3.7.3"
  }
 },
 "nbformat": 4,
 "nbformat_minor": 2
}
