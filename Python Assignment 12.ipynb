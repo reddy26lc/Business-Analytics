{
 "cells": [
  {
   "cell_type": "markdown",
   "metadata": {},
   "source": [
    "##### 1.\tPython | Convert a list of Tuples into Dictionary"
   ]
  },
  {
   "cell_type": "code",
   "execution_count": 1,
   "metadata": {},
   "outputs": [
    {
     "name": "stdout",
     "output_type": "stream",
     "text": [
      "{'Key 1': 1, 'Key 2': 2, 'Key 3': 3, 'Key 4': 4, 'Key 5': 5}\n"
     ]
    }
   ],
   "source": [
    "# initializing the list\n",
    "tuples = [('Key 1', 1), ('Key 2', 2), ('Key 3', 3), ('Key 4', 4), ('Key 5', 5)]\n",
    "\n",
    "# converting to dict\n",
    "result = dict(tuples)\n",
    "\n",
    "# printing the result\n",
    "print(result)"
   ]
  },
  {
   "cell_type": "markdown",
   "metadata": {},
   "source": [
    "##### 2.\tPython counter and dictionary intersection example (Make a string using deletion and rearrangement)"
   ]
  },
  {
   "cell_type": "code",
   "execution_count": 3,
   "metadata": {},
   "outputs": [
    {
     "name": "stdout",
     "output_type": "stream",
     "text": [
      "Possible\n"
     ]
    }
   ],
   "source": [
    "from collections import Counter\n",
    "  \n",
    "def makeString(str1,str2):\n",
    "  \n",
    "    # convert both strings into dictionaries\n",
    "    # output will be like str1=\"aabbcc\", \n",
    "    # dict1={'a':2,'b':2,'c':2}\n",
    "    # str2 = 'abbbcc', dict2={'a':1,'b':3,'c':2}\n",
    "    dict1 = Counter(str1)\n",
    "    dict2 = Counter(str2)\n",
    "  \n",
    "    # take intersection of two dictionries\n",
    "    # output will be result = {'a':1,'b':2,'c':2}\n",
    "    result = dict1 & dict2\n",
    "  \n",
    "    # compare resultant dictionary with first\n",
    "    # dictionary comparison first compares keys\n",
    "    # and then compares their corresponding values \n",
    "    return result == dict1\n",
    "  \n",
    "# Driver program\n",
    "if __name__ == \"__main__\":\n",
    "    str1 = 'ABHISHEKsinGH'\n",
    "    str2 = 'gfhfBHkooIHnfndSHEKsiAnG'\n",
    "    if (makeString(str1,str2)==True):\n",
    "        print(\"Possible\")\n",
    "    else:\n",
    "        print(\"Not Possible\")"
   ]
  },
  {
   "cell_type": "markdown",
   "metadata": {},
   "source": [
    "##### 3.\tPython dictionary, set and counter to check if frequencies can become same"
   ]
  },
  {
   "cell_type": "code",
   "execution_count": 4,
   "metadata": {},
   "outputs": [
    {
     "name": "stdout",
     "output_type": "stream",
     "text": [
      "The string is :\n",
      "xxxyyyzzzzzz\n",
      "The frequencies are not same\n"
     ]
    }
   ],
   "source": [
    "from collections import Counter\n",
    "def check_all_same(my_input):\n",
    "   my_dict = Counter(my_input)\n",
    "   input_2 = list(set(my_dict.values()))\n",
    "   if len(input_2)>2:\n",
    "      print('The frequencies are not same')\n",
    "   elif len (input_2)==2 and input_2[1]-input_2[0]>1:\n",
    "      print('The frequencies are not same')\n",
    "   else:\n",
    "      print('The frequencies are same')\n",
    "\n",
    "my_str = 'xxxyyyzzzzzz'\n",
    "print(\"The string is :\")\n",
    "print(my_str)\n",
    "check_all_same(my_str)"
   ]
  },
  {
   "cell_type": "markdown",
   "metadata": {},
   "source": [
    "##### 4.\tScraping And Finding Ordered Words In A Dictionary using Python"
   ]
  },
  {
   "cell_type": "code",
   "execution_count": 6,
   "metadata": {},
   "outputs": [],
   "source": [
    "# Python program to find ordered words\n",
    "import requests\n",
    "  \n",
    "# Scrapes the words from the URL below and stores \n",
    "# them in a list\n",
    "def getWords():\n",
    "  \n",
    "    # contains about 2500 words\n",
    "    url = \"http://www.puzzlers.org/pub/wordlists/unixdict.txt\"\n",
    "    fetchData = requests.get(url)\n",
    "  \n",
    "    # extracts the content of the webpage\n",
    "    wordList = fetchData.content\n",
    "  \n",
    "    # decodes the UTF-8 encoded text and splits the \n",
    "    # string to turn it into a list of words\n",
    "    wordList = wordList.decode(\"utf-8\").split()\n",
    "  \n",
    "    return wordList\n",
    "  \n",
    "  \n",
    "# function to determine whether a word is ordered or not\n",
    "def isOrdered():\n",
    "  \n",
    "    # fetching the wordList\n",
    "    collection = getWords()\n",
    "  \n",
    "    # since the first few of the elements of the \n",
    "    # dictionary are numbers, getting rid of those\n",
    "    # numbers by slicing off the first 17 elements\n",
    "    collection = collection[16:]\n",
    "    word = ''\n",
    "  \n",
    "    for word in collection:\n",
    "        result = 'Word is ordered'\n",
    "        i = 0\n",
    "        l = len(word) - 1\n",
    "  \n",
    "        if (len(word) < 3): # skips the 1 and 2 lettered strings\n",
    "            continue\n",
    "  \n",
    "        # traverses through all characters of the word in pairs\n",
    "        while i < l:         \n",
    "            if (ord(word[i]) > ord(word[i+1])):\n",
    "                result = 'Word is not ordered'\n",
    "                break\n",
    "            else:\n",
    "                i += 1\n",
    "  \n",
    "        # only printing the ordered words\n",
    "        if (result == 'Word is ordered'):\n",
    "            print(word,': ',result)\n",
    "  \n",
    "  \n",
    "# execute isOrdered() function\n",
    "if __name__ == '__main__':\n",
    "    isOrdered()"
   ]
  },
  {
   "cell_type": "markdown",
   "metadata": {},
   "source": [
    "##### 5.\tPossible Words using given characters in Python"
   ]
  },
  {
   "cell_type": "code",
   "execution_count": 7,
   "metadata": {},
   "outputs": [
    {
     "name": "stdout",
     "output_type": "stream",
     "text": [
      "me\n",
      "goal\n"
     ]
    }
   ],
   "source": [
    "  \n",
    "def charCount(word):\n",
    "    dict = {}\n",
    "    for i in word:\n",
    "        dict[i] = dict.get(i, 0) + 1\n",
    "    return dict\n",
    "  \n",
    "  \n",
    "def possible_words(lwords, charSet):\n",
    "    for word in lwords:\n",
    "        flag = 1\n",
    "        chars = charCount(word)\n",
    "        for key in chars:\n",
    "            if key not in charSet:\n",
    "                flag = 0\n",
    "            else:\n",
    "                if charSet.count(key) != chars[key]:\n",
    "                    flag = 0\n",
    "        if flag == 1:\n",
    "            print(word)\n",
    "  \n",
    "if __name__ == \"__main__\":\n",
    "    input = ['goo', 'bat', 'me', 'eat', 'goal', 'boy', 'run']\n",
    "    charSet = ['e', 'o', 'b', 'a', 'm', 'g', 'l']\n",
    "    possible_words(input, charSet)"
   ]
  },
  {
   "cell_type": "markdown",
   "metadata": {},
   "source": [
    "##### 6.\tPython – Keys associated with Values in Dictionary"
   ]
  },
  {
   "cell_type": "code",
   "execution_count": 8,
   "metadata": {},
   "outputs": [
    {
     "name": "stdout",
     "output_type": "stream",
     "text": [
      "java\n",
      "python\n",
      "python\n"
     ]
    }
   ],
   "source": [
    "\n",
    "# creating a new dictionary\n",
    "my_dict ={\"java\":100, \"python\":112, \"c\":11}\n",
    " \n",
    "# list out keys and values separately\n",
    "key_list = list(my_dict.keys())\n",
    "val_list = list(my_dict.values())\n",
    " \n",
    "# print key with val 100\n",
    "position = val_list.index(100)\n",
    "print(key_list[position])\n",
    " \n",
    "# print key with val 112\n",
    "position = val_list.index(112)\n",
    "print(key_list[position])\n",
    " \n",
    "# one-liner\n",
    "print(list(my_dict.keys())[list(my_dict.values()).index(112)])"
   ]
  },
  {
   "cell_type": "markdown",
   "metadata": {},
   "source": [
    "##### 7.\tPython program to Find the size of a Tuple"
   ]
  },
  {
   "cell_type": "code",
   "execution_count": 10,
   "metadata": {},
   "outputs": [
    {
     "name": "stdout",
     "output_type": "stream",
     "text": [
      "('p', 'y', 't', 'h', 'o', 'n', ' ', 'a', 's', 's', 'i', 'g', 'n', 'm', 'e', 'n', 't')\n",
      "17\n"
     ]
    }
   ],
   "source": [
    "#create a tuple\n",
    "tuplex = tuple(\"python assignment\")\n",
    "print(tuplex)\n",
    "#use the len() function to known the length of tuple\n",
    "print(len(tuplex))\n"
   ]
  },
  {
   "cell_type": "markdown",
   "metadata": {},
   "source": [
    "##### 8.\tPython – Maximum and Minimum K elements in Tuple"
   ]
  },
  {
   "cell_type": "code",
   "execution_count": 11,
   "metadata": {},
   "outputs": [
    {
     "name": "stdout",
     "output_type": "stream",
     "text": [
      "The tuple is : \n",
      "(7, 25, 36, 9, 6, 8)\n",
      "The value of K has been initialized to \n",
      "2\n",
      "The result is : \n",
      "(6, 7, 25, 36)\n"
     ]
    }
   ],
   "source": [
    "my_tuple = (7, 25, 36, 9, 6, 8)\n",
    "\n",
    "print(\"The tuple is : \")\n",
    "print(my_tuple)\n",
    "\n",
    "K = 2\n",
    "print(\"The value of K has been initialized to \")\n",
    "print(K)\n",
    "my_result = []\n",
    "my_tuple = list(my_tuple)\n",
    "temp = sorted(my_tuple)\n",
    "\n",
    "for idx, val in enumerate(temp):\n",
    "   if idx < K or idx >= len(temp) - K:\n",
    "      my_result.append(val)\n",
    "my_result = tuple(my_result)\n",
    "\n",
    "print(\"The result is : \" )\n",
    "print(my_result)"
   ]
  },
  {
   "cell_type": "markdown",
   "metadata": {},
   "source": [
    "##### 9.\tCreate a list of tuples from given list having number and its cube in each tuple"
   ]
  },
  {
   "cell_type": "code",
   "execution_count": 12,
   "metadata": {},
   "outputs": [
    {
     "name": "stdout",
     "output_type": "stream",
     "text": [
      "[(0, 0), (1, 1), (2, 8), (4, 64), (6, 216)]\n"
     ]
    }
   ],
   "source": [
    "list1 = [0,1,2,4,6]\n",
    "res = [(val, pow(val, 3)) for val in list1]\n",
    "# main\n",
    "print(res)"
   ]
  },
  {
   "cell_type": "markdown",
   "metadata": {},
   "source": [
    "##### 10.\tPython – Adding Tuple to List and vice – versa"
   ]
  },
  {
   "cell_type": "code",
   "execution_count": 13,
   "metadata": {},
   "outputs": [
    {
     "name": "stdout",
     "output_type": "stream",
     "text": [
      "The list is : \n",
      "[3, 6, 9, 45, 66]\n",
      "The tuple is \n",
      "(11, 14, 21)\n",
      "The list after addition is : \n",
      "[3, 6, 9, 45, 66, 11, 14, 21]\n"
     ]
    }
   ],
   "source": [
    "my_list = [3, 6, 9, 45, 66]\n",
    "\n",
    "print(\"The list is : \")\n",
    "print(my_list)\n",
    "\n",
    "my_tup = (11, 14, 21)\n",
    "print(\"The tuple is \")\n",
    "print(my_tup)\n",
    "my_list += my_tup\n",
    "\n",
    "print(\"The list after addition is : \" )\n",
    "print(my_list)"
   ]
  },
  {
   "cell_type": "markdown",
   "metadata": {},
   "source": [
    "##### 11.\tPython – Closest Pair to Kth index element in Tuple"
   ]
  },
  {
   "cell_type": "code",
   "execution_count": 14,
   "metadata": {},
   "outputs": [
    {
     "name": "stdout",
     "output_type": "stream",
     "text": [
      "The list is : \n",
      "[(5, 6), (66, 76), (21, 35), (90, 8), (9, 0)]\n",
      "The tuple is \n",
      "(17, 23)\n",
      "The value of K has been initialized to \n",
      "2\n",
      "The tuple nearest to Kth index element is : \n",
      "(21, 35)\n"
     ]
    }
   ],
   "source": [
    "my_list = [(5, 6), (66, 76), (21, 35), (90, 8), (9, 0)]\n",
    "\n",
    "print(\"The list is : \")\n",
    "print(my_list)\n",
    "\n",
    "my_tuple = (17, 23)\n",
    "print(\"The tuple is \")\n",
    "print(my_tuple)\n",
    "K = 2\n",
    "print(\"The value of K has been initialized to \")\n",
    "print(K)\n",
    "\n",
    "min_diff, my_result = 999999999, None\n",
    "for idx, val in enumerate(my_list):\n",
    "   diff = abs(my_tuple[K - 1] - val[K - 1])\n",
    "   if diff < min_diff:\n",
    "      min_diff, my_result = diff, idx\n",
    "\n",
    "print(\"The tuple nearest to Kth index element is : \" )\n",
    "print(my_list[my_result])"
   ]
  },
  {
   "cell_type": "code",
   "execution_count": null,
   "metadata": {},
   "outputs": [],
   "source": []
  }
 ],
 "metadata": {
  "kernelspec": {
   "display_name": "Python 3",
   "language": "python",
   "name": "python3"
  },
  "language_info": {
   "codemirror_mode": {
    "name": "ipython",
    "version": 3
   },
   "file_extension": ".py",
   "mimetype": "text/x-python",
   "name": "python",
   "nbconvert_exporter": "python",
   "pygments_lexer": "ipython3",
   "version": "3.7.3"
  }
 },
 "nbformat": 4,
 "nbformat_minor": 2
}
