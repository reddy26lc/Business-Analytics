{
 "cells": [
  {
   "cell_type": "markdown",
   "metadata": {},
   "source": [
    "#### 1.\tPython Program to obtain the line number in which given word is present"
   ]
  },
  {
   "cell_type": "code",
   "execution_count": 2,
   "metadata": {},
   "outputs": [
    {
     "data": {
      "text/plain": [
       "'Python assignment python section\\ntoday complete python section today\\none two words for \\n'"
      ]
     },
     "execution_count": 2,
     "metadata": {},
     "output_type": "execute_result"
    }
   ],
   "source": [
    "df = open(\"file2.txt\")\n",
    "  \n",
    "# read file\n",
    "read = df.read()\n",
    "  \n",
    "# return cursor to\n",
    "# the beginning\n",
    "# of the file.\n",
    "df.seek(0)\n",
    "read"
   ]
  },
  {
   "cell_type": "markdown",
   "metadata": {},
   "source": [
    "##### 2.\tCount number of lines in a text file in Python"
   ]
  },
  {
   "cell_type": "code",
   "execution_count": 3,
   "metadata": {},
   "outputs": [
    {
     "name": "stdout",
     "output_type": "stream",
     "text": [
      "This is the number of lines in the file\n",
      "3\n"
     ]
    }
   ],
   "source": [
    "# Opening a file\n",
    "file = open(\"file2.txt\",\"r\")\n",
    "Counter = 0\n",
    "  \n",
    "# Reading from file\n",
    "Content = file.read()\n",
    "CoList = Content.split(\"\\n\")\n",
    "  \n",
    "for i in CoList:\n",
    "    if i:\n",
    "        Counter += 1\n",
    "          \n",
    "print(\"This is the number of lines in the file\")\n",
    "print(Counter)"
   ]
  },
  {
   "cell_type": "markdown",
   "metadata": {},
   "source": [
    "##### 3.\tPython Program to remove lines starting with any prefix"
   ]
  },
  {
   "cell_type": "code",
   "execution_count": 4,
   "metadata": {},
   "outputs": [
    {
     "name": "stdout",
     "output_type": "stream",
     "text": [
      "Let's do the python assignment section today.\n"
     ]
    }
   ],
   "source": [
    "\n",
    "# importing regex module\n",
    "import re\n",
    "  \n",
    "# defining object file1 to open\n",
    "# GeeksforGeeks file in read mode\n",
    "file1 = open('file.txt',\n",
    "           'r')\n",
    "  \n",
    "# defining object file2 to open \n",
    "# GeeksforGeeksUpdated file in\n",
    "# write mode\n",
    "file2 = open('file1.txt','w')\n",
    "  \n",
    "# reading each line from original\n",
    "# text file\n",
    "for line in file1.readlines():\n",
    "    \n",
    "    # reading all lines that begin \n",
    "    # with \"TextGenerator\"\n",
    "    x = re.findall(\"^Python\", line)\n",
    "      \n",
    "    if not x:\n",
    "        \n",
    "        # printing those lines\n",
    "        print(line)\n",
    "          \n",
    "        # storing only those lines that \n",
    "        # do not begin with \"TextGenerator\"\n",
    "        file2.write(line)\n",
    "          \n",
    "# close and save the files\n",
    "file1.close()\n",
    "file2.close()\n",
    "     "
   ]
  },
  {
   "cell_type": "markdown",
   "metadata": {},
   "source": [
    "##### 4.\tPython Program to Eliminate repeated lines from a file"
   ]
  },
  {
   "cell_type": "code",
   "execution_count": 10,
   "metadata": {},
   "outputs": [
    {
     "name": "stdout",
     "output_type": "stream",
     "text": [
      "The file file2.txt is as follows\n",
      "Python assignment python section\n",
      "\n",
      "today complete python section today\n",
      "\n",
      "one two words for \n",
      "\n",
      "Python assignment python section\n",
      "\n",
      "The file file3.txt is as follows\n",
      "Python assignment python section\n",
      "\n",
      "today complete python section today\n",
      "\n",
      "one two words for \n",
      "\n"
     ]
    }
   ],
   "source": [
    "lines_seen = set()  # holds lines already seen\n",
    "outfile = open('file3.txt', \"w\")\n",
    "infile = open('file2.txt', \"r\")\n",
    "print (\"The file file2.txt is as follows\")\n",
    "for line in infile:\n",
    "    print (line)\n",
    "    if line not in lines_seen:  # not a duplicate\n",
    "        outfile.write(line)\n",
    "        lines_seen.add(line)\n",
    "outfile.close()\n",
    "print (\"The file file3.txt is as follows\")\n",
    "for line in open('file3.txt', \"r\"):\n",
    "    print (line)"
   ]
  },
  {
   "cell_type": "markdown",
   "metadata": {},
   "source": [
    "##### 5.\tPython Program to read List of Dictionaries from File"
   ]
  },
  {
   "cell_type": "code",
   "execution_count": 11,
   "metadata": {},
   "outputs": [
    {
     "name": "stdout",
     "output_type": "stream",
     "text": [
      "Something unexpected occurred!\n"
     ]
    }
   ],
   "source": [
    "import pickle\n",
    "  \n",
    "try:\n",
    "    file = open('dict.txt', 'r')\n",
    "    dictionary_list = pickle.load(file)\n",
    "      \n",
    "    for d in dictionary_list:\n",
    "        print(d)\n",
    "    file.close()\n",
    "  \n",
    "except:\n",
    "    print(\"Something unexpected occurred!\")"
   ]
  },
  {
   "cell_type": "markdown",
   "metadata": {},
   "source": [
    "##### 6.\tPython – Append content of one text file to another"
   ]
  },
  {
   "cell_type": "code",
   "execution_count": 17,
   "metadata": {},
   "outputs": [
    {
     "name": "stdout",
     "output_type": "stream",
     "text": [
      "Enter the name of first file file1.txt\n",
      "Enter the name of second file file2.txt\n",
      "content of first file before appending - Let's do the python assignment section today.\n",
      "content of second file before appending - Python assignment python section\n",
      "today complete python section today\n",
      "one two words for \n",
      "Python assignment python section\n",
      "\n",
      "content of first file after appending - Let's do the python assignment section today.Python assignment python section\n",
      "today complete python section today\n",
      "one two words for \n",
      "Python assignment python section\n",
      "\n",
      "content of second file after appending - Python assignment python section\n",
      "today complete python section today\n",
      "one two words for \n",
      "Python assignment python section\n",
      "\n"
     ]
    }
   ],
   "source": [
    "# entering the file names\n",
    "firstfile = input(\"Enter the name of first file \")\n",
    "secondfile = input(\"Enter the name of second file \")\n",
    " \n",
    "# opening both files in read only mode to read initial contents\n",
    "f1 = open(firstfile, 'r')\n",
    "f2 = open(secondfile, 'r')\n",
    " \n",
    "# printing the contens of the file before appending\n",
    "print('content of first file before appending -', f1.read())\n",
    "print('content of second file before appending -', f2.read())\n",
    " \n",
    "# closing the files\n",
    "f1.close()\n",
    "f2.close()\n",
    " \n",
    "# opening first file in append mode and second file in read mode\n",
    "f1 = open(firstfile, 'a+')\n",
    "f2 = open(secondfile, 'r')\n",
    " \n",
    "# appending the contents of the second file to the first file\n",
    "f1.write(f2.read())\n",
    " \n",
    "# relocating the cursor of the files at the beginning\n",
    "f1.seek(0)\n",
    "f2.seek(0)\n",
    " \n",
    "# printing the contents of the files after appendng\n",
    "print('content of first file after appending -', f1.read())\n",
    "print('content of second file after appending -', f2.read())\n",
    " \n",
    "# closing the files\n",
    "f1.close()\n",
    "f2.close()"
   ]
  },
  {
   "cell_type": "markdown",
   "metadata": {},
   "source": [
    "##### 7.\tPython program to copy odd lines of one file to other"
   ]
  },
  {
   "cell_type": "code",
   "execution_count": 20,
   "metadata": {},
   "outputs": [
    {
     "name": "stdout",
     "output_type": "stream",
     "text": [
      "today complete python section today\n",
      "Python assignment python section\n",
      "\n"
     ]
    }
   ],
   "source": [
    "# open file in read mode\n",
    "fn = open('file1.txt', 'r')\n",
    "  \n",
    "# open other file in write mode\n",
    "fn1 = open('file2.txt', 'w')\n",
    "  \n",
    "# read the content of the file line by line\n",
    "cont = fn.readlines()\n",
    "type(cont)\n",
    "for i in range(0, len(cont)):\n",
    "    if(i % 2 != 0):\n",
    "        fn1.write(cont[i])\n",
    "    else:\n",
    "        pass\n",
    "  \n",
    "# close the file\n",
    "fn1.close()\n",
    "  \n",
    "# open file in read mode\n",
    "fn1 = open('file2.txt', 'r')\n",
    "  \n",
    "# read the content of the file\n",
    "cont1 = fn1.read()\n",
    "  \n",
    "# print the content of the file\n",
    "print(cont1)\n",
    "  \n",
    "# close all files\n",
    "fn.close()\n",
    "fn1.close()\n"
   ]
  },
  {
   "cell_type": "markdown",
   "metadata": {},
   "source": [
    "##### 8.\tPython Program to merge two files into a third file"
   ]
  },
  {
   "cell_type": "code",
   "execution_count": 21,
   "metadata": {},
   "outputs": [],
   "source": [
    "data = data2 = \"\"\n",
    "  \n",
    "# Reading data from file1\n",
    "with open('file1.txt') as fp:\n",
    "    data = fp.read()\n",
    "  \n",
    "# Reading data from file2\n",
    "with open('file2.txt') as fp:\n",
    "    data2 = fp.read()\n",
    "  \n",
    "# Merging 2 files\n",
    "# To add the data of file2\n",
    "# from next line\n",
    "data += \"\\n\"\n",
    "data += data2\n",
    "  \n",
    "with open ('file6.txt', 'w') as fp:\n",
    "    fp.write(data)"
   ]
  },
  {
   "cell_type": "markdown",
   "metadata": {},
   "source": [
    "##### 9.\tPython program to Reverse a single line of a text file"
   ]
  },
  {
   "cell_type": "code",
   "execution_count": 22,
   "metadata": {},
   "outputs": [],
   "source": [
    "f = open('file1.txt', 'r')\n",
    "  \n",
    "# Read the content of the\n",
    "# file and store it in a list\n",
    "lines = f.readlines()\n",
    "      \n",
    "# Close file\n",
    "f.close()\n",
    "  \n",
    "# User's choice\n",
    "choice = 1\n",
    "  \n",
    "# Split the line into words \n",
    "line = lines[choice].split()\n",
    "  \n",
    "# line is reversed\n",
    "Reversed = \" \".join(line[::-1])\n",
    "  \n",
    "# Updating the content of the\n",
    "# file\n",
    "lines.pop(choice)\n",
    "lines.insert(choice, Reversed)\n",
    "  \n",
    "# Open file in write mode\n",
    "u = open('fil1.txt', 'w')\n",
    "  \n",
    "# Write the new content in file\n",
    "# and note, it is overwritten \n",
    "u.writelines(lines)\n",
    "u.close()"
   ]
  },
  {
   "cell_type": "markdown",
   "metadata": {},
   "source": [
    "##### 10.\tPython program to reverse the content of a file and store it in another file"
   ]
  },
  {
   "cell_type": "code",
   "execution_count": 24,
   "metadata": {},
   "outputs": [],
   "source": [
    "f1 = open(\"output1.txt\", \"w\")\n",
    "  \n",
    "# Open the input file and get \n",
    "# the content into a variable data\n",
    "with open(\"file.txt\", \"r\") as myfile:\n",
    "    data = myfile.read()\n",
    "  \n",
    "# For Full Reversing we will store the \n",
    "# value of data into new variable data_1 \n",
    "# in a reverse order using [start: end: step],\n",
    "# where step when passed -1 will reverse \n",
    "# the string\n",
    "data_1 = data[::-1]\n",
    "  \n",
    "# Now we will write the fully reverse \n",
    "# data in the output1 file using \n",
    "# following command\n",
    "f1.write(data_1)\n",
    "  \n",
    "f1.close()"
   ]
  },
  {
   "cell_type": "markdown",
   "metadata": {},
   "source": [
    "##### 11.\tPython Program to Reverse the Content of a File using Stack"
   ]
  },
  {
   "cell_type": "code",
   "execution_count": 26,
   "metadata": {},
   "outputs": [
    {
     "name": "stdout",
     "output_type": "stream",
     "text": [
      "Python assignment python section\n",
      "one two words for \n",
      "today complete python section today\n",
      "Let's do the python assignment section today.Python assignment python section\n"
     ]
    }
   ],
   "source": [
    "# Creating Stack class (LIFO rule)\n",
    "class Stack:\n",
    "      \n",
    "    def __init__(self):\n",
    "          \n",
    "        # Creating an empty stack\n",
    "        self._arr = []\n",
    "          \n",
    "    # Creating push() method.\n",
    "    def push(self, val):\n",
    "        self._arr.append(val)\n",
    "   \n",
    "    def is_empty(self):\n",
    "          \n",
    "        # Returns True if empty\n",
    "        return len(self._arr) == 0\n",
    "  \n",
    "    # Creating Pop method.\n",
    "    def pop(self):\n",
    "          \n",
    "        if self.is_empty():\n",
    "            print(\"Stack is empty\")\n",
    "            return\n",
    "          \n",
    "        return self._arr.pop()\n",
    "  \n",
    "### Creating a function which will reverse the lines of a file and Overwrites the given file with its contents line-by-line reversed\n",
    "def reverse_file(filename):\n",
    "       \n",
    "    S = Stack()\n",
    "    original = open(filename)\n",
    "      \n",
    "    for line in original:\n",
    "        S.push(line.rstrip(\"\\n\"))\n",
    "      \n",
    "    original.close()\n",
    "       \n",
    "       \n",
    "    output = open(filename, 'w')\n",
    "      \n",
    "    while not S.is_empty():\n",
    "        output.write(S.pop()+\"\\n\")\n",
    "      \n",
    "    output.close()\n",
    "  \n",
    "  \n",
    "# Driver Code\n",
    "filename = \"file1.txt\"\n",
    "  \n",
    "# Calling the reverse_file function\n",
    "reverse_file(filename)\n",
    "   \n",
    "# Now reading the content of the file\n",
    "with open(filename) as file:\n",
    "        for f in file.readlines():\n",
    "            print(f, end =\"\")"
   ]
  },
  {
   "cell_type": "code",
   "execution_count": null,
   "metadata": {},
   "outputs": [],
   "source": []
  }
 ],
 "metadata": {
  "kernelspec": {
   "display_name": "Python 3",
   "language": "python",
   "name": "python3"
  },
  "language_info": {
   "codemirror_mode": {
    "name": "ipython",
    "version": 3
   },
   "file_extension": ".py",
   "mimetype": "text/x-python",
   "name": "python",
   "nbconvert_exporter": "python",
   "pygments_lexer": "ipython3",
   "version": "3.7.3"
  }
 },
 "nbformat": 4,
 "nbformat_minor": 2
}
