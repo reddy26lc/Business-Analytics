{
 "cells": [
  {
   "cell_type": "markdown",
   "metadata": {},
   "source": [
    "##### 1.\tPython program to print all negative numbers in a range"
   ]
  },
  {
   "cell_type": "code",
   "execution_count": 2,
   "metadata": {},
   "outputs": [
    {
     "name": "stdout",
     "output_type": "stream",
     "text": [
      "Enter the starting number: -5\n",
      "Enter the ending number: 5\n",
      "-5 -4 -3 -2 -1 "
     ]
    }
   ],
   "source": [
    "starting = int(input(\"Enter the starting number: \"))\n",
    "ending = start = int(input(\"Enter the ending number: \"))\n",
    "for i in range(starting, ending + 1):\n",
    "    if i < 0:\n",
    "        print(i, end = \" \")"
   ]
  },
  {
   "cell_type": "markdown",
   "metadata": {},
   "source": [
    "##### 2.\tRemove multiple elements from a list in Python"
   ]
  },
  {
   "cell_type": "code",
   "execution_count": 8,
   "metadata": {},
   "outputs": [
    {
     "name": "stdout",
     "output_type": "stream",
     "text": [
      "[1, 3, 5, 7]\n"
     ]
    }
   ],
   "source": [
    "#let's assume the given condition is to remove even numbers from a list\n",
    "def nums(lists):\n",
    "    for i in lists:\n",
    "        if i % 2 == 0:\n",
    "            lists.remove(i)\n",
    "    print (lists)\n",
    "    \n",
    "nums([1,2,3,4,5,6,7,8])"
   ]
  },
  {
   "cell_type": "markdown",
   "metadata": {},
   "source": [
    "##### 3.\twrite a Python program to Remove empty List from List"
   ]
  },
  {
   "cell_type": "code",
   "execution_count": 4,
   "metadata": {},
   "outputs": [
    {
     "name": "stdout",
     "output_type": "stream",
     "text": [
      "Original list: [[], 2, 'check', [], 0, [], [3, 4], ['Check', 'empty', [1, 2]]]\n",
      "\n",
      "After removing the empty lists from the lists of lists\n",
      "[2, 'check', 0, [3, 4], ['Check', 'empty', [1, 2]]]\n"
     ]
    }
   ],
   "source": [
    "lists = [[], 2, 'check', [], 0, [], [3,4], ['Check', 'empty', [1,2]]]\n",
    "print(\"Original list:\" , lists)\n",
    "#print(lists)\n",
    "print(\"\\nAfter removing the empty lists from the lists of lists\")\n",
    "final_list = [x for x in lists if x!=[]]\n",
    "print(final_list)"
   ]
  },
  {
   "cell_type": "markdown",
   "metadata": {},
   "source": [
    "##### 4.\tWrite a Python program for Cloning or Copying a list"
   ]
  },
  {
   "cell_type": "code",
   "execution_count": 6,
   "metadata": {},
   "outputs": [
    {
     "name": "stdout",
     "output_type": "stream",
     "text": [
      "Original List: [1, 2, 3, 4, 5, 6]\n",
      "After Cloning: [1, 2, 3, 4, 5, 6]\n"
     ]
    }
   ],
   "source": [
    "def Cloning(lists):\n",
    "    list_copy = lists[:]\n",
    "    return list_copy\n",
    "  \n",
    "lists = [1,2,3,4,5,6]\n",
    "lists_copy = Cloning([1,2,3,4,5,6])\n",
    "print(\"Original List:\", lists)\n",
    "print(\"After Cloning:\", lists_copy)"
   ]
  },
  {
   "cell_type": "markdown",
   "metadata": {},
   "source": [
    "##### 5.\twrite a Python program to Count occurrences of an element in a list"
   ]
  },
  {
   "cell_type": "code",
   "execution_count": 8,
   "metadata": {},
   "outputs": [
    {
     "name": "stdout",
     "output_type": "stream",
     "text": [
      "1 has occurred 4 times\n"
     ]
    }
   ],
   "source": [
    "def count_occurrence(lists, x):\n",
    "    count = 0\n",
    "    for i in lists:\n",
    "        if (i == x):\n",
    "            count = count + 1\n",
    "    return count\n",
    " \n",
    "\n",
    "lists = [1,2,3,1,4,5,61,1,1]\n",
    "x = 1\n",
    "print('{} has occurred {} times'.format(x, count_occurrence(lists, x)))   "
   ]
  },
  {
   "cell_type": "markdown",
   "metadata": {},
   "source": [
    "##### 6.\twrite a Python program to Remove empty tuples from a list"
   ]
  },
  {
   "cell_type": "code",
   "execution_count": 9,
   "metadata": {},
   "outputs": [
    {
     "name": "stdout",
     "output_type": "stream",
     "text": [
      "[('1', '2', '2', 'check'), ('remove', 'empty'), ('', '')]\n"
     ]
    }
   ],
   "source": [
    "def Remove(tuples):\n",
    "    tuples = [t for t in tuples if t]\n",
    "    return tuples\n",
    "  \n",
    "# Driver Code\n",
    "tuples = [(), ('1','2','2','check'), (), ('remove', 'empty'), ('',''),()]\n",
    "print(Remove(tuples))"
   ]
  },
  {
   "cell_type": "markdown",
   "metadata": {},
   "source": [
    "##### 7.\twrite a Python program to Program to print duplicates from a list of integers"
   ]
  },
  {
   "cell_type": "code",
   "execution_count": null,
   "metadata": {},
   "outputs": [],
   "source": [
    "def duplicates(lists):\n",
    "    empty_list=[]\n",
    "    for i in lists:\n",
    "        if i not in empty_list:\n",
    "            empty_list.append(i)\n",
    "        else:\n",
    "            print(i,end=' ')\n",
    "\n",
    "duplicates([1,2,3,4,5,2,3,4,7,9,5])"
   ]
  },
  {
   "cell_type": "markdown",
   "metadata": {},
   "source": [
    "##### 8.\twrite a Python program to find Cumulative sum of a list"
   ]
  },
  {
   "cell_type": "code",
   "execution_count": 22,
   "metadata": {},
   "outputs": [
    {
     "name": "stdout",
     "output_type": "stream",
     "text": [
      "[1, 3, 6, 10, 15]\n",
      "[10, 30, 50, 60]\n"
     ]
    }
   ],
   "source": [
    "def cumulative_sum(lists):\n",
    "  return [sum(lists[:i+1]) for i in range(len(lists))]\n",
    "\n",
    "print(cumulative_sum([1, 2, 3, 4, 5]))\n",
    "print(cumulative_sum([10,20,20,10]))\n",
    "\n"
   ]
  },
  {
   "cell_type": "markdown",
   "metadata": {},
   "source": [
    "##### 9.\twrite a Python program to Sum of number digits in List"
   ]
  },
  {
   "cell_type": "code",
   "execution_count": 23,
   "metadata": {},
   "outputs": [
    {
     "name": "stdout",
     "output_type": "stream",
     "text": [
      "15\n",
      "7\n"
     ]
    }
   ],
   "source": [
    "def sum_digits(num): \n",
    "     \n",
    "    sum = 0\n",
    "    for i in str(num):  \n",
    "      sum += int(i)       \n",
    "    return sum\n",
    "\n",
    "print(sum_digits(12345))\n",
    "print(sum_digits(101023))"
   ]
  },
  {
   "cell_type": "markdown",
   "metadata": {},
   "source": [
    "##### 10.\twrite a Python program to Break a list into chunks of size N "
   ]
  },
  {
   "cell_type": "code",
   "execution_count": 27,
   "metadata": {},
   "outputs": [
    {
     "name": "stdout",
     "output_type": "stream",
     "text": [
      "[['chunks', 'check', '1'], [[], '0', 'lists']]\n"
     ]
    }
   ],
   "source": [
    "def chunks(lists, num):\n",
    "    for i in range(0, len(lists), num):\n",
    "        yield lists[i:i + num]\n",
    "        \n",
    "        \n",
    "print(list(chunks([\"chunks\",\"check\",'1',[],'0','lists'],3)))\n",
    "  \n"
   ]
  },
  {
   "cell_type": "markdown",
   "metadata": {},
   "source": [
    "##### 11.\twrite a Python program to Sort the values of first list using second list"
   ]
  },
  {
   "cell_type": "code",
   "execution_count": 36,
   "metadata": {},
   "outputs": [
    {
     "name": "stdout",
     "output_type": "stream",
     "text": [
      "['A', 'C', 'D', 'K', 'O', 'X']\n"
     ]
    }
   ],
   "source": [
    "def two_lists(list1, list2):\n",
    "    zipped_pairs = zip(list2,list1)\n",
    "    sorted_pairs = sorted(zipped_pairs)\n",
    "    result = [i[1] for i in sorted_pairs]\n",
    "    print(result)\n",
    "    \n",
    "list1 = [\"O\",\"X\",\"A\",\"C\",\"D\",\"K\"]\n",
    "list2 = ['5','6','1','2','3','4']\n",
    "\n",
    "two_lists(list1, list2)\n"
   ]
  },
  {
   "cell_type": "code",
   "execution_count": null,
   "metadata": {},
   "outputs": [],
   "source": []
  }
 ],
 "metadata": {
  "kernelspec": {
   "display_name": "Python 3",
   "language": "python",
   "name": "python3"
  },
  "language_info": {
   "codemirror_mode": {
    "name": "ipython",
    "version": 3
   },
   "file_extension": ".py",
   "mimetype": "text/x-python",
   "name": "python",
   "nbconvert_exporter": "python",
   "pygments_lexer": "ipython3",
   "version": "3.7.3"
  }
 },
 "nbformat": 4,
 "nbformat_minor": 2
}
